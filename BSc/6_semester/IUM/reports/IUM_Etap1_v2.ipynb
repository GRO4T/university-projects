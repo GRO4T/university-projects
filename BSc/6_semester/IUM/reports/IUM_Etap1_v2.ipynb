{
  "nbformat": 4,
  "nbformat_minor": 0,
  "metadata": {
    "colab": {
      "name": "IUM.ipynb",
      "provenance": [],
      "collapsed_sections": [
        "ErQARPul6bUd"
      ],
      "toc_visible": true
    },
    "kernelspec": {
      "name": "python3",
      "display_name": "Python 3"
    },
    "language_info": {
      "name": "python"
    }
  },
  "cells": [
    {
      "cell_type": "markdown",
      "metadata": {
        "id": "uzATTMfwiWhm"
      },
      "source": [
        "# Treść zadania"
      ]
    },
    {
      "cell_type": "markdown",
      "metadata": {
        "id": "nyJalajmiZ00"
      },
      "source": [
        "4. „Dobrze byłoby wiedzieć czy dana sesja użytkownika zakończy się zakupem. Dzięki temu nasi konsultanci będą mogli baczniej przyglądać się tym sesjom i szybciej rozwiązywać potencjalne problemy.”\n",
        "\n",
        "Dane IUM21L_Zad_04_04_v2\n",
        "\n",
        "Skład zespołu:\n",
        "* Rafał Kulus (300249)\n",
        "* Damian Kolaska (300229)"
      ]
    },
    {
      "cell_type": "markdown",
      "metadata": {
        "id": "NdGj47tDEdJi"
      },
      "source": [
        "# Etap 1\n"
      ]
    },
    {
      "cell_type": "markdown",
      "metadata": {
        "id": "i8NeT6m5BYOJ"
      },
      "source": [
        "## Problem biznesowy, zadania modelowania, założenia i kryteria sukcesu"
      ]
    },
    {
      "cell_type": "markdown",
      "metadata": {
        "id": "78LFB7_kCcXD"
      },
      "source": [
        "**Problem biznesowy**\n",
        "\n",
        "Dobrze byłoby wiedzieć czy dana sesja użytkownika zakończy się zakupem. Dzięki temu nasi konsultanci będą mogli baczniej przyglądać się tym sesjom i szybciej rozwiązywać potencjalne problemy.\n",
        "\n",
        "**Zadanie biznesowe**\n",
        "\n",
        "Oznaczanie sesji, które są warte uwagi w panelu konsultanta (nie zakończą się zakupem).\n",
        "\n",
        "**Biznesowe kryterium sukcesu**\n",
        "\n",
        "Zwiększenie szybkości rozwiązywania problemów przez konsultantów oraz większe zadowolenie klientów mierzone ocenami zakupów.\n",
        "\n",
        "Zakładamy, że zgłoszenie zajmuje średnio 30min na rozwiązanie. Zatem kryterium sukcesu w tym przypadku to obniżenie tego czasu do 20min. Oczekujemy także poprawienia się średniej oceny klientów o 0.25 (w skali 0-5).\n",
        "\n",
        "**Zadanie modelowania**\n",
        "\n",
        "Przygotowanie modelu klasyfikacji na podstawie danych sesji (przewidywanie, czy dana sesja zakończy się zakupem).\n",
        "\n",
        "**Analityczne kryterium sukcesu**\n",
        "\n",
        "Co najmniej 50% dokładność w klasyfikowaniu sesji, jeśli sesja składa się z co najmniej 4 zdarzeń.\n",
        "\n",
        "**Dane do modelowania**\n",
        "\n",
        "* informacje o sesjach użytkowników\n",
        "* baza danych klientów\n",
        "* katalog produktów\n",
        "* informacje o dostawach zamówień\n"
      ]
    },
    {
      "cell_type": "markdown",
      "metadata": {
        "id": "MubY2r9p6oez"
      },
      "source": [
        "## Wczytanie danych do pd.DataFrame"
      ]
    },
    {
      "cell_type": "code",
      "metadata": {
        "colab": {
          "base_uri": "https://localhost:8080/"
        },
        "id": "2X7T6_ANtD1v",
        "outputId": "78efb50a-006e-4364-93e0-28617cfae979"
      },
      "source": [
        "pip install jsonlines pandas numpy"
      ],
      "execution_count": 114,
      "outputs": [
        {
          "output_type": "stream",
          "text": [
            "Requirement already satisfied: jsonlines in /usr/local/lib/python3.7/dist-packages (2.0.0)\n",
            "Requirement already satisfied: pandas in /usr/local/lib/python3.7/dist-packages (1.1.5)\n",
            "Requirement already satisfied: numpy in /usr/local/lib/python3.7/dist-packages (1.19.5)\n",
            "Requirement already satisfied: pytz>=2017.2 in /usr/local/lib/python3.7/dist-packages (from pandas) (2018.9)\n",
            "Requirement already satisfied: python-dateutil>=2.7.3 in /usr/local/lib/python3.7/dist-packages (from pandas) (2.8.1)\n",
            "Requirement already satisfied: six>=1.5 in /usr/local/lib/python3.7/dist-packages (from python-dateutil>=2.7.3->pandas) (1.15.0)\n"
          ],
          "name": "stdout"
        }
      ]
    },
    {
      "cell_type": "code",
      "metadata": {
        "id": "V2uoONvFzOJR"
      },
      "source": [
        "import jsonlines\n",
        "import pandas as pd\n",
        "import numpy as np\n",
        "\n",
        "def read_jsonl(path):\n",
        "    data = []\n",
        "\n",
        "    with jsonlines.open(path) as reader:\n",
        "        for obj in reader:\n",
        "            data.append(obj)\n",
        "\n",
        "    return pd.DataFrame(data).convert_dtypes()\n"
      ],
      "execution_count": 115,
      "outputs": []
    },
    {
      "cell_type": "code",
      "metadata": {
        "id": "c-z3uhI_uRTn"
      },
      "source": [
        "users = read_jsonl('./users.jsonl')\n",
        "sessions = read_jsonl('./sessions.jsonl')\n",
        "deliveries = read_jsonl('./deliveries.jsonl')\n",
        "products = read_jsonl('./products.jsonl')"
      ],
      "execution_count": 116,
      "outputs": []
    },
    {
      "cell_type": "markdown",
      "metadata": {
        "id": "fuQDIKAmJ1RT"
      },
      "source": [
        "## Funkcje pomocnicze"
      ]
    },
    {
      "cell_type": "code",
      "metadata": {
        "id": "M9WP18iDJ3pX"
      },
      "source": [
        "def group_and_count(df, cols):\n",
        "    return df.groupby(cols).size().reset_index(name='count')\n",
        "\n",
        "def find_duplicates(df, cols):\n",
        "    res = group_and_count(df, cols)\n",
        "    return res.loc[res['count'] > 1]\n",
        "\n",
        "def get_pmf_data(col):\n",
        "    counts = col.value_counts()\n",
        "    sum = 0\n",
        "    for x in counts:\n",
        "        sum += x\n",
        "    return counts.map(lambda x: x / sum)\n",
        "\n",
        "def get_null_count(df, col):\n",
        "    return df[df[col].isnull()].shape[0]\n",
        "\n",
        "def get_total_null_count(df):\n",
        "    return df[df.isnull().any(axis=1)].shape[0]\n"
      ],
      "execution_count": 117,
      "outputs": []
    },
    {
      "cell_type": "markdown",
      "metadata": {
        "id": "w4jZd32C7bqz"
      },
      "source": [
        "## Analiza danych, anomalie i ich poprawa"
      ]
    },
    {
      "cell_type": "markdown",
      "metadata": {
        "id": "8abFWNDhF_Sc"
      },
      "source": [
        "### Użytkownicy"
      ]
    },
    {
      "cell_type": "code",
      "metadata": {
        "id": "jjm5I62DGDJe",
        "colab": {
          "base_uri": "https://localhost:8080/",
          "height": 419
        },
        "outputId": "3b4864a8-74b5-483f-ac1f-8b8edfe6111f"
      },
      "source": [
        "users"
      ],
      "execution_count": 118,
      "outputs": [
        {
          "output_type": "execute_result",
          "data": {
            "text/html": [
              "<div>\n",
              "<style scoped>\n",
              "    .dataframe tbody tr th:only-of-type {\n",
              "        vertical-align: middle;\n",
              "    }\n",
              "\n",
              "    .dataframe tbody tr th {\n",
              "        vertical-align: top;\n",
              "    }\n",
              "\n",
              "    .dataframe thead th {\n",
              "        text-align: right;\n",
              "    }\n",
              "</style>\n",
              "<table border=\"1\" class=\"dataframe\">\n",
              "  <thead>\n",
              "    <tr style=\"text-align: right;\">\n",
              "      <th></th>\n",
              "      <th>user_id</th>\n",
              "      <th>name</th>\n",
              "      <th>city</th>\n",
              "      <th>street</th>\n",
              "    </tr>\n",
              "  </thead>\n",
              "  <tbody>\n",
              "    <tr>\n",
              "      <th>0</th>\n",
              "      <td>102</td>\n",
              "      <td>Aurelia Malon</td>\n",
              "      <td>Police</td>\n",
              "      <td>pl. Brzoskwiniowa 11/53</td>\n",
              "    </tr>\n",
              "    <tr>\n",
              "      <th>1</th>\n",
              "      <td>103</td>\n",
              "      <td>Mateusz Kobel</td>\n",
              "      <td>Police</td>\n",
              "      <td>al. Wrocławska 10</td>\n",
              "    </tr>\n",
              "    <tr>\n",
              "      <th>2</th>\n",
              "      <td>104</td>\n",
              "      <td>Radosław Ratka</td>\n",
              "      <td>Mielec</td>\n",
              "      <td>pl. Nowa 89/04</td>\n",
              "    </tr>\n",
              "    <tr>\n",
              "      <th>3</th>\n",
              "      <td>105</td>\n",
              "      <td>Anastazja Oszust</td>\n",
              "      <td>Szczecin</td>\n",
              "      <td>ul. Częstochowska 80</td>\n",
              "    </tr>\n",
              "    <tr>\n",
              "      <th>4</th>\n",
              "      <td>106</td>\n",
              "      <td>Sylwia Nurek</td>\n",
              "      <td>Szczecin</td>\n",
              "      <td>al. Wiosenna 72</td>\n",
              "    </tr>\n",
              "    <tr>\n",
              "      <th>...</th>\n",
              "      <td>...</td>\n",
              "      <td>...</td>\n",
              "      <td>...</td>\n",
              "      <td>...</td>\n",
              "    </tr>\n",
              "    <tr>\n",
              "      <th>195</th>\n",
              "      <td>297</td>\n",
              "      <td>Andrzej Kreczmer</td>\n",
              "      <td>Szczecin</td>\n",
              "      <td>ul. Zdrojowa 43/11</td>\n",
              "    </tr>\n",
              "    <tr>\n",
              "      <th>196</th>\n",
              "      <td>298</td>\n",
              "      <td>Natan Świadek</td>\n",
              "      <td>Mielec</td>\n",
              "      <td>pl. Staffa 801</td>\n",
              "    </tr>\n",
              "    <tr>\n",
              "      <th>197</th>\n",
              "      <td>299</td>\n",
              "      <td>Jeremi Kajstura</td>\n",
              "      <td>Konin</td>\n",
              "      <td>pl. Wiklinowa 022</td>\n",
              "    </tr>\n",
              "    <tr>\n",
              "      <th>198</th>\n",
              "      <td>300</td>\n",
              "      <td>Gustaw Cofała</td>\n",
              "      <td>Gdynia</td>\n",
              "      <td>ulica Krakowska 847</td>\n",
              "    </tr>\n",
              "    <tr>\n",
              "      <th>199</th>\n",
              "      <td>301</td>\n",
              "      <td>Sara Nóżka</td>\n",
              "      <td>Warszawa</td>\n",
              "      <td>aleja Słoneczna 78/05</td>\n",
              "    </tr>\n",
              "  </tbody>\n",
              "</table>\n",
              "<p>200 rows × 4 columns</p>\n",
              "</div>"
            ],
            "text/plain": [
              "     user_id              name      city                   street\n",
              "0        102     Aurelia Malon    Police  pl. Brzoskwiniowa 11/53\n",
              "1        103     Mateusz Kobel    Police        al. Wrocławska 10\n",
              "2        104    Radosław Ratka    Mielec           pl. Nowa 89/04\n",
              "3        105  Anastazja Oszust  Szczecin     ul. Częstochowska 80\n",
              "4        106      Sylwia Nurek  Szczecin          al. Wiosenna 72\n",
              "..       ...               ...       ...                      ...\n",
              "195      297  Andrzej Kreczmer  Szczecin       ul. Zdrojowa 43/11\n",
              "196      298     Natan Świadek    Mielec           pl. Staffa 801\n",
              "197      299   Jeremi Kajstura     Konin        pl. Wiklinowa 022\n",
              "198      300     Gustaw Cofała    Gdynia      ulica Krakowska 847\n",
              "199      301        Sara Nóżka  Warszawa    aleja Słoneczna 78/05\n",
              "\n",
              "[200 rows x 4 columns]"
            ]
          },
          "metadata": {
            "tags": []
          },
          "execution_count": 118
        }
      ]
    },
    {
      "cell_type": "markdown",
      "metadata": {
        "id": "gn5EBVFuMehp"
      },
      "source": [
        "Ze względu na małą wielkość tabeli pozwoliliśmy sobie na jej wizualną analizę. Doszliśmy do wniosku, że nie ma w niej brakujących ani odstających wartości."
      ]
    },
    {
      "cell_type": "markdown",
      "metadata": {
        "id": "PM37Lzx6HvWz"
      },
      "source": [
        "Na pierwszy rzut oka wygląda, że kolumny `name` i `street` posiadają unikalne wartości dyskretne nominalne."
      ]
    },
    {
      "cell_type": "code",
      "metadata": {
        "id": "HAUTXGjLIHAZ",
        "colab": {
          "base_uri": "https://localhost:8080/",
          "height": 49
        },
        "outputId": "905d17a4-0467-4e34-8953-af66de744796"
      },
      "source": [
        "find_duplicates(users, ['name'])"
      ],
      "execution_count": 119,
      "outputs": [
        {
          "output_type": "execute_result",
          "data": {
            "text/html": [
              "<div>\n",
              "<style scoped>\n",
              "    .dataframe tbody tr th:only-of-type {\n",
              "        vertical-align: middle;\n",
              "    }\n",
              "\n",
              "    .dataframe tbody tr th {\n",
              "        vertical-align: top;\n",
              "    }\n",
              "\n",
              "    .dataframe thead th {\n",
              "        text-align: right;\n",
              "    }\n",
              "</style>\n",
              "<table border=\"1\" class=\"dataframe\">\n",
              "  <thead>\n",
              "    <tr style=\"text-align: right;\">\n",
              "      <th></th>\n",
              "      <th>name</th>\n",
              "      <th>count</th>\n",
              "    </tr>\n",
              "  </thead>\n",
              "  <tbody>\n",
              "  </tbody>\n",
              "</table>\n",
              "</div>"
            ],
            "text/plain": [
              "Empty DataFrame\n",
              "Columns: [name, count]\n",
              "Index: []"
            ]
          },
          "metadata": {
            "tags": []
          },
          "execution_count": 119
        }
      ]
    },
    {
      "cell_type": "code",
      "metadata": {
        "id": "DeCh8fByMLn8",
        "colab": {
          "base_uri": "https://localhost:8080/",
          "height": 49
        },
        "outputId": "74c49558-d6ce-4e37-a534-3e7d5db0ba58"
      },
      "source": [
        "find_duplicates(users, ['street'])"
      ],
      "execution_count": 120,
      "outputs": [
        {
          "output_type": "execute_result",
          "data": {
            "text/html": [
              "<div>\n",
              "<style scoped>\n",
              "    .dataframe tbody tr th:only-of-type {\n",
              "        vertical-align: middle;\n",
              "    }\n",
              "\n",
              "    .dataframe tbody tr th {\n",
              "        vertical-align: top;\n",
              "    }\n",
              "\n",
              "    .dataframe thead th {\n",
              "        text-align: right;\n",
              "    }\n",
              "</style>\n",
              "<table border=\"1\" class=\"dataframe\">\n",
              "  <thead>\n",
              "    <tr style=\"text-align: right;\">\n",
              "      <th></th>\n",
              "      <th>street</th>\n",
              "      <th>count</th>\n",
              "    </tr>\n",
              "  </thead>\n",
              "  <tbody>\n",
              "  </tbody>\n",
              "</table>\n",
              "</div>"
            ],
            "text/plain": [
              "Empty DataFrame\n",
              "Columns: [street, count]\n",
              "Index: []"
            ]
          },
          "metadata": {
            "tags": []
          },
          "execution_count": 120
        }
      ]
    },
    {
      "cell_type": "markdown",
      "metadata": {
        "id": "uk9z01xsO9cJ"
      },
      "source": [
        "Powyższą hipotezę potwierdziły wywołania funkcji `find_duplicates`. Mając na uwadze typ danych, a także ich unikalność, stwierdziliśmy, że kolumny `name` i `street` nie wnoszą same z siebie żadnej informacji. Owszem, te dane będą mogły zostać w jakiś sposób wykorzystane, jak już będziemy mieli gotowy model, ale na etapie samego modelowania są naszym zdaniem bezużyteczne. Niemniej jednak da się z tych kolumn wyciągnąć wartościowe dane.\n",
        "\n",
        "Na podstawie danych z kolumny `street` moglibyśmy w teorii wyznaczyć przybliżoną lokalizację w postaci długości i szerokości geograficznej, jednak taki proces byłby zbyt kosztowny i relatywnie mało wniósłby do naszego zbioru danych ze względu na fakt posiadania kolumny `city`.\n",
        "\n",
        "Z kolumny `name` możemy z dużą dokładnością odgadnąć płeć użytkownika kierując się heurystyką, że imiona kobiet kończą się literą *a* (w przeciwieństwie do imion mężczyzn). Zadanie wydaje się dosyć proste, a uzyskana informacja może się okazać dla nas bardzo cenna na późniejszym etapie."
      ]
    },
    {
      "cell_type": "code",
      "metadata": {
        "id": "LKEudInOSGbS",
        "colab": {
          "base_uri": "https://localhost:8080/",
          "height": 419
        },
        "outputId": "8e4b0068-3b9a-4b53-f93a-9279076da32b"
      },
      "source": [
        "genders = []\n",
        "for n in users.name:\n",
        "    first_name = n.split()[0]\n",
        "    genders.append('F' if first_name[-1] == 'a' else 'M')\n",
        "\n",
        "users = users.assign(gender=genders)\n",
        "\n",
        "users"
      ],
      "execution_count": 121,
      "outputs": [
        {
          "output_type": "execute_result",
          "data": {
            "text/html": [
              "<div>\n",
              "<style scoped>\n",
              "    .dataframe tbody tr th:only-of-type {\n",
              "        vertical-align: middle;\n",
              "    }\n",
              "\n",
              "    .dataframe tbody tr th {\n",
              "        vertical-align: top;\n",
              "    }\n",
              "\n",
              "    .dataframe thead th {\n",
              "        text-align: right;\n",
              "    }\n",
              "</style>\n",
              "<table border=\"1\" class=\"dataframe\">\n",
              "  <thead>\n",
              "    <tr style=\"text-align: right;\">\n",
              "      <th></th>\n",
              "      <th>user_id</th>\n",
              "      <th>name</th>\n",
              "      <th>city</th>\n",
              "      <th>street</th>\n",
              "      <th>gender</th>\n",
              "    </tr>\n",
              "  </thead>\n",
              "  <tbody>\n",
              "    <tr>\n",
              "      <th>0</th>\n",
              "      <td>102</td>\n",
              "      <td>Aurelia Malon</td>\n",
              "      <td>Police</td>\n",
              "      <td>pl. Brzoskwiniowa 11/53</td>\n",
              "      <td>F</td>\n",
              "    </tr>\n",
              "    <tr>\n",
              "      <th>1</th>\n",
              "      <td>103</td>\n",
              "      <td>Mateusz Kobel</td>\n",
              "      <td>Police</td>\n",
              "      <td>al. Wrocławska 10</td>\n",
              "      <td>M</td>\n",
              "    </tr>\n",
              "    <tr>\n",
              "      <th>2</th>\n",
              "      <td>104</td>\n",
              "      <td>Radosław Ratka</td>\n",
              "      <td>Mielec</td>\n",
              "      <td>pl. Nowa 89/04</td>\n",
              "      <td>M</td>\n",
              "    </tr>\n",
              "    <tr>\n",
              "      <th>3</th>\n",
              "      <td>105</td>\n",
              "      <td>Anastazja Oszust</td>\n",
              "      <td>Szczecin</td>\n",
              "      <td>ul. Częstochowska 80</td>\n",
              "      <td>F</td>\n",
              "    </tr>\n",
              "    <tr>\n",
              "      <th>4</th>\n",
              "      <td>106</td>\n",
              "      <td>Sylwia Nurek</td>\n",
              "      <td>Szczecin</td>\n",
              "      <td>al. Wiosenna 72</td>\n",
              "      <td>F</td>\n",
              "    </tr>\n",
              "    <tr>\n",
              "      <th>...</th>\n",
              "      <td>...</td>\n",
              "      <td>...</td>\n",
              "      <td>...</td>\n",
              "      <td>...</td>\n",
              "      <td>...</td>\n",
              "    </tr>\n",
              "    <tr>\n",
              "      <th>195</th>\n",
              "      <td>297</td>\n",
              "      <td>Andrzej Kreczmer</td>\n",
              "      <td>Szczecin</td>\n",
              "      <td>ul. Zdrojowa 43/11</td>\n",
              "      <td>M</td>\n",
              "    </tr>\n",
              "    <tr>\n",
              "      <th>196</th>\n",
              "      <td>298</td>\n",
              "      <td>Natan Świadek</td>\n",
              "      <td>Mielec</td>\n",
              "      <td>pl. Staffa 801</td>\n",
              "      <td>M</td>\n",
              "    </tr>\n",
              "    <tr>\n",
              "      <th>197</th>\n",
              "      <td>299</td>\n",
              "      <td>Jeremi Kajstura</td>\n",
              "      <td>Konin</td>\n",
              "      <td>pl. Wiklinowa 022</td>\n",
              "      <td>M</td>\n",
              "    </tr>\n",
              "    <tr>\n",
              "      <th>198</th>\n",
              "      <td>300</td>\n",
              "      <td>Gustaw Cofała</td>\n",
              "      <td>Gdynia</td>\n",
              "      <td>ulica Krakowska 847</td>\n",
              "      <td>M</td>\n",
              "    </tr>\n",
              "    <tr>\n",
              "      <th>199</th>\n",
              "      <td>301</td>\n",
              "      <td>Sara Nóżka</td>\n",
              "      <td>Warszawa</td>\n",
              "      <td>aleja Słoneczna 78/05</td>\n",
              "      <td>F</td>\n",
              "    </tr>\n",
              "  </tbody>\n",
              "</table>\n",
              "<p>200 rows × 5 columns</p>\n",
              "</div>"
            ],
            "text/plain": [
              "     user_id              name      city                   street gender\n",
              "0        102     Aurelia Malon    Police  pl. Brzoskwiniowa 11/53      F\n",
              "1        103     Mateusz Kobel    Police        al. Wrocławska 10      M\n",
              "2        104    Radosław Ratka    Mielec           pl. Nowa 89/04      M\n",
              "3        105  Anastazja Oszust  Szczecin     ul. Częstochowska 80      F\n",
              "4        106      Sylwia Nurek  Szczecin          al. Wiosenna 72      F\n",
              "..       ...               ...       ...                      ...    ...\n",
              "195      297  Andrzej Kreczmer  Szczecin       ul. Zdrojowa 43/11      M\n",
              "196      298     Natan Świadek    Mielec           pl. Staffa 801      M\n",
              "197      299   Jeremi Kajstura     Konin        pl. Wiklinowa 022      M\n",
              "198      300     Gustaw Cofała    Gdynia      ulica Krakowska 847      M\n",
              "199      301        Sara Nóżka  Warszawa    aleja Słoneczna 78/05      F\n",
              "\n",
              "[200 rows x 5 columns]"
            ]
          },
          "metadata": {
            "tags": []
          },
          "execution_count": 121
        }
      ]
    },
    {
      "cell_type": "markdown",
      "metadata": {
        "id": "hrfbgfGhWiN-"
      },
      "source": [
        "Możemy teraz pozbyć się kolumn `name` i `street`, aby nie zaciemniać obrazu. Kolumna `user_id` przyda się przy denormalizacji danych."
      ]
    },
    {
      "cell_type": "code",
      "metadata": {
        "id": "bNAzuuCW21JI",
        "colab": {
          "base_uri": "https://localhost:8080/",
          "height": 419
        },
        "outputId": "849b98e8-fe71-47b0-be5e-e9ddfec6a569"
      },
      "source": [
        "users.drop('name', 1, inplace=True)\n",
        "users.drop('street', 1, inplace=True)\n",
        "\n",
        "users"
      ],
      "execution_count": 122,
      "outputs": [
        {
          "output_type": "execute_result",
          "data": {
            "text/html": [
              "<div>\n",
              "<style scoped>\n",
              "    .dataframe tbody tr th:only-of-type {\n",
              "        vertical-align: middle;\n",
              "    }\n",
              "\n",
              "    .dataframe tbody tr th {\n",
              "        vertical-align: top;\n",
              "    }\n",
              "\n",
              "    .dataframe thead th {\n",
              "        text-align: right;\n",
              "    }\n",
              "</style>\n",
              "<table border=\"1\" class=\"dataframe\">\n",
              "  <thead>\n",
              "    <tr style=\"text-align: right;\">\n",
              "      <th></th>\n",
              "      <th>user_id</th>\n",
              "      <th>city</th>\n",
              "      <th>gender</th>\n",
              "    </tr>\n",
              "  </thead>\n",
              "  <tbody>\n",
              "    <tr>\n",
              "      <th>0</th>\n",
              "      <td>102</td>\n",
              "      <td>Police</td>\n",
              "      <td>F</td>\n",
              "    </tr>\n",
              "    <tr>\n",
              "      <th>1</th>\n",
              "      <td>103</td>\n",
              "      <td>Police</td>\n",
              "      <td>M</td>\n",
              "    </tr>\n",
              "    <tr>\n",
              "      <th>2</th>\n",
              "      <td>104</td>\n",
              "      <td>Mielec</td>\n",
              "      <td>M</td>\n",
              "    </tr>\n",
              "    <tr>\n",
              "      <th>3</th>\n",
              "      <td>105</td>\n",
              "      <td>Szczecin</td>\n",
              "      <td>F</td>\n",
              "    </tr>\n",
              "    <tr>\n",
              "      <th>4</th>\n",
              "      <td>106</td>\n",
              "      <td>Szczecin</td>\n",
              "      <td>F</td>\n",
              "    </tr>\n",
              "    <tr>\n",
              "      <th>...</th>\n",
              "      <td>...</td>\n",
              "      <td>...</td>\n",
              "      <td>...</td>\n",
              "    </tr>\n",
              "    <tr>\n",
              "      <th>195</th>\n",
              "      <td>297</td>\n",
              "      <td>Szczecin</td>\n",
              "      <td>M</td>\n",
              "    </tr>\n",
              "    <tr>\n",
              "      <th>196</th>\n",
              "      <td>298</td>\n",
              "      <td>Mielec</td>\n",
              "      <td>M</td>\n",
              "    </tr>\n",
              "    <tr>\n",
              "      <th>197</th>\n",
              "      <td>299</td>\n",
              "      <td>Konin</td>\n",
              "      <td>M</td>\n",
              "    </tr>\n",
              "    <tr>\n",
              "      <th>198</th>\n",
              "      <td>300</td>\n",
              "      <td>Gdynia</td>\n",
              "      <td>M</td>\n",
              "    </tr>\n",
              "    <tr>\n",
              "      <th>199</th>\n",
              "      <td>301</td>\n",
              "      <td>Warszawa</td>\n",
              "      <td>F</td>\n",
              "    </tr>\n",
              "  </tbody>\n",
              "</table>\n",
              "<p>200 rows × 3 columns</p>\n",
              "</div>"
            ],
            "text/plain": [
              "     user_id      city gender\n",
              "0        102    Police      F\n",
              "1        103    Police      M\n",
              "2        104    Mielec      M\n",
              "3        105  Szczecin      F\n",
              "4        106  Szczecin      F\n",
              "..       ...       ...    ...\n",
              "195      297  Szczecin      M\n",
              "196      298    Mielec      M\n",
              "197      299     Konin      M\n",
              "198      300    Gdynia      M\n",
              "199      301  Warszawa      F\n",
              "\n",
              "[200 rows x 3 columns]"
            ]
          },
          "metadata": {
            "tags": []
          },
          "execution_count": 122
        }
      ]
    },
    {
      "cell_type": "markdown",
      "metadata": {
        "id": "GgRbz2RY3PdR"
      },
      "source": [
        "Na koniec upewnijmy się, że `user_id` nie zawiera duplikatów, a także wygenerujmy wykresy funkcji masy prawdopodobieństwa dla pozostałych dwóch kolumn."
      ]
    },
    {
      "cell_type": "code",
      "metadata": {
        "id": "enHA2dcP5kNA",
        "colab": {
          "base_uri": "https://localhost:8080/",
          "height": 49
        },
        "outputId": "91f20214-ee98-47a4-9244-58626bdf1135"
      },
      "source": [
        "find_duplicates(users, ['user_id'])"
      ],
      "execution_count": 123,
      "outputs": [
        {
          "output_type": "execute_result",
          "data": {
            "text/html": [
              "<div>\n",
              "<style scoped>\n",
              "    .dataframe tbody tr th:only-of-type {\n",
              "        vertical-align: middle;\n",
              "    }\n",
              "\n",
              "    .dataframe tbody tr th {\n",
              "        vertical-align: top;\n",
              "    }\n",
              "\n",
              "    .dataframe thead th {\n",
              "        text-align: right;\n",
              "    }\n",
              "</style>\n",
              "<table border=\"1\" class=\"dataframe\">\n",
              "  <thead>\n",
              "    <tr style=\"text-align: right;\">\n",
              "      <th></th>\n",
              "      <th>user_id</th>\n",
              "      <th>count</th>\n",
              "    </tr>\n",
              "  </thead>\n",
              "  <tbody>\n",
              "  </tbody>\n",
              "</table>\n",
              "</div>"
            ],
            "text/plain": [
              "Empty DataFrame\n",
              "Columns: [user_id, count]\n",
              "Index: []"
            ]
          },
          "metadata": {
            "tags": []
          },
          "execution_count": 123
        }
      ]
    },
    {
      "cell_type": "code",
      "metadata": {
        "id": "S5LA7Ocg5j9Z",
        "colab": {
          "base_uri": "https://localhost:8080/",
          "height": 323
        },
        "outputId": "9c1910a3-8aa0-4018-e7fd-9302af8fcf92"
      },
      "source": [
        "get_pmf_data(users.city).plot(kind='bar')"
      ],
      "execution_count": 124,
      "outputs": [
        {
          "output_type": "execute_result",
          "data": {
            "text/plain": [
              "<matplotlib.axes._subplots.AxesSubplot at 0x7fe80a042c90>"
            ]
          },
          "metadata": {
            "tags": []
          },
          "execution_count": 124
        },
        {
          "output_type": "display_data",
          "data": {
            "image/png": "[encoded data removed]",
            "text/plain": [
              "<Figure size 432x288 with 1 Axes>"
            ]
          },
          "metadata": {
            "tags": [],
            "needs_background": "light"
          }
        }
      ]
    },
    {
      "cell_type": "code",
      "metadata": {
        "id": "A_XrcZLZ3siX",
        "colab": {
          "base_uri": "https://localhost:8080/",
          "height": 282
        },
        "outputId": "5e035a92-f9e0-43ef-ce0b-eea9160079bc"
      },
      "source": [
        "get_pmf_data(users.gender).plot(kind='bar')"
      ],
      "execution_count": 125,
      "outputs": [
        {
          "output_type": "execute_result",
          "data": {
            "text/plain": [
              "<matplotlib.axes._subplots.AxesSubplot at 0x7fe80a1e29d0>"
            ]
          },
          "metadata": {
            "tags": []
          },
          "execution_count": 125
        },
        {
          "output_type": "display_data",
          "data": {
            "image/png": "[encoded data removed]",
            "text/plain": [
              "<Figure size 432x288 with 1 Axes>"
            ]
          },
          "metadata": {
            "tags": [],
            "needs_background": "light"
          }
        }
      ]
    },
    {
      "cell_type": "markdown",
      "metadata": {
        "id": "tjc2MxOaDEdi"
      },
      "source": [
        "### Produkty\n"
      ]
    },
    {
      "cell_type": "code",
      "metadata": {
        "id": "91hORb26_zvJ",
        "colab": {
          "base_uri": "https://localhost:8080/",
          "height": 419
        },
        "outputId": "05ef496d-439f-4fd5-d1ea-f3f92f05931d"
      },
      "source": [
        "products"
      ],
      "execution_count": 126,
      "outputs": [
        {
          "output_type": "execute_result",
          "data": {
            "text/html": [
              "<div>\n",
              "<style scoped>\n",
              "    .dataframe tbody tr th:only-of-type {\n",
              "        vertical-align: middle;\n",
              "    }\n",
              "\n",
              "    .dataframe tbody tr th {\n",
              "        vertical-align: top;\n",
              "    }\n",
              "\n",
              "    .dataframe thead th {\n",
              "        text-align: right;\n",
              "    }\n",
              "</style>\n",
              "<table border=\"1\" class=\"dataframe\">\n",
              "  <thead>\n",
              "    <tr style=\"text-align: right;\">\n",
              "      <th></th>\n",
              "      <th>product_id</th>\n",
              "      <th>product_name</th>\n",
              "      <th>category_path</th>\n",
              "      <th>price</th>\n",
              "    </tr>\n",
              "  </thead>\n",
              "  <tbody>\n",
              "    <tr>\n",
              "      <th>0</th>\n",
              "      <td>1001</td>\n",
              "      <td>Telefon Siemens Gigaset DA310</td>\n",
              "      <td>Telefony i akcesoria;Telefony stacjonarne</td>\n",
              "      <td>58.97</td>\n",
              "    </tr>\n",
              "    <tr>\n",
              "      <th>1</th>\n",
              "      <td>1002</td>\n",
              "      <td>Kyocera FS-1135MFP</td>\n",
              "      <td>Komputery;Drukarki i skanery;Biurowe urządzeni...</td>\n",
              "      <td>2048.50</td>\n",
              "    </tr>\n",
              "    <tr>\n",
              "      <th>2</th>\n",
              "      <td>1003</td>\n",
              "      <td>Kyocera FS-3640MFP</td>\n",
              "      <td>Komputery;Drukarki i skanery;Biurowe urządzeni...</td>\n",
              "      <td>7639.00</td>\n",
              "    </tr>\n",
              "    <tr>\n",
              "      <th>3</th>\n",
              "      <td>1004</td>\n",
              "      <td>Fallout 3 (Xbox 360)</td>\n",
              "      <td>Gry i konsole;Gry na konsole;Gry Xbox 360</td>\n",
              "      <td>49.99</td>\n",
              "    </tr>\n",
              "    <tr>\n",
              "      <th>4</th>\n",
              "      <td>1005</td>\n",
              "      <td>Szalone Króliki Na żywo i w kolorze (Xbox 360)</td>\n",
              "      <td>Gry i konsole;Gry na konsole;Gry Xbox 360</td>\n",
              "      <td>49.99</td>\n",
              "    </tr>\n",
              "    <tr>\n",
              "      <th>...</th>\n",
              "      <td>...</td>\n",
              "      <td>...</td>\n",
              "      <td>...</td>\n",
              "      <td>...</td>\n",
              "    </tr>\n",
              "    <tr>\n",
              "      <th>314</th>\n",
              "      <td>1315</td>\n",
              "      <td>Jabra Talk</td>\n",
              "      <td>Telefony i akcesoria;Akcesoria telefoniczne;Ze...</td>\n",
              "      <td>54.99</td>\n",
              "    </tr>\n",
              "    <tr>\n",
              "      <th>315</th>\n",
              "      <td>1316</td>\n",
              "      <td>Plantronics Voyager Legend</td>\n",
              "      <td>Telefony i akcesoria;Akcesoria telefoniczne;Ze...</td>\n",
              "      <td>249.00</td>\n",
              "    </tr>\n",
              "    <tr>\n",
              "      <th>316</th>\n",
              "      <td>1317</td>\n",
              "      <td>Plantronics Savi W740</td>\n",
              "      <td>Telefony i akcesoria;Akcesoria telefoniczne;Ze...</td>\n",
              "      <td>1303.96</td>\n",
              "    </tr>\n",
              "    <tr>\n",
              "      <th>317</th>\n",
              "      <td>1318</td>\n",
              "      <td>Plantronics Savi W710</td>\n",
              "      <td>Sprzęt RTV;Audio;Słuchawki</td>\n",
              "      <td>553.00</td>\n",
              "    </tr>\n",
              "    <tr>\n",
              "      <th>318</th>\n",
              "      <td>1319</td>\n",
              "      <td>HTC HS-S200</td>\n",
              "      <td>Telefony i akcesoria;Akcesoria telefoniczne;Ze...</td>\n",
              "      <td>14.99</td>\n",
              "    </tr>\n",
              "  </tbody>\n",
              "</table>\n",
              "<p>319 rows × 4 columns</p>\n",
              "</div>"
            ],
            "text/plain": [
              "     product_id  ...    price\n",
              "0          1001  ...    58.97\n",
              "1          1002  ...  2048.50\n",
              "2          1003  ...  7639.00\n",
              "3          1004  ...    49.99\n",
              "4          1005  ...    49.99\n",
              "..          ...  ...      ...\n",
              "314        1315  ...    54.99\n",
              "315        1316  ...   249.00\n",
              "316        1317  ...  1303.96\n",
              "317        1318  ...   553.00\n",
              "318        1319  ...    14.99\n",
              "\n",
              "[319 rows x 4 columns]"
            ]
          },
          "metadata": {
            "tags": []
          },
          "execution_count": 126
        }
      ]
    },
    {
      "cell_type": "markdown",
      "metadata": {
        "id": "iUceptqeXOnE"
      },
      "source": [
        "Podobnie jak w przypadku tabeli z użytkownikami, tą tabelę także przeanalizowaliśmy wizualnie i nie zauważyliśmy brakujących danych. W poprzedniej wersji danych znaleźliśmy natomiast 3 problemy:\n",
        "1. produkt o id == 1076 posiada bardzo długą nazwę, w której nazwa produktu stanowi tylko jej pierwszą część,\n",
        "2. niektóre produkty posiadają ujemne ceny\n",
        "3. niektóre produkty posiadają ceny *z kosmosu*\n",
        "\n",
        "Jednak problemy 2. i 3. w nowych danych nie występują."
      ]
    },
    {
      "cell_type": "markdown",
      "metadata": {
        "id": "OkY0HIPME036"
      },
      "source": [
        "#### Ujemne ceny produktów i ceny *z kosmosu*\n",
        "Pierwotne dane zawierały ujemne ceny oraz ceny, które były 10^6 razy większe od normalnych.\n",
        "Widzimy, że zostało to poprawione w kolejnej wersji danych."
      ]
    },
    {
      "cell_type": "code",
      "metadata": {
        "id": "RdQjfmEEICbn",
        "colab": {
          "base_uri": "https://localhost:8080/",
          "height": 49
        },
        "outputId": "79947c1d-4c3a-401b-ecc5-bc2f8f0a1543"
      },
      "source": [
        "products[products.price < 0].head(8)"
      ],
      "execution_count": 127,
      "outputs": [
        {
          "output_type": "execute_result",
          "data": {
            "text/html": [
              "<div>\n",
              "<style scoped>\n",
              "    .dataframe tbody tr th:only-of-type {\n",
              "        vertical-align: middle;\n",
              "    }\n",
              "\n",
              "    .dataframe tbody tr th {\n",
              "        vertical-align: top;\n",
              "    }\n",
              "\n",
              "    .dataframe thead th {\n",
              "        text-align: right;\n",
              "    }\n",
              "</style>\n",
              "<table border=\"1\" class=\"dataframe\">\n",
              "  <thead>\n",
              "    <tr style=\"text-align: right;\">\n",
              "      <th></th>\n",
              "      <th>product_id</th>\n",
              "      <th>product_name</th>\n",
              "      <th>category_path</th>\n",
              "      <th>price</th>\n",
              "    </tr>\n",
              "  </thead>\n",
              "  <tbody>\n",
              "  </tbody>\n",
              "</table>\n",
              "</div>"
            ],
            "text/plain": [
              "Empty DataFrame\n",
              "Columns: [product_id, product_name, category_path, price]\n",
              "Index: []"
            ]
          },
          "metadata": {
            "tags": []
          },
          "execution_count": 127
        }
      ]
    },
    {
      "cell_type": "code",
      "metadata": {
        "id": "UAOyDfZ8eWHg",
        "colab": {
          "base_uri": "https://localhost:8080/",
          "height": 49
        },
        "outputId": "ccce1167-4b0d-435c-c73a-16f590ef6910"
      },
      "source": [
        "PRICE_THRESHOLD = 100000\n",
        "products[products.price > PRICE_THRESHOLD].head(8)"
      ],
      "execution_count": 128,
      "outputs": [
        {
          "output_type": "execute_result",
          "data": {
            "text/html": [
              "<div>\n",
              "<style scoped>\n",
              "    .dataframe tbody tr th:only-of-type {\n",
              "        vertical-align: middle;\n",
              "    }\n",
              "\n",
              "    .dataframe tbody tr th {\n",
              "        vertical-align: top;\n",
              "    }\n",
              "\n",
              "    .dataframe thead th {\n",
              "        text-align: right;\n",
              "    }\n",
              "</style>\n",
              "<table border=\"1\" class=\"dataframe\">\n",
              "  <thead>\n",
              "    <tr style=\"text-align: right;\">\n",
              "      <th></th>\n",
              "      <th>product_id</th>\n",
              "      <th>product_name</th>\n",
              "      <th>category_path</th>\n",
              "      <th>price</th>\n",
              "    </tr>\n",
              "  </thead>\n",
              "  <tbody>\n",
              "  </tbody>\n",
              "</table>\n",
              "</div>"
            ],
            "text/plain": [
              "Empty DataFrame\n",
              "Columns: [product_id, product_name, category_path, price]\n",
              "Index: []"
            ]
          },
          "metadata": {
            "tags": []
          },
          "execution_count": 128
        }
      ]
    },
    {
      "cell_type": "markdown",
      "metadata": {
        "id": "0hHowsYbZT4V"
      },
      "source": [
        "#### Nazwy produktów"
      ]
    },
    {
      "cell_type": "markdown",
      "metadata": {
        "id": "Kc5WFnu_Zbjo"
      },
      "source": [
        "Sytuacja analogiczna do kolumn `name` i `street` z tabeli z użytkownikami. Po upewnieniu się, że `product_name` nie zawiera duplikatów, możemy pozbyć się tej kolumny, ponieważ nie jesteśmy w stanie wyciągnąć z niej żadnej informacji. Nie przejmujemy się także pojedynczym produktem ze zbyt długą nazwą, ponieważ mimo tego zawiera on na początku właściwą nazwę produktu."
      ]
    },
    {
      "cell_type": "code",
      "metadata": {
        "id": "d9EMXnxgkeCx",
        "colab": {
          "base_uri": "https://localhost:8080/",
          "height": 49
        },
        "outputId": "f6713464-7f96-4680-9e78-9fc65a4c9cdb"
      },
      "source": [
        "find_duplicates(products, ['product_name'])"
      ],
      "execution_count": 129,
      "outputs": [
        {
          "output_type": "execute_result",
          "data": {
            "text/html": [
              "<div>\n",
              "<style scoped>\n",
              "    .dataframe tbody tr th:only-of-type {\n",
              "        vertical-align: middle;\n",
              "    }\n",
              "\n",
              "    .dataframe tbody tr th {\n",
              "        vertical-align: top;\n",
              "    }\n",
              "\n",
              "    .dataframe thead th {\n",
              "        text-align: right;\n",
              "    }\n",
              "</style>\n",
              "<table border=\"1\" class=\"dataframe\">\n",
              "  <thead>\n",
              "    <tr style=\"text-align: right;\">\n",
              "      <th></th>\n",
              "      <th>product_name</th>\n",
              "      <th>count</th>\n",
              "    </tr>\n",
              "  </thead>\n",
              "  <tbody>\n",
              "  </tbody>\n",
              "</table>\n",
              "</div>"
            ],
            "text/plain": [
              "Empty DataFrame\n",
              "Columns: [product_name, count]\n",
              "Index: []"
            ]
          },
          "metadata": {
            "tags": []
          },
          "execution_count": 129
        }
      ]
    },
    {
      "cell_type": "code",
      "metadata": {
        "id": "gVznI7CAkobH"
      },
      "source": [
        "products.drop('product_name', 1, inplace=True)"
      ],
      "execution_count": 130,
      "outputs": []
    },
    {
      "cell_type": "markdown",
      "metadata": {
        "id": "NhwHdSopmVO2"
      },
      "source": [
        "#### Rozkłady cen i kategorii"
      ]
    },
    {
      "cell_type": "markdown",
      "metadata": {
        "id": "IrmXxtSmtmlL"
      },
      "source": [
        "Zacznijmy od wygenerowania rozkładu cen."
      ]
    },
    {
      "cell_type": "code",
      "metadata": {
        "id": "Gv-Y8ES9mm_6",
        "colab": {
          "base_uri": "https://localhost:8080/",
          "height": 284
        },
        "outputId": "eb3042d4-d489-4109-acd4-5593a04cfda9"
      },
      "source": [
        "products.price.hist(bins = 80)"
      ],
      "execution_count": 131,
      "outputs": [
        {
          "output_type": "execute_result",
          "data": {
            "text/plain": [
              "<matplotlib.axes._subplots.AxesSubplot at 0x7fe80a281390>"
            ]
          },
          "metadata": {
            "tags": []
          },
          "execution_count": 131
        },
        {
          "output_type": "display_data",
          "data": {
            "image/png": "[encoded data removed]",
            "text/plain": [
              "<Figure size 432x288 with 1 Axes>"
            ]
          },
          "metadata": {
            "tags": [],
            "needs_background": "light"
          }
        }
      ]
    },
    {
      "cell_type": "markdown",
      "metadata": {
        "id": "Qn3GoapJq75c"
      },
      "source": [
        "Nie wygląda to dobrze, ale trochę przypomina rozkład log-normalny. Spróbujmy zlogarytmować ceny i wygenerować kolejny rozkład."
      ]
    },
    {
      "cell_type": "code",
      "metadata": {
        "id": "I0tCGs35rV9m",
        "colab": {
          "base_uri": "https://localhost:8080/",
          "height": 282
        },
        "outputId": "1f84050a-b8d4-4a42-d775-ef05cbb121f9"
      },
      "source": [
        "products['price_log'] = np.log10(products.price)\n",
        "products.price_log.hist(bins = 16)"
      ],
      "execution_count": 132,
      "outputs": [
        {
          "output_type": "execute_result",
          "data": {
            "text/plain": [
              "<matplotlib.axes._subplots.AxesSubplot at 0x7fe80a4d5150>"
            ]
          },
          "metadata": {
            "tags": []
          },
          "execution_count": 132
        },
        {
          "output_type": "display_data",
          "data": {
            "image/png": "[encoded data removed]",
            "text/plain": [
              "<Figure size 432x288 with 1 Axes>"
            ]
          },
          "metadata": {
            "tags": [],
            "needs_background": "light"
          }
        }
      ]
    },
    {
      "cell_type": "markdown",
      "metadata": {
        "id": "YOf50kN0pcoS"
      },
      "source": [
        "Ze względu na \"grube ogony\" rozkład przypomina swoją postacią rozkład Cauchyego."
      ]
    },
    {
      "cell_type": "markdown",
      "metadata": {
        "id": "AgpYZr8gtfvr"
      },
      "source": [
        "Zobaczmy, co dostaniemy generując wykresy funkcji masy prawdopodobieństwa dla ścieżek kategorii."
      ]
    },
    {
      "cell_type": "code",
      "metadata": {
        "id": "eGlZ5dcjlVyV",
        "colab": {
          "base_uri": "https://localhost:8080/",
          "height": 612
        },
        "outputId": "13a8fa80-a653-4390-8b6d-6bb7a7aa7842"
      },
      "source": [
        "get_pmf_data(products.category_path).plot(kind='bar')"
      ],
      "execution_count": 133,
      "outputs": [
        {
          "output_type": "execute_result",
          "data": {
            "text/plain": [
              "<matplotlib.axes._subplots.AxesSubplot at 0x7fe80a03c250>"
            ]
          },
          "metadata": {
            "tags": []
          },
          "execution_count": 133
        },
        {
          "output_type": "display_data",
          "data": {
            "image/png": "[encoded data removed]",
            "text/plain": [
              "<Figure size 432x288 with 1 Axes>"
            ]
          },
          "metadata": {
            "tags": [],
            "needs_background": "light"
          }
        }
      ]
    },
    {
      "cell_type": "markdown",
      "metadata": {
        "id": "D2zZkaDkuS_3"
      },
      "source": [
        "Ponieważ kategorie są wartościami dyskretnymi, nie możemy ich zlogarytmować. Na wykresie powyżej wyraźnie widać, że kategorie znacząco różnią się liczbą produktów, które się w nich znajdują. Całe szczęście możemy spróbować wyciągnąć tylko pierwszą kategorię ze ścieżki. Być może pogrupowanie produktów w ten sposób przyniesie bardziej zrównoważone wyniki."
      ]
    },
    {
      "cell_type": "code",
      "metadata": {
        "id": "uEPKR0Chl-_o",
        "colab": {
          "base_uri": "https://localhost:8080/",
          "height": 371
        },
        "outputId": "1bc6cd7b-00ee-4628-e267-be174b0a140e"
      },
      "source": [
        "cat_1 = []\n",
        "for c in products.category_path:\n",
        "    path = c.split(';')\n",
        "    cat_1.append(path[0])\n",
        "\n",
        "products['cat_1'] = cat_1\n",
        "\n",
        "get_pmf_data(products.cat_1).plot(kind='bar')"
      ],
      "execution_count": 134,
      "outputs": [
        {
          "output_type": "execute_result",
          "data": {
            "text/plain": [
              "<matplotlib.axes._subplots.AxesSubplot at 0x7fe809f44610>"
            ]
          },
          "metadata": {
            "tags": []
          },
          "execution_count": 134
        },
        {
          "output_type": "display_data",
          "data": {
            "image/png": "[encoded data removed]",
            "text/plain": [
              "<Figure size 432x288 with 1 Axes>"
            ]
          },
          "metadata": {
            "tags": [],
            "needs_background": "light"
          }
        }
      ]
    },
    {
      "cell_type": "markdown",
      "metadata": {
        "id": "SWQxHevey_rI"
      },
      "source": [
        "Niestety za wiele to nie pomogło. Kategorie w dalszym ciągu są bardzo niezbalansowane. Wpłynie to negatywnie na jakość naszego modelu, chyba że uda nam się uzyskać dostęp do bardziej rozbudowanego zbioru danych.\n",
        "\n",
        "*Narrator: Nie udało się.*\n",
        "\n",
        "Spróbujemy po zdenermalizowaniu danych wygenerować wykres ilości wyświetleń produktów w zależności od kategorii, być może on da lepsze wyniki."
      ]
    },
    {
      "cell_type": "markdown",
      "metadata": {
        "id": "sT35hhRBiW2e"
      },
      "source": [
        "### Dostawy"
      ]
    },
    {
      "cell_type": "code",
      "metadata": {
        "id": "TXUA28212zAq",
        "colab": {
          "base_uri": "https://localhost:8080/",
          "height": 419
        },
        "outputId": "e2ada81f-b362-4a0a-8316-3292bfe4b9b2"
      },
      "source": [
        "deliveries"
      ],
      "execution_count": 135,
      "outputs": [
        {
          "output_type": "execute_result",
          "data": {
            "text/html": [
              "<div>\n",
              "<style scoped>\n",
              "    .dataframe tbody tr th:only-of-type {\n",
              "        vertical-align: middle;\n",
              "    }\n",
              "\n",
              "    .dataframe tbody tr th {\n",
              "        vertical-align: top;\n",
              "    }\n",
              "\n",
              "    .dataframe thead th {\n",
              "        text-align: right;\n",
              "    }\n",
              "</style>\n",
              "<table border=\"1\" class=\"dataframe\">\n",
              "  <thead>\n",
              "    <tr style=\"text-align: right;\">\n",
              "      <th></th>\n",
              "      <th>purchase_id</th>\n",
              "      <th>purchase_timestamp</th>\n",
              "      <th>delivery_timestamp</th>\n",
              "      <th>delivery_company</th>\n",
              "    </tr>\n",
              "  </thead>\n",
              "  <tbody>\n",
              "    <tr>\n",
              "      <th>0</th>\n",
              "      <td>20001</td>\n",
              "      <td>2021-04-15T07:53:59</td>\n",
              "      <td>2021-04-19T07:54:56</td>\n",
              "      <td>620</td>\n",
              "    </tr>\n",
              "    <tr>\n",
              "      <th>1</th>\n",
              "      <td>20002</td>\n",
              "      <td>2021-03-11T10:25:17</td>\n",
              "      <td>2021-03-15T10:27:21</td>\n",
              "      <td>360</td>\n",
              "    </tr>\n",
              "    <tr>\n",
              "      <th>2</th>\n",
              "      <td>20003</td>\n",
              "      <td>2021-03-26T19:16:18</td>\n",
              "      <td>2021-03-31T19:18:29</td>\n",
              "      <td>620</td>\n",
              "    </tr>\n",
              "    <tr>\n",
              "      <th>3</th>\n",
              "      <td>20004</td>\n",
              "      <td>2021-02-09T23:10:38</td>\n",
              "      <td>2021-02-14T23:14:34</td>\n",
              "      <td>620</td>\n",
              "    </tr>\n",
              "    <tr>\n",
              "      <th>4</th>\n",
              "      <td>20005</td>\n",
              "      <td>2021-02-17T22:58:19</td>\n",
              "      <td>2021-02-22T23:01:47</td>\n",
              "      <td>360</td>\n",
              "    </tr>\n",
              "    <tr>\n",
              "      <th>...</th>\n",
              "      <td>...</td>\n",
              "      <td>...</td>\n",
              "      <td>...</td>\n",
              "      <td>...</td>\n",
              "    </tr>\n",
              "    <tr>\n",
              "      <th>5233</th>\n",
              "      <td>25234</td>\n",
              "      <td>2021-01-07T04:34:02</td>\n",
              "      <td>2021-01-12T04:38:17</td>\n",
              "      <td>360</td>\n",
              "    </tr>\n",
              "    <tr>\n",
              "      <th>5234</th>\n",
              "      <td>25235</td>\n",
              "      <td>2021-04-16T10:29:45</td>\n",
              "      <td>2021-04-20T10:33:40</td>\n",
              "      <td>360</td>\n",
              "    </tr>\n",
              "    <tr>\n",
              "      <th>5235</th>\n",
              "      <td>25236</td>\n",
              "      <td>2021-03-02T10:35:29</td>\n",
              "      <td>2021-03-04T10:36:18</td>\n",
              "      <td>360</td>\n",
              "    </tr>\n",
              "    <tr>\n",
              "      <th>5236</th>\n",
              "      <td>25237</td>\n",
              "      <td>2021-04-02T10:06:02</td>\n",
              "      <td>2021-04-05T10:08:06</td>\n",
              "      <td>360</td>\n",
              "    </tr>\n",
              "    <tr>\n",
              "      <th>5237</th>\n",
              "      <td>25238</td>\n",
              "      <td>2021-01-17T12:32:26</td>\n",
              "      <td>2021-01-21T12:32:54</td>\n",
              "      <td>620</td>\n",
              "    </tr>\n",
              "  </tbody>\n",
              "</table>\n",
              "<p>5238 rows × 4 columns</p>\n",
              "</div>"
            ],
            "text/plain": [
              "      purchase_id   purchase_timestamp   delivery_timestamp  delivery_company\n",
              "0           20001  2021-04-15T07:53:59  2021-04-19T07:54:56               620\n",
              "1           20002  2021-03-11T10:25:17  2021-03-15T10:27:21               360\n",
              "2           20003  2021-03-26T19:16:18  2021-03-31T19:18:29               620\n",
              "3           20004  2021-02-09T23:10:38  2021-02-14T23:14:34               620\n",
              "4           20005  2021-02-17T22:58:19  2021-02-22T23:01:47               360\n",
              "...           ...                  ...                  ...               ...\n",
              "5233        25234  2021-01-07T04:34:02  2021-01-12T04:38:17               360\n",
              "5234        25235  2021-04-16T10:29:45  2021-04-20T10:33:40               360\n",
              "5235        25236  2021-03-02T10:35:29  2021-03-04T10:36:18               360\n",
              "5236        25237  2021-04-02T10:06:02  2021-04-05T10:08:06               360\n",
              "5237        25238  2021-01-17T12:32:26  2021-01-21T12:32:54               620\n",
              "\n",
              "[5238 rows x 4 columns]"
            ]
          },
          "metadata": {
            "tags": []
          },
          "execution_count": 135
        }
      ]
    },
    {
      "cell_type": "code",
      "metadata": {
        "id": "v-CNrBXvYFwm",
        "colab": {
          "base_uri": "https://localhost:8080/"
        },
        "outputId": "f9dfc7c3-214f-4d64-a14b-ce8df945b11b"
      },
      "source": [
        "get_null_count(deliveries, 'purchase_timestamp')"
      ],
      "execution_count": 136,
      "outputs": [
        {
          "output_type": "execute_result",
          "data": {
            "text/plain": [
              "0"
            ]
          },
          "metadata": {
            "tags": []
          },
          "execution_count": 136
        }
      ]
    },
    {
      "cell_type": "code",
      "metadata": {
        "id": "6LSVCm8_VpKe",
        "colab": {
          "base_uri": "https://localhost:8080/"
        },
        "outputId": "d13386b7-4981-413e-a2fd-8ee4696e1fbc"
      },
      "source": [
        "get_null_count(deliveries, 'delivery_timestamp')"
      ],
      "execution_count": 137,
      "outputs": [
        {
          "output_type": "execute_result",
          "data": {
            "text/plain": [
              "0"
            ]
          },
          "metadata": {
            "tags": []
          },
          "execution_count": 137
        }
      ]
    },
    {
      "cell_type": "code",
      "metadata": {
        "id": "AL9TZwL_YGoy",
        "colab": {
          "base_uri": "https://localhost:8080/"
        },
        "outputId": "441d6497-679a-400c-cc1a-df2b61e4d378"
      },
      "source": [
        "get_null_count(deliveries, 'delivery_company')"
      ],
      "execution_count": 138,
      "outputs": [
        {
          "output_type": "execute_result",
          "data": {
            "text/plain": [
              "0"
            ]
          },
          "metadata": {
            "tags": []
          },
          "execution_count": 138
        }
      ]
    },
    {
      "cell_type": "code",
      "metadata": {
        "id": "fH_KacUeZbsO",
        "colab": {
          "base_uri": "https://localhost:8080/"
        },
        "outputId": "fd24ff23-368c-4962-cce2-deed6e5b4299"
      },
      "source": [
        "get_total_null_count(deliveries)"
      ],
      "execution_count": 139,
      "outputs": [
        {
          "output_type": "execute_result",
          "data": {
            "text/plain": [
              "0"
            ]
          },
          "metadata": {
            "tags": []
          },
          "execution_count": 139
        }
      ]
    },
    {
      "cell_type": "markdown",
      "metadata": {
        "id": "we1AVYLJZDju"
      },
      "source": [
        "W poprzednich danych prawie 10% rekordów posiadało brakujące wartości w kolumnie `delivery_timestamp` lub `delivery_company`. Teraz problem już nie występuje."
      ]
    },
    {
      "cell_type": "code",
      "metadata": {
        "id": "lCyTQH5yaVCO",
        "colab": {
          "base_uri": "https://localhost:8080/"
        },
        "outputId": "3c582832-dd22-45bb-916a-43b97fcd71a9"
      },
      "source": [
        "deliveries[deliveries.purchase_timestamp >= deliveries.delivery_timestamp].shape[0]"
      ],
      "execution_count": 140,
      "outputs": [
        {
          "output_type": "execute_result",
          "data": {
            "text/plain": [
              "0"
            ]
          },
          "metadata": {
            "tags": []
          },
          "execution_count": 140
        }
      ]
    },
    {
      "cell_type": "markdown",
      "metadata": {
        "id": "RnBp9D76a6EC"
      },
      "source": [
        "Daty są na pierwszy rzut oka również poprawne, tj. czas dostarczenia jest zawsze późniejszy od czasu zakupu."
      ]
    },
    {
      "cell_type": "markdown",
      "metadata": {
        "id": "OjE1k1rLbaUq"
      },
      "source": [
        "Zauważyliśmy jednak, że tabela z sesjami również posiada kolumnę `timestamp`. Logiczne by zatem było, aby wartości w kolumnie `timestamp` w tabeli z sesjami pokrywały się z odpowiadającymi wartościami w kolumnie `purchase_timestamp` w tabeli z dostawami, jeśli `event_type == BUY_PRODUCT`. Sprawdźmy to!"
      ]
    },
    {
      "cell_type": "code",
      "metadata": {
        "id": "HBhzj1u6ccwa",
        "colab": {
          "base_uri": "https://localhost:8080/",
          "height": 419
        },
        "outputId": "447afd45-aa21-42b5-e1cf-af3352ce0cfc"
      },
      "source": [
        "del_ses = sessions.merge(deliveries, how='left', on='purchase_id')\n",
        "del_ses_buy = del_ses[(del_ses.event_type == 'BUY_PRODUCT') & (del_ses.timestamp == del_ses.purchase_timestamp)]\n",
        "del_ses_buy[['session_id', 'timestamp', 'purchase_timestamp']]"
      ],
      "execution_count": 141,
      "outputs": [
        {
          "output_type": "execute_result",
          "data": {
            "text/html": [
              "<div>\n",
              "<style scoped>\n",
              "    .dataframe tbody tr th:only-of-type {\n",
              "        vertical-align: middle;\n",
              "    }\n",
              "\n",
              "    .dataframe tbody tr th {\n",
              "        vertical-align: top;\n",
              "    }\n",
              "\n",
              "    .dataframe thead th {\n",
              "        text-align: right;\n",
              "    }\n",
              "</style>\n",
              "<table border=\"1\" class=\"dataframe\">\n",
              "  <thead>\n",
              "    <tr style=\"text-align: right;\">\n",
              "      <th></th>\n",
              "      <th>session_id</th>\n",
              "      <th>timestamp</th>\n",
              "      <th>purchase_timestamp</th>\n",
              "    </tr>\n",
              "  </thead>\n",
              "  <tbody>\n",
              "    <tr>\n",
              "      <th>1</th>\n",
              "      <td>100001</td>\n",
              "      <td>2021-04-15T07:53:59</td>\n",
              "      <td>2021-04-15T07:53:59</td>\n",
              "    </tr>\n",
              "    <tr>\n",
              "      <th>10</th>\n",
              "      <td>100002</td>\n",
              "      <td>2021-03-11T10:25:17</td>\n",
              "      <td>2021-03-11T10:25:17</td>\n",
              "    </tr>\n",
              "    <tr>\n",
              "      <th>22</th>\n",
              "      <td>100004</td>\n",
              "      <td>2021-03-26T19:16:18</td>\n",
              "      <td>2021-03-26T19:16:18</td>\n",
              "    </tr>\n",
              "    <tr>\n",
              "      <th>24</th>\n",
              "      <td>100005</td>\n",
              "      <td>2021-02-09T23:10:38</td>\n",
              "      <td>2021-02-09T23:10:38</td>\n",
              "    </tr>\n",
              "    <tr>\n",
              "      <th>27</th>\n",
              "      <td>100006</td>\n",
              "      <td>2021-02-17T22:58:19</td>\n",
              "      <td>2021-02-17T22:58:19</td>\n",
              "    </tr>\n",
              "    <tr>\n",
              "      <th>...</th>\n",
              "      <td>...</td>\n",
              "      <td>...</td>\n",
              "      <td>...</td>\n",
              "    </tr>\n",
              "    <tr>\n",
              "      <th>35425</th>\n",
              "      <td>109688</td>\n",
              "      <td>2021-01-07T04:34:02</td>\n",
              "      <td>2021-01-07T04:34:02</td>\n",
              "    </tr>\n",
              "    <tr>\n",
              "      <th>35430</th>\n",
              "      <td>109689</td>\n",
              "      <td>2021-04-16T10:29:45</td>\n",
              "      <td>2021-04-16T10:29:45</td>\n",
              "    </tr>\n",
              "    <tr>\n",
              "      <th>35432</th>\n",
              "      <td>109690</td>\n",
              "      <td>2021-03-02T10:35:29</td>\n",
              "      <td>2021-03-02T10:35:29</td>\n",
              "    </tr>\n",
              "    <tr>\n",
              "      <th>35441</th>\n",
              "      <td>109692</td>\n",
              "      <td>2021-04-02T10:06:02</td>\n",
              "      <td>2021-04-02T10:06:02</td>\n",
              "    </tr>\n",
              "    <tr>\n",
              "      <th>35449</th>\n",
              "      <td>109694</td>\n",
              "      <td>2021-01-17T12:32:26</td>\n",
              "      <td>2021-01-17T12:32:26</td>\n",
              "    </tr>\n",
              "  </tbody>\n",
              "</table>\n",
              "<p>5238 rows × 3 columns</p>\n",
              "</div>"
            ],
            "text/plain": [
              "       session_id            timestamp   purchase_timestamp\n",
              "1          100001  2021-04-15T07:53:59  2021-04-15T07:53:59\n",
              "10         100002  2021-03-11T10:25:17  2021-03-11T10:25:17\n",
              "22         100004  2021-03-26T19:16:18  2021-03-26T19:16:18\n",
              "24         100005  2021-02-09T23:10:38  2021-02-09T23:10:38\n",
              "27         100006  2021-02-17T22:58:19  2021-02-17T22:58:19\n",
              "...           ...                  ...                  ...\n",
              "35425      109688  2021-01-07T04:34:02  2021-01-07T04:34:02\n",
              "35430      109689  2021-04-16T10:29:45  2021-04-16T10:29:45\n",
              "35432      109690  2021-03-02T10:35:29  2021-03-02T10:35:29\n",
              "35441      109692  2021-04-02T10:06:02  2021-04-02T10:06:02\n",
              "35449      109694  2021-01-17T12:32:26  2021-01-17T12:32:26\n",
              "\n",
              "[5238 rows x 3 columns]"
            ]
          },
          "metadata": {
            "tags": []
          },
          "execution_count": 141
        }
      ]
    },
    {
      "cell_type": "markdown",
      "metadata": {
        "id": "5mwzEG2ofm6v"
      },
      "source": [
        "Liczba otrzymanych rekordów jest równa liczbie rekordów w tabeli z dostawami, co oznacza, że nasza hipoteza została potwierdzona! To oznacza, że kolumna `purchase_timestamp` będzie mogła zostać usunięta po zdenormalizowaniu danych, ponieważ nie wnosi żadnych nowych informacji, które nie są zawarte w kolumnie `timestamp` tabeli z sesjami."
      ]
    },
    {
      "cell_type": "markdown",
      "metadata": {
        "id": "slDtCNi9gtoZ"
      },
      "source": [
        "~~Ciągle pozostaje kwestia brakujących danych w kolumnach `delivery_timestamp` lub `delivery_company`.~~ Sama kolumna `delivery_timestamp` nie wnosi informacji, które byłyby przydatne w naszym problemie. Można jednak na jej podstawie i z pomocą kolumny `purchase_timestamp` wyznaczyć, jak długo zajęło wysłanie i dostarczenie paczki. Niestety w dalszym ciągu nie będzie to informacja, która będzie miała znaczenie dla naszego problemu. Podobnie jest z kolumną `delivery_company`. Nasz problem polega na przewidywaniu, czy dana sesja użytkownika zakończy się zakupem. Cała tabela z dostawami zawiera informacje, które są uzupełniane dopiero po dokonaniu zakupu, a zatem nie wpływają na decyzję zakupu, ponieważ nie są znane w momencie jej podejmowania. Czysto teoretycznie można by postawić hipotezę: *jeśli dostarczenie ostatniej paczki klienta zajęło dłużej niż 7 dni, to istnieje duża szansa, że ta osoba nic już u nas nie kupi*. Jednak jeśli dana osoba miałaby u nas już nigdy nic nie kupić, to raczej istnieje też duże prawdopodobieństwo, że ktoś taki przestanie całkowicie korzystać ze strony naszego sklepu, a zatem nie pojawią się sesje, gdzie będziemy mogli na podstawie takiego modelu stwierdzić, że nie dojdzie do zakupu.\n",
        "\n",
        "Podsumowując, ze względu na ~~relatywnie duży odsetek wybrakowanych danych, a także~~ bardzo małą ilość informacji, które można z nich uzyskać, które byłyby istotne dla naszego problemu, podjęliśmy decyzję o całkowitym odrzuceniu tabeli z dostawami."
      ]
    },
    {
      "cell_type": "markdown",
      "metadata": {
        "id": "EM7nB5C4DQ_7"
      },
      "source": [
        "### Sesje"
      ]
    },
    {
      "cell_type": "code",
      "metadata": {
        "id": "ipEXQSo844-k",
        "colab": {
          "base_uri": "https://localhost:8080/",
          "height": 419
        },
        "outputId": "b2134045-dba0-4c5d-8c84-1bb78f500ddc"
      },
      "source": [
        "sessions"
      ],
      "execution_count": 142,
      "outputs": [
        {
          "output_type": "execute_result",
          "data": {
            "text/html": [
              "<div>\n",
              "<style scoped>\n",
              "    .dataframe tbody tr th:only-of-type {\n",
              "        vertical-align: middle;\n",
              "    }\n",
              "\n",
              "    .dataframe tbody tr th {\n",
              "        vertical-align: top;\n",
              "    }\n",
              "\n",
              "    .dataframe thead th {\n",
              "        text-align: right;\n",
              "    }\n",
              "</style>\n",
              "<table border=\"1\" class=\"dataframe\">\n",
              "  <thead>\n",
              "    <tr style=\"text-align: right;\">\n",
              "      <th></th>\n",
              "      <th>session_id</th>\n",
              "      <th>timestamp</th>\n",
              "      <th>user_id</th>\n",
              "      <th>product_id</th>\n",
              "      <th>event_type</th>\n",
              "      <th>offered_discount</th>\n",
              "      <th>purchase_id</th>\n",
              "    </tr>\n",
              "  </thead>\n",
              "  <tbody>\n",
              "    <tr>\n",
              "      <th>0</th>\n",
              "      <td>100001</td>\n",
              "      <td>2021-04-15T07:53:40</td>\n",
              "      <td>102</td>\n",
              "      <td>1283</td>\n",
              "      <td>VIEW_PRODUCT</td>\n",
              "      <td>5</td>\n",
              "      <td>&lt;NA&gt;</td>\n",
              "    </tr>\n",
              "    <tr>\n",
              "      <th>1</th>\n",
              "      <td>100001</td>\n",
              "      <td>2021-04-15T07:53:59</td>\n",
              "      <td>102</td>\n",
              "      <td>1283</td>\n",
              "      <td>BUY_PRODUCT</td>\n",
              "      <td>5</td>\n",
              "      <td>20001</td>\n",
              "    </tr>\n",
              "    <tr>\n",
              "      <th>2</th>\n",
              "      <td>100002</td>\n",
              "      <td>2021-03-11T10:00:27</td>\n",
              "      <td>102</td>\n",
              "      <td>1076</td>\n",
              "      <td>VIEW_PRODUCT</td>\n",
              "      <td>0</td>\n",
              "      <td>&lt;NA&gt;</td>\n",
              "    </tr>\n",
              "    <tr>\n",
              "      <th>3</th>\n",
              "      <td>100002</td>\n",
              "      <td>2021-03-11T10:02:11</td>\n",
              "      <td>102</td>\n",
              "      <td>1080</td>\n",
              "      <td>VIEW_PRODUCT</td>\n",
              "      <td>0</td>\n",
              "      <td>&lt;NA&gt;</td>\n",
              "    </tr>\n",
              "    <tr>\n",
              "      <th>4</th>\n",
              "      <td>100002</td>\n",
              "      <td>2021-03-11T10:02:36</td>\n",
              "      <td>102</td>\n",
              "      <td>1079</td>\n",
              "      <td>VIEW_PRODUCT</td>\n",
              "      <td>0</td>\n",
              "      <td>&lt;NA&gt;</td>\n",
              "    </tr>\n",
              "    <tr>\n",
              "      <th>...</th>\n",
              "      <td>...</td>\n",
              "      <td>...</td>\n",
              "      <td>...</td>\n",
              "      <td>...</td>\n",
              "      <td>...</td>\n",
              "      <td>...</td>\n",
              "      <td>...</td>\n",
              "    </tr>\n",
              "    <tr>\n",
              "      <th>35450</th>\n",
              "      <td>109695</td>\n",
              "      <td>2021-03-31T18:15:24</td>\n",
              "      <td>301</td>\n",
              "      <td>1286</td>\n",
              "      <td>VIEW_PRODUCT</td>\n",
              "      <td>0</td>\n",
              "      <td>&lt;NA&gt;</td>\n",
              "    </tr>\n",
              "    <tr>\n",
              "      <th>35451</th>\n",
              "      <td>109695</td>\n",
              "      <td>2021-03-31T18:19:27</td>\n",
              "      <td>301</td>\n",
              "      <td>1288</td>\n",
              "      <td>VIEW_PRODUCT</td>\n",
              "      <td>0</td>\n",
              "      <td>&lt;NA&gt;</td>\n",
              "    </tr>\n",
              "    <tr>\n",
              "      <th>35452</th>\n",
              "      <td>109695</td>\n",
              "      <td>2021-03-31T18:21:05</td>\n",
              "      <td>301</td>\n",
              "      <td>1290</td>\n",
              "      <td>VIEW_PRODUCT</td>\n",
              "      <td>0</td>\n",
              "      <td>&lt;NA&gt;</td>\n",
              "    </tr>\n",
              "    <tr>\n",
              "      <th>35453</th>\n",
              "      <td>109695</td>\n",
              "      <td>2021-03-31T18:24:39</td>\n",
              "      <td>301</td>\n",
              "      <td>1292</td>\n",
              "      <td>VIEW_PRODUCT</td>\n",
              "      <td>0</td>\n",
              "      <td>&lt;NA&gt;</td>\n",
              "    </tr>\n",
              "    <tr>\n",
              "      <th>35454</th>\n",
              "      <td>109695</td>\n",
              "      <td>2021-03-31T18:25:34</td>\n",
              "      <td>301</td>\n",
              "      <td>1285</td>\n",
              "      <td>VIEW_PRODUCT</td>\n",
              "      <td>0</td>\n",
              "      <td>&lt;NA&gt;</td>\n",
              "    </tr>\n",
              "  </tbody>\n",
              "</table>\n",
              "<p>35455 rows × 7 columns</p>\n",
              "</div>"
            ],
            "text/plain": [
              "       session_id            timestamp  ...  offered_discount  purchase_id\n",
              "0          100001  2021-04-15T07:53:40  ...                 5         <NA>\n",
              "1          100001  2021-04-15T07:53:59  ...                 5        20001\n",
              "2          100002  2021-03-11T10:00:27  ...                 0         <NA>\n",
              "3          100002  2021-03-11T10:02:11  ...                 0         <NA>\n",
              "4          100002  2021-03-11T10:02:36  ...                 0         <NA>\n",
              "...           ...                  ...  ...               ...          ...\n",
              "35450      109695  2021-03-31T18:15:24  ...                 0         <NA>\n",
              "35451      109695  2021-03-31T18:19:27  ...                 0         <NA>\n",
              "35452      109695  2021-03-31T18:21:05  ...                 0         <NA>\n",
              "35453      109695  2021-03-31T18:24:39  ...                 0         <NA>\n",
              "35454      109695  2021-03-31T18:25:34  ...                 0         <NA>\n",
              "\n",
              "[35455 rows x 7 columns]"
            ]
          },
          "metadata": {
            "tags": []
          },
          "execution_count": 142
        }
      ]
    },
    {
      "cell_type": "markdown",
      "metadata": {
        "id": "cms0EmMz9LuG"
      },
      "source": [
        "Mając na uwadze nasze postanowienie o całkowitym odrzuceniu tabeli z dostawami możemy się pozbyć kolumny `purchase_id`."
      ]
    },
    {
      "cell_type": "code",
      "metadata": {
        "id": "anJVHBS_-PY1"
      },
      "source": [
        "sessions.drop('purchase_id', 1, inplace=True)"
      ],
      "execution_count": 143,
      "outputs": []
    },
    {
      "cell_type": "code",
      "metadata": {
        "id": "lX8k3Cht89DH",
        "colab": {
          "base_uri": "https://localhost:8080/"
        },
        "outputId": "e8877754-1cfb-4fe2-92ea-063f377adf65"
      },
      "source": [
        "get_null_count(sessions, 'timestamp')"
      ],
      "execution_count": 144,
      "outputs": [
        {
          "output_type": "execute_result",
          "data": {
            "text/plain": [
              "0"
            ]
          },
          "metadata": {
            "tags": []
          },
          "execution_count": 144
        }
      ]
    },
    {
      "cell_type": "code",
      "metadata": {
        "id": "vwcsXZBW9C6u",
        "colab": {
          "base_uri": "https://localhost:8080/"
        },
        "outputId": "d22b0d64-10b5-42ee-9bce-b28a259eaf6e"
      },
      "source": [
        "get_null_count(sessions, 'user_id')"
      ],
      "execution_count": 145,
      "outputs": [
        {
          "output_type": "execute_result",
          "data": {
            "text/plain": [
              "0"
            ]
          },
          "metadata": {
            "tags": []
          },
          "execution_count": 145
        }
      ]
    },
    {
      "cell_type": "code",
      "metadata": {
        "id": "UZt0JzHI9EfI",
        "colab": {
          "base_uri": "https://localhost:8080/"
        },
        "outputId": "b1500092-b856-4e75-ca4e-1bdcce11a21e"
      },
      "source": [
        "get_null_count(sessions, 'product_id')"
      ],
      "execution_count": 146,
      "outputs": [
        {
          "output_type": "execute_result",
          "data": {
            "text/plain": [
              "0"
            ]
          },
          "metadata": {
            "tags": []
          },
          "execution_count": 146
        }
      ]
    },
    {
      "cell_type": "code",
      "metadata": {
        "id": "MxqI8VeC9E8t",
        "colab": {
          "base_uri": "https://localhost:8080/"
        },
        "outputId": "f0fd889f-2e7a-46f0-ea6f-077092d9c401"
      },
      "source": [
        "get_null_count(sessions, 'event_type')"
      ],
      "execution_count": 147,
      "outputs": [
        {
          "output_type": "execute_result",
          "data": {
            "text/plain": [
              "0"
            ]
          },
          "metadata": {
            "tags": []
          },
          "execution_count": 147
        }
      ]
    },
    {
      "cell_type": "code",
      "metadata": {
        "id": "dlO23De39FkR",
        "colab": {
          "base_uri": "https://localhost:8080/"
        },
        "outputId": "d9d57150-3628-40d7-b2fc-c1d3f0e26ca8"
      },
      "source": [
        "get_null_count(sessions, 'offered_discount')"
      ],
      "execution_count": 148,
      "outputs": [
        {
          "output_type": "execute_result",
          "data": {
            "text/plain": [
              "0"
            ]
          },
          "metadata": {
            "tags": []
          },
          "execution_count": 148
        }
      ]
    },
    {
      "cell_type": "code",
      "metadata": {
        "id": "wauZvEPI-oFF",
        "colab": {
          "base_uri": "https://localhost:8080/"
        },
        "outputId": "9a980311-eb89-4fa9-bbc5-7ef21998297b"
      },
      "source": [
        "get_total_null_count(sessions)"
      ],
      "execution_count": 149,
      "outputs": [
        {
          "output_type": "execute_result",
          "data": {
            "text/plain": [
              "0"
            ]
          },
          "metadata": {
            "tags": []
          },
          "execution_count": 149
        }
      ]
    },
    {
      "cell_type": "markdown",
      "metadata": {
        "id": "aM_J0ZEx_JUf"
      },
      "source": [
        "~~Jak widać, tylko kolumny `user_id` oraz `product_id` posiadają brakujące dane. Zauważyliśmy jednak, że pojedyncza sesja może posiadać kilka wpisów. Wiemy także, że jedna sesja dotyczy zawsze tylko jednego użytkownika (a przynajmniej się tego domyślamy, ale to także przy okazji sprawdzimy). Możemy w takim razie uzupełnić brakujące dane w kolumnie `user_id` poprzez sprawdzenie, jaka wartość znajduje się w innych wierszach dotyczących tej samej sesji (posiadających tą samą wartość `session_id`).~~\n",
        "\n",
        "W nowej wersji danych powyższy problem już nie występuje."
      ]
    },
    {
      "cell_type": "code",
      "metadata": {
        "id": "z4R93_A2VWOl"
      },
      "source": [
        "# for i, s in sessions[sessions.user_id.isnull()].iterrows():\n",
        "#     rec_id = -1\n",
        "#     for j, r in sessions[sessions.session_id == s.session_id].iterrows():\n",
        "#         if not pd.isnull(r.user_id):\n",
        "#             if rec_id == -1 or rec_id == r.user_id:\n",
        "#                 rec_id = r.user_id\n",
        "#             else: \n",
        "#                 raise Exception(\"Two distinct users in one session\")\n",
        "#     if rec_id != -1:\n",
        "#         sessions.at[i, 'user_id'] = rec_id\n",
        "# \n",
        "# get_null_count(sessions, 'user_id')"
      ],
      "execution_count": 150,
      "outputs": []
    },
    {
      "cell_type": "code",
      "metadata": {
        "id": "Tx0BmUpoYoRe",
        "colab": {
          "base_uri": "https://localhost:8080/"
        },
        "outputId": "e2ca103d-6db6-45b3-ad5f-23a91a98db33"
      },
      "source": [
        "sessions[sessions.user_id.isnull()].session_id.nunique()"
      ],
      "execution_count": 151,
      "outputs": [
        {
          "output_type": "execute_result",
          "data": {
            "text/plain": [
              "0"
            ]
          },
          "metadata": {
            "tags": []
          },
          "execution_count": 151
        }
      ]
    },
    {
      "cell_type": "code",
      "metadata": {
        "id": "Rblg-XmMXDZ5",
        "colab": {
          "base_uri": "https://localhost:8080/"
        },
        "outputId": "bca37ef5-98c1-49b2-e0cf-a1d882d10c54"
      },
      "source": [
        "sessions.session_id.nunique()"
      ],
      "execution_count": 152,
      "outputs": [
        {
          "output_type": "execute_result",
          "data": {
            "text/plain": [
              "9695"
            ]
          },
          "metadata": {
            "tags": []
          },
          "execution_count": 152
        }
      ]
    },
    {
      "cell_type": "markdown",
      "metadata": {
        "id": "8SGLxAvbcXa2"
      },
      "source": [
        "~~Niestety w dalszym ciągu nie udało nam się pozbyć brakujących wartości w kolumnie `user_id`. Całe szczęście sesje, które nie posiadają ani jednej wartości we wspomnianej kolumnie stanowią mniej niż 1.1% wszystkich sesji, a zatem nic nie stoi na przeszkodzie, aby całkowicie je usunąć z naszego zbioru.~~"
      ]
    },
    {
      "cell_type": "code",
      "metadata": {
        "id": "QMCH3Ttofv_4"
      },
      "source": [
        "# sessions.drop(sessions[sessions.user_id.isnull()].index, inplace=True)\n",
        "# sessions[sessions.product_id.isnull()].session_id.nunique()"
      ],
      "execution_count": 153,
      "outputs": []
    },
    {
      "cell_type": "markdown",
      "metadata": {
        "id": "Wd6ZJmX0ghWw"
      },
      "source": [
        "~~Nie zmienia to jednak faktu, że w dalszym ciągu prawie 16% sesji posiada co najmniej jedną brakującą wartość w kolumnie `product_id`, której nie można w podobny sposób odzyskać. Nie możemy się pozbyć całej kolumny, ponieważ jest kluczowa dla naszego problemu. Jeśli nie otrzymamy lepszych danych, będziemy zmuszeni pozbyć się wszystkich sesji, którym brakuje co najmniej jednej wartości w kolumnie `product_id`. Nie możemy usunąć pojedynczych wpisów z brakującymi wartościami, ponieważ spowoduje to *zmodyfikowanie sesji*, a taka sytuacja prawdopodobnie o wiele bardziej odbije się na jakości naszego modelu niż usunięcie całych sesji.~~"
      ]
    },
    {
      "cell_type": "code",
      "metadata": {
        "colab": {
          "base_uri": "https://localhost:8080/"
        },
        "id": "qdLipICoWxfF",
        "outputId": "993371f8-e58a-4233-d503-1f496b98b079"
      },
      "source": [
        "sessions.shape[0] / sessions.session_id.nunique()"
      ],
      "execution_count": 154,
      "outputs": [
        {
          "output_type": "execute_result",
          "data": {
            "text/plain": [
              "3.6570397111913358"
            ]
          },
          "metadata": {
            "tags": []
          },
          "execution_count": 154
        }
      ]
    },
    {
      "cell_type": "markdown",
      "metadata": {
        "id": "KrbFEpaVXPn3"
      },
      "source": [
        "Każda sesja posiada średnio ~3.66 zdarzeń."
      ]
    },
    {
      "cell_type": "code",
      "metadata": {
        "id": "2ytDmVIF5XK5",
        "colab": {
          "base_uri": "https://localhost:8080/",
          "height": 352
        },
        "outputId": "3f23f75f-aa56-4ad8-b17f-b30c001b02e9"
      },
      "source": [
        "get_pmf_data(sessions.event_type).plot(kind='bar')"
      ],
      "execution_count": 155,
      "outputs": [
        {
          "output_type": "execute_result",
          "data": {
            "text/plain": [
              "<matplotlib.axes._subplots.AxesSubplot at 0x7fe809f7b7d0>"
            ]
          },
          "metadata": {
            "tags": []
          },
          "execution_count": 155
        },
        {
          "output_type": "display_data",
          "data": {
            "image/png": "[encoded data removed]",
            "text/plain": [
              "<Figure size 432x288 with 1 Axes>"
            ]
          },
          "metadata": {
            "tags": [],
            "needs_background": "light"
          }
        }
      ]
    },
    {
      "cell_type": "code",
      "metadata": {
        "id": "G55aG2FKjQXJ"
      },
      "source": [
        "success = 0\n",
        "fail = 0\n",
        "visited = []\n",
        "for i, s in sessions.iterrows():\n",
        "    buy = False\n",
        "    if s.session_id not in visited:\n",
        "        visited.append(s.session_id)\n",
        "        for j, r in sessions[sessions.session_id == s.session_id].iterrows():\n",
        "            if r.event_type == 'BUY_PRODUCT':\n",
        "                buy = True\n",
        "        if buy:\n",
        "            success += 1\n",
        "        else:\n",
        "            fail += 1\n"
      ],
      "execution_count": 156,
      "outputs": []
    },
    {
      "cell_type": "code",
      "metadata": {
        "id": "JkC2oPcbmZS-",
        "colab": {
          "base_uri": "https://localhost:8080/",
          "height": 352
        },
        "outputId": "8767ed3e-a447-41ff-a227-e9f6c9432400"
      },
      "source": [
        "print(f'Success: {success}')\n",
        "print(f'Fail: {fail}')\n",
        "all = success + fail\n",
        "pd.Series({\"SUCCESS\": success/all, \"FAIL\": fail/all}).plot(kind='bar')"
      ],
      "execution_count": 157,
      "outputs": [
        {
          "output_type": "stream",
          "text": [
            "Success: 5238\n",
            "Fail: 4457\n"
          ],
          "name": "stdout"
        },
        {
          "output_type": "execute_result",
          "data": {
            "text/plain": [
              "<matplotlib.axes._subplots.AxesSubplot at 0x7fe809f3e910>"
            ]
          },
          "metadata": {
            "tags": []
          },
          "execution_count": 157
        },
        {
          "output_type": "display_data",
          "data": {
            "image/png": "[encoded data removed]",
            "text/plain": [
              "<Figure size 432x288 with 1 Axes>"
            ]
          },
          "metadata": {
            "tags": [],
            "needs_background": "light"
          }
        }
      ]
    },
    {
      "cell_type": "markdown",
      "metadata": {
        "id": "C7-26NL1i6Eu"
      },
      "source": [
        "Z powyższego wykresu wynika, że mniej więcej połowa sesji zakończyła się zakupem. Jest to bardzo dobra wiadomość, ponieważ nie będziemy musieli stosować under/oversamplingu."
      ]
    },
    {
      "cell_type": "code",
      "metadata": {
        "id": "7bHvJQCqDVRN",
        "colab": {
          "base_uri": "https://localhost:8080/",
          "height": 285
        },
        "outputId": "f0fc8123-0f73-4f0b-b0f7-6e59a4031a8d"
      },
      "source": [
        "get_pmf_data(sessions.offered_discount).plot(kind='bar')"
      ],
      "execution_count": 158,
      "outputs": [
        {
          "output_type": "execute_result",
          "data": {
            "text/plain": [
              "<matplotlib.axes._subplots.AxesSubplot at 0x7fe809ee0950>"
            ]
          },
          "metadata": {
            "tags": []
          },
          "execution_count": 158
        },
        {
          "output_type": "display_data",
          "data": {
            "image/png": "[encoded data removed]",
            "text/plain": [
              "<Figure size 432x288 with 1 Axes>"
            ]
          },
          "metadata": {
            "tags": [],
            "needs_background": "light"
          }
        }
      ]
    },
    {
      "cell_type": "code",
      "metadata": {
        "id": "BkBMdw65o0A5"
      },
      "source": [
        "sessions.timestamp = pd.to_datetime(sessions.timestamp)\n",
        "sessions['hour'] = sessions.timestamp.dt.hour\n",
        "sessions['weekday'] = sessions.timestamp.dt.day_name()"
      ],
      "execution_count": 159,
      "outputs": []
    },
    {
      "cell_type": "code",
      "metadata": {
        "id": "w2-OEA5mtXvk",
        "colab": {
          "base_uri": "https://localhost:8080/",
          "height": 282
        },
        "outputId": "cb4321c5-6ad1-4490-e414-1fc56c129853"
      },
      "source": [
        "sessions.timestamp.hist(bins=74)"
      ],
      "execution_count": 160,
      "outputs": [
        {
          "output_type": "execute_result",
          "data": {
            "text/plain": [
              "<matplotlib.axes._subplots.AxesSubplot at 0x7fe8097fe350>"
            ]
          },
          "metadata": {
            "tags": []
          },
          "execution_count": 160
        },
        {
          "output_type": "display_data",
          "data": {
            "image/png": "[encoded data removed]",
            "text/plain": [
              "<Figure size 432x288 with 1 Axes>"
            ]
          },
          "metadata": {
            "tags": [],
            "needs_background": "light"
          }
        }
      ]
    },
    {
      "cell_type": "code",
      "metadata": {
        "id": "RtPhBEvo2BAa",
        "colab": {
          "base_uri": "https://localhost:8080/",
          "height": 282
        },
        "outputId": "9e968c09-6345-46a2-b4b0-e690e98761cc"
      },
      "source": [
        "sessions.hour.hist(bins=24)"
      ],
      "execution_count": 161,
      "outputs": [
        {
          "output_type": "execute_result",
          "data": {
            "text/plain": [
              "<matplotlib.axes._subplots.AxesSubplot at 0x7fe809e89090>"
            ]
          },
          "metadata": {
            "tags": []
          },
          "execution_count": 161
        },
        {
          "output_type": "display_data",
          "data": {
            "image/png": "[encoded data removed]",
            "text/plain": [
              "<Figure size 432x288 with 1 Axes>"
            ]
          },
          "metadata": {
            "tags": [],
            "needs_background": "light"
          }
        }
      ]
    },
    {
      "cell_type": "code",
      "metadata": {
        "id": "v7WBLxcg2Qcz",
        "colab": {
          "base_uri": "https://localhost:8080/",
          "height": 330
        },
        "outputId": "8f596211-afa8-4925-c3de-c48ef0fba9a3"
      },
      "source": [
        "get_pmf_data(sessions.weekday).plot(kind='bar')"
      ],
      "execution_count": 162,
      "outputs": [
        {
          "output_type": "execute_result",
          "data": {
            "text/plain": [
              "<matplotlib.axes._subplots.AxesSubplot at 0x7fe809efc150>"
            ]
          },
          "metadata": {
            "tags": []
          },
          "execution_count": 162
        },
        {
          "output_type": "display_data",
          "data": {
            "image/png": "[encoded data removed]",
            "text/plain": [
              "<Figure size 432x288 with 1 Axes>"
            ]
          },
          "metadata": {
            "tags": [],
            "needs_background": "light"
          }
        }
      ]
    },
    {
      "cell_type": "markdown",
      "metadata": {
        "id": "ErQARPul6bUd"
      },
      "source": [
        "## Denormalizacja\n",
        "\n"
      ]
    },
    {
      "cell_type": "code",
      "metadata": {
        "id": "IGDgtWqu2Bhe"
      },
      "source": [
        "data = sessions.merge(users, how='left', on='user_id').merge(products, how='left', on='product_id')"
      ],
      "execution_count": 163,
      "outputs": []
    },
    {
      "cell_type": "code",
      "metadata": {
        "id": "z7DjK5yr0qTn",
        "colab": {
          "base_uri": "https://localhost:8080/",
          "height": 419
        },
        "outputId": "fceb49eb-3c5d-41a8-e30c-772859b3d0b6"
      },
      "source": [
        "data"
      ],
      "execution_count": 164,
      "outputs": [
        {
          "output_type": "execute_result",
          "data": {
            "text/html": [
              "<div>\n",
              "<style scoped>\n",
              "    .dataframe tbody tr th:only-of-type {\n",
              "        vertical-align: middle;\n",
              "    }\n",
              "\n",
              "    .dataframe tbody tr th {\n",
              "        vertical-align: top;\n",
              "    }\n",
              "\n",
              "    .dataframe thead th {\n",
              "        text-align: right;\n",
              "    }\n",
              "</style>\n",
              "<table border=\"1\" class=\"dataframe\">\n",
              "  <thead>\n",
              "    <tr style=\"text-align: right;\">\n",
              "      <th></th>\n",
              "      <th>session_id</th>\n",
              "      <th>timestamp</th>\n",
              "      <th>user_id</th>\n",
              "      <th>product_id</th>\n",
              "      <th>event_type</th>\n",
              "      <th>offered_discount</th>\n",
              "      <th>hour</th>\n",
              "      <th>weekday</th>\n",
              "      <th>city</th>\n",
              "      <th>gender</th>\n",
              "      <th>category_path</th>\n",
              "      <th>price</th>\n",
              "      <th>price_log</th>\n",
              "      <th>cat_1</th>\n",
              "    </tr>\n",
              "  </thead>\n",
              "  <tbody>\n",
              "    <tr>\n",
              "      <th>0</th>\n",
              "      <td>100001</td>\n",
              "      <td>2021-04-15 07:53:40</td>\n",
              "      <td>102</td>\n",
              "      <td>1283</td>\n",
              "      <td>VIEW_PRODUCT</td>\n",
              "      <td>5</td>\n",
              "      <td>7</td>\n",
              "      <td>Thursday</td>\n",
              "      <td>Police</td>\n",
              "      <td>F</td>\n",
              "      <td>Sprzęt RTV;Video;Telewizory i akcesoria;Okular...</td>\n",
              "      <td>99.99</td>\n",
              "      <td>1.999957</td>\n",
              "      <td>Sprzęt RTV</td>\n",
              "    </tr>\n",
              "    <tr>\n",
              "      <th>1</th>\n",
              "      <td>100001</td>\n",
              "      <td>2021-04-15 07:53:59</td>\n",
              "      <td>102</td>\n",
              "      <td>1283</td>\n",
              "      <td>BUY_PRODUCT</td>\n",
              "      <td>5</td>\n",
              "      <td>7</td>\n",
              "      <td>Thursday</td>\n",
              "      <td>Police</td>\n",
              "      <td>F</td>\n",
              "      <td>Sprzęt RTV;Video;Telewizory i akcesoria;Okular...</td>\n",
              "      <td>99.99</td>\n",
              "      <td>1.999957</td>\n",
              "      <td>Sprzęt RTV</td>\n",
              "    </tr>\n",
              "    <tr>\n",
              "      <th>2</th>\n",
              "      <td>100002</td>\n",
              "      <td>2021-03-11 10:00:27</td>\n",
              "      <td>102</td>\n",
              "      <td>1076</td>\n",
              "      <td>VIEW_PRODUCT</td>\n",
              "      <td>0</td>\n",
              "      <td>10</td>\n",
              "      <td>Thursday</td>\n",
              "      <td>Police</td>\n",
              "      <td>F</td>\n",
              "      <td>Komputery;Drukarki i skanery;Biurowe urządzeni...</td>\n",
              "      <td>2399.00</td>\n",
              "      <td>3.380030</td>\n",
              "      <td>Komputery</td>\n",
              "    </tr>\n",
              "    <tr>\n",
              "      <th>3</th>\n",
              "      <td>100002</td>\n",
              "      <td>2021-03-11 10:02:11</td>\n",
              "      <td>102</td>\n",
              "      <td>1080</td>\n",
              "      <td>VIEW_PRODUCT</td>\n",
              "      <td>0</td>\n",
              "      <td>10</td>\n",
              "      <td>Thursday</td>\n",
              "      <td>Police</td>\n",
              "      <td>F</td>\n",
              "      <td>Komputery;Drukarki i skanery;Biurowe urządzeni...</td>\n",
              "      <td>5301.90</td>\n",
              "      <td>3.724432</td>\n",
              "      <td>Komputery</td>\n",
              "    </tr>\n",
              "    <tr>\n",
              "      <th>4</th>\n",
              "      <td>100002</td>\n",
              "      <td>2021-03-11 10:02:36</td>\n",
              "      <td>102</td>\n",
              "      <td>1079</td>\n",
              "      <td>VIEW_PRODUCT</td>\n",
              "      <td>0</td>\n",
              "      <td>10</td>\n",
              "      <td>Thursday</td>\n",
              "      <td>Police</td>\n",
              "      <td>F</td>\n",
              "      <td>Komputery;Drukarki i skanery;Biurowe urządzeni...</td>\n",
              "      <td>4598.00</td>\n",
              "      <td>3.662569</td>\n",
              "      <td>Komputery</td>\n",
              "    </tr>\n",
              "    <tr>\n",
              "      <th>...</th>\n",
              "      <td>...</td>\n",
              "      <td>...</td>\n",
              "      <td>...</td>\n",
              "      <td>...</td>\n",
              "      <td>...</td>\n",
              "      <td>...</td>\n",
              "      <td>...</td>\n",
              "      <td>...</td>\n",
              "      <td>...</td>\n",
              "      <td>...</td>\n",
              "      <td>...</td>\n",
              "      <td>...</td>\n",
              "      <td>...</td>\n",
              "      <td>...</td>\n",
              "    </tr>\n",
              "    <tr>\n",
              "      <th>35450</th>\n",
              "      <td>109695</td>\n",
              "      <td>2021-03-31 18:15:24</td>\n",
              "      <td>301</td>\n",
              "      <td>1286</td>\n",
              "      <td>VIEW_PRODUCT</td>\n",
              "      <td>0</td>\n",
              "      <td>18</td>\n",
              "      <td>Wednesday</td>\n",
              "      <td>Warszawa</td>\n",
              "      <td>F</td>\n",
              "      <td>Sprzęt RTV;Video;Telewizory i akcesoria;Anteny...</td>\n",
              "      <td>59.99</td>\n",
              "      <td>1.778079</td>\n",
              "      <td>Sprzęt RTV</td>\n",
              "    </tr>\n",
              "    <tr>\n",
              "      <th>35451</th>\n",
              "      <td>109695</td>\n",
              "      <td>2021-03-31 18:19:27</td>\n",
              "      <td>301</td>\n",
              "      <td>1288</td>\n",
              "      <td>VIEW_PRODUCT</td>\n",
              "      <td>0</td>\n",
              "      <td>18</td>\n",
              "      <td>Wednesday</td>\n",
              "      <td>Warszawa</td>\n",
              "      <td>F</td>\n",
              "      <td>Sprzęt RTV;Video;Telewizory i akcesoria;Anteny...</td>\n",
              "      <td>119.00</td>\n",
              "      <td>2.075547</td>\n",
              "      <td>Sprzęt RTV</td>\n",
              "    </tr>\n",
              "    <tr>\n",
              "      <th>35452</th>\n",
              "      <td>109695</td>\n",
              "      <td>2021-03-31 18:21:05</td>\n",
              "      <td>301</td>\n",
              "      <td>1290</td>\n",
              "      <td>VIEW_PRODUCT</td>\n",
              "      <td>0</td>\n",
              "      <td>18</td>\n",
              "      <td>Wednesday</td>\n",
              "      <td>Warszawa</td>\n",
              "      <td>F</td>\n",
              "      <td>Sprzęt RTV;Video;Telewizory i akcesoria;Anteny...</td>\n",
              "      <td>169.00</td>\n",
              "      <td>2.227887</td>\n",
              "      <td>Sprzęt RTV</td>\n",
              "    </tr>\n",
              "    <tr>\n",
              "      <th>35453</th>\n",
              "      <td>109695</td>\n",
              "      <td>2021-03-31 18:24:39</td>\n",
              "      <td>301</td>\n",
              "      <td>1292</td>\n",
              "      <td>VIEW_PRODUCT</td>\n",
              "      <td>0</td>\n",
              "      <td>18</td>\n",
              "      <td>Wednesday</td>\n",
              "      <td>Warszawa</td>\n",
              "      <td>F</td>\n",
              "      <td>Sprzęt RTV;Video;Telewizory i akcesoria;Anteny...</td>\n",
              "      <td>189.00</td>\n",
              "      <td>2.276462</td>\n",
              "      <td>Sprzęt RTV</td>\n",
              "    </tr>\n",
              "    <tr>\n",
              "      <th>35454</th>\n",
              "      <td>109695</td>\n",
              "      <td>2021-03-31 18:25:34</td>\n",
              "      <td>301</td>\n",
              "      <td>1285</td>\n",
              "      <td>VIEW_PRODUCT</td>\n",
              "      <td>0</td>\n",
              "      <td>18</td>\n",
              "      <td>Wednesday</td>\n",
              "      <td>Warszawa</td>\n",
              "      <td>F</td>\n",
              "      <td>Sprzęt RTV;Video;Telewizory i akcesoria;Anteny...</td>\n",
              "      <td>82.99</td>\n",
              "      <td>1.919026</td>\n",
              "      <td>Sprzęt RTV</td>\n",
              "    </tr>\n",
              "  </tbody>\n",
              "</table>\n",
              "<p>35455 rows × 14 columns</p>\n",
              "</div>"
            ],
            "text/plain": [
              "       session_id           timestamp  user_id  ...    price price_log       cat_1\n",
              "0          100001 2021-04-15 07:53:40      102  ...    99.99  1.999957  Sprzęt RTV\n",
              "1          100001 2021-04-15 07:53:59      102  ...    99.99  1.999957  Sprzęt RTV\n",
              "2          100002 2021-03-11 10:00:27      102  ...  2399.00  3.380030   Komputery\n",
              "3          100002 2021-03-11 10:02:11      102  ...  5301.90  3.724432   Komputery\n",
              "4          100002 2021-03-11 10:02:36      102  ...  4598.00  3.662569   Komputery\n",
              "...           ...                 ...      ...  ...      ...       ...         ...\n",
              "35450      109695 2021-03-31 18:15:24      301  ...    59.99  1.778079  Sprzęt RTV\n",
              "35451      109695 2021-03-31 18:19:27      301  ...   119.00  2.075547  Sprzęt RTV\n",
              "35452      109695 2021-03-31 18:21:05      301  ...   169.00  2.227887  Sprzęt RTV\n",
              "35453      109695 2021-03-31 18:24:39      301  ...   189.00  2.276462  Sprzęt RTV\n",
              "35454      109695 2021-03-31 18:25:34      301  ...    82.99  1.919026  Sprzęt RTV\n",
              "\n",
              "[35455 rows x 14 columns]"
            ]
          },
          "metadata": {
            "tags": []
          },
          "execution_count": 164
        }
      ]
    },
    {
      "cell_type": "markdown",
      "metadata": {
        "id": "lV5uzJzVZ2jo"
      },
      "source": [
        "## Więcej wykresów po zdenormalizowaniu"
      ]
    },
    {
      "cell_type": "code",
      "metadata": {
        "colab": {
          "base_uri": "https://localhost:8080/",
          "height": 612
        },
        "id": "9IzY6buRazZl",
        "outputId": "a840fbff-2c74-4a03-fbd9-f5f58d825603"
      },
      "source": [
        "get_pmf_data(data.category_path).plot(kind='bar')"
      ],
      "execution_count": 165,
      "outputs": [
        {
          "output_type": "execute_result",
          "data": {
            "text/plain": [
              "<matplotlib.axes._subplots.AxesSubplot at 0x7fe80972ead0>"
            ]
          },
          "metadata": {
            "tags": []
          },
          "execution_count": 165
        },
        {
          "output_type": "display_data",
          "data": {
            "image/png": "[encoded data removed]",
            "text/plain": [
              "<Figure size 432x288 with 1 Axes>"
            ]
          },
          "metadata": {
            "tags": [],
            "needs_background": "light"
          }
        }
      ]
    },
    {
      "cell_type": "code",
      "metadata": {
        "colab": {
          "base_uri": "https://localhost:8080/",
          "height": 371
        },
        "id": "XGxiEMFTbxCP",
        "outputId": "b5418e0b-137d-4b72-8276-8c982e0b23ef"
      },
      "source": [
        "get_pmf_data(data.cat_1).plot(kind='bar')"
      ],
      "execution_count": 166,
      "outputs": [
        {
          "output_type": "execute_result",
          "data": {
            "text/plain": [
              "<matplotlib.axes._subplots.AxesSubplot at 0x7fe8096f9750>"
            ]
          },
          "metadata": {
            "tags": []
          },
          "execution_count": 166
        },
        {
          "output_type": "display_data",
          "data": {
            "image/png": "[encoded data removed]",
            "text/plain": [
              "<Figure size 432x288 with 1 Axes>"
            ]
          },
          "metadata": {
            "tags": [],
            "needs_background": "light"
          }
        }
      ]
    },
    {
      "cell_type": "markdown",
      "metadata": {
        "id": "H9ZHcSTkjEQd"
      },
      "source": [
        "Jak widać powyżej, rozkład liczby wyświetleń produktów w zależności od kategorii jest o wiele bardziej równomierny w porównaniu do rozkładu liczby produktów oferowanych w sklepie. Jest to bardzo dobra informacja, ponieważ rozkład wyświetleń produktów jest dla nas ważniejszy od rozkładu samej liczby produktów."
      ]
    },
    {
      "cell_type": "code",
      "metadata": {
        "colab": {
          "base_uri": "https://localhost:8080/",
          "height": 282
        },
        "id": "F5d4tK0PcFYA",
        "outputId": "15669417-108f-4364-ecdf-b9b548c9116c"
      },
      "source": [
        "data.price_log.hist(bins=16)"
      ],
      "execution_count": 167,
      "outputs": [
        {
          "output_type": "execute_result",
          "data": {
            "text/plain": [
              "<matplotlib.axes._subplots.AxesSubplot at 0x7fe8096a1390>"
            ]
          },
          "metadata": {
            "tags": []
          },
          "execution_count": 167
        },
        {
          "output_type": "display_data",
          "data": {
            "image/png": "[encoded data removed]",
            "text/plain": [
              "<Figure size 432x288 with 1 Axes>"
            ]
          },
          "metadata": {
            "tags": [],
            "needs_background": "light"
          }
        }
      ]
    },
    {
      "cell_type": "markdown",
      "metadata": {
        "id": "z0QTcIhinAFa"
      },
      "source": [
        "Widać też, że rozkład liczby wyświetleń produktów w zależności od (zlogarytmowanej) ceny nie przypomina już ładnego rozkładu Cauchyego. Ciężko nazwać powyższy rozkład. Wynika z niego na pewno, że produkty kosztujące ponad 1000 zł nie są aż tak rzadko wyświetlane."
      ]
    },
    {
      "cell_type": "code",
      "metadata": {
        "id": "ybjPa4_QcxSs"
      },
      "source": [
        "gdata = data.groupby(['session_id', 'city', 'gender'], as_index=False).count()"
      ],
      "execution_count": 168,
      "outputs": []
    },
    {
      "cell_type": "code",
      "metadata": {
        "colab": {
          "base_uri": "https://localhost:8080/",
          "height": 323
        },
        "id": "tIbDfvqZhwTm",
        "outputId": "56213015-e318-41b4-ef15-d9b9d4884f5d"
      },
      "source": [
        "get_pmf_data(gdata.city).plot(kind='bar')"
      ],
      "execution_count": 169,
      "outputs": [
        {
          "output_type": "execute_result",
          "data": {
            "text/plain": [
              "<matplotlib.axes._subplots.AxesSubplot at 0x7fe809659390>"
            ]
          },
          "metadata": {
            "tags": []
          },
          "execution_count": 169
        },
        {
          "output_type": "display_data",
          "data": {
            "image/png": "[encoded data removed]",
            "text/plain": [
              "<Figure size 432x288 with 1 Axes>"
            ]
          },
          "metadata": {
            "tags": [],
            "needs_background": "light"
          }
        }
      ]
    },
    {
      "cell_type": "code",
      "metadata": {
        "colab": {
          "base_uri": "https://localhost:8080/",
          "height": 281
        },
        "id": "Oab0rTqQhwuL",
        "outputId": "9167db0f-9e1c-4b9a-c897-d5d1f4d01ad2"
      },
      "source": [
        "get_pmf_data(gdata.gender).plot(kind='bar')"
      ],
      "execution_count": 170,
      "outputs": [
        {
          "output_type": "execute_result",
          "data": {
            "text/plain": [
              "<matplotlib.axes._subplots.AxesSubplot at 0x7fe809606e50>"
            ]
          },
          "metadata": {
            "tags": []
          },
          "execution_count": 170
        },
        {
          "output_type": "display_data",
          "data": {
            "image/png": "[encoded data removed]",
            "text/plain": [
              "<Figure size 432x288 with 1 Axes>"
            ]
          },
          "metadata": {
            "tags": [],
            "needs_background": "light"
          }
        }
      ]
    },
    {
      "cell_type": "markdown",
      "metadata": {
        "id": "dhm4A9GUq02q"
      },
      "source": [
        "Powyższe dwa wykresy przedstawiają rozkłady miast i płci klientów zarejestrowanych sesji. Nie wymagają one raczej większego komentarza."
      ]
    }
  ]
}