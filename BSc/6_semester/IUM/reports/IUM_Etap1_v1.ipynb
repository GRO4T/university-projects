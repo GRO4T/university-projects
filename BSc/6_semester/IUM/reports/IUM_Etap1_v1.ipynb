{
  "nbformat": 4,
  "nbformat_minor": 0,
  "metadata": {
    "colab": {
      "name": "IUM.ipynb",
      "provenance": [],
      "collapsed_sections": [
        "ErQARPul6bUd"
      ],
      "toc_visible": true
    },
    "kernelspec": {
      "name": "python3",
      "display_name": "Python 3"
    },
    "language_info": {
      "name": "python"
    }
  },
  "cells": [
    {
      "cell_type": "markdown",
      "metadata": {
        "id": "uzATTMfwiWhm"
      },
      "source": [
        "# Treść zadania"
      ]
    },
    {
      "cell_type": "markdown",
      "metadata": {
        "id": "nyJalajmiZ00"
      },
      "source": [
        "4. „Dobrze byłoby wiedzieć czy dana sesja użytkownika zakończy się zakupem. Dzięki temu nasi konsultanci będą mogli baczniej przyglądać się tym sesjom i szybciej rozwiązywać potencjalne problemy.”\n",
        "\n",
        "Dane IUM21L_Zad_04_04"
      ]
    },
    {
      "cell_type": "markdown",
      "metadata": {
        "id": "NdGj47tDEdJi"
      },
      "source": [
        "# Etap 1\n"
      ]
    },
    {
      "cell_type": "markdown",
      "metadata": {
        "id": "i8NeT6m5BYOJ"
      },
      "source": [
        "## Problem biznesowy, zadania modelowania, założenia i kryteria sukcesu"
      ]
    },
    {
      "cell_type": "markdown",
      "metadata": {
        "id": "78LFB7_kCcXD"
      },
      "source": [
        "„Dobrze byłoby wiedzieć czy dana sesja użytkownika zakończy się zakupem. Dzięki temu nasi konsultanci będą mogli baczniej przyglądać się tym sesjom i szybciej rozwiązywać potencjalne problemy.”\n",
        "\n",
        "Zadanie biznesowe: oznaczanie sesji jako wartych uwagi w panelu konsultanta.\n",
        "\n",
        "Biznesowe kryterium sukcesu: zwiększenie szybkości rozwiązywania zgłoszeń przez konsultantów oraz większe zadowolenie klientów mierzone ocenami zakupów.\n",
        "Zakładamy, że zgłoszenie zajmuje średnio 30min na rozwiązanie. Zatem kryterium sukcesu w tym przypadku to obniżenie tego czasu do 20min. Oczekujemy także poprawienia się średniej oceny klientów o 0.25 (w skali 0-5).\n",
        "\n",
        "Zadanie modelowania: przygotowanie modelu rekomendacyjnego\n",
        "na podstawie danych sesji.\n",
        "\n",
        "Dane do modelowania:\n",
        "* informacje o sesjach użytkowników zakończonych zakupem\n",
        "* katalog produktów\n",
        "* czasy dostawy produktów\n"
      ]
    },
    {
      "cell_type": "markdown",
      "metadata": {
        "id": "MubY2r9p6oez"
      },
      "source": [
        "## Wczytanie danych do pd.DataFrame"
      ]
    },
    {
      "cell_type": "code",
      "metadata": {
        "colab": {
          "base_uri": "https://localhost:8080/"
        },
        "id": "2X7T6_ANtD1v",
        "outputId": "74af844c-cb2d-4655-f391-6a01c526fcc7"
      },
      "source": [
        "pip install jsonlines pandas numpy"
      ],
      "execution_count": 14,
      "outputs": [
        {
          "output_type": "stream",
          "text": [
            "Requirement already satisfied: jsonlines in /usr/local/lib/python3.7/dist-packages (2.0.0)\n",
            "Requirement already satisfied: pandas in /usr/local/lib/python3.7/dist-packages (1.1.5)\n",
            "Requirement already satisfied: numpy in /usr/local/lib/python3.7/dist-packages (1.19.5)\n",
            "Requirement already satisfied: python-dateutil>=2.7.3 in /usr/local/lib/python3.7/dist-packages (from pandas) (2.8.1)\n",
            "Requirement already satisfied: pytz>=2017.2 in /usr/local/lib/python3.7/dist-packages (from pandas) (2018.9)\n",
            "Requirement already satisfied: six>=1.5 in /usr/local/lib/python3.7/dist-packages (from python-dateutil>=2.7.3->pandas) (1.15.0)\n"
          ],
          "name": "stdout"
        }
      ]
    },
    {
      "cell_type": "code",
      "metadata": {
        "id": "V2uoONvFzOJR"
      },
      "source": [
        "import jsonlines\n",
        "import pandas as pd\n",
        "import numpy as np\n",
        "\n",
        "def read_jsonl(path):\n",
        "    data = []\n",
        "\n",
        "    with jsonlines.open(path) as reader:\n",
        "        for obj in reader:\n",
        "            data.append(obj)\n",
        "\n",
        "    return pd.DataFrame(data).convert_dtypes()\n"
      ],
      "execution_count": 15,
      "outputs": []
    },
    {
      "cell_type": "code",
      "metadata": {
        "id": "c-z3uhI_uRTn"
      },
      "source": [
        "users = read_jsonl('./data-original/users.jsonl')\n",
        "sessions = read_jsonl('./data-original/sessions.jsonl')\n",
        "deliveries = read_jsonl('./data-original/deliveries.jsonl')\n",
        "products = read_jsonl('./data-original/products.jsonl')"
      ],
      "execution_count": 16,
      "outputs": []
    },
    {
      "cell_type": "markdown",
      "metadata": {
        "id": "fuQDIKAmJ1RT"
      },
      "source": [
        "## Funkcje pomocnicze"
      ]
    },
    {
      "cell_type": "code",
      "metadata": {
        "id": "M9WP18iDJ3pX"
      },
      "source": [
        "def group_and_count(df, cols):\n",
        "    return df.groupby(cols).size().reset_index(name='count')\n",
        "\n",
        "def find_duplicates(df, cols):\n",
        "    res = group_and_count(df, cols)\n",
        "    return res.loc[res['count'] > 1]\n",
        "\n",
        "def get_pmf_data(col):\n",
        "    counts = col.value_counts()\n",
        "    sum = 0\n",
        "    for x in counts:\n",
        "        sum += x\n",
        "    return counts.map(lambda x: x / sum)\n",
        "\n",
        "def get_null_count(df, col):\n",
        "    return df[df[col].isnull()].shape[0]\n",
        "\n",
        "def get_total_null_count(df):\n",
        "    return df[df.isnull().any(axis=1)].shape[0]\n"
      ],
      "execution_count": 17,
      "outputs": []
    },
    {
      "cell_type": "markdown",
      "metadata": {
        "id": "w4jZd32C7bqz"
      },
      "source": [
        "## Analiza danych, anomalie i ich poprawa"
      ]
    },
    {
      "cell_type": "markdown",
      "metadata": {
        "id": "8abFWNDhF_Sc"
      },
      "source": [
        "### Użytkownicy"
      ]
    },
    {
      "cell_type": "code",
      "metadata": {
        "id": "jjm5I62DGDJe",
        "colab": {
          "base_uri": "https://localhost:8080/",
          "height": 419
        },
        "outputId": "69771c35-d963-4eb3-e467-938f5ce9fcb1"
      },
      "source": [
        "users"
      ],
      "execution_count": 18,
      "outputs": [
        {
          "output_type": "execute_result",
          "data": {
            "text/html": [
              "<div>\n",
              "<style scoped>\n",
              "    .dataframe tbody tr th:only-of-type {\n",
              "        vertical-align: middle;\n",
              "    }\n",
              "\n",
              "    .dataframe tbody tr th {\n",
              "        vertical-align: top;\n",
              "    }\n",
              "\n",
              "    .dataframe thead th {\n",
              "        text-align: right;\n",
              "    }\n",
              "</style>\n",
              "<table border=\"1\" class=\"dataframe\">\n",
              "  <thead>\n",
              "    <tr style=\"text-align: right;\">\n",
              "      <th></th>\n",
              "      <th>user_id</th>\n",
              "      <th>name</th>\n",
              "      <th>city</th>\n",
              "      <th>street</th>\n",
              "    </tr>\n",
              "  </thead>\n",
              "  <tbody>\n",
              "    <tr>\n",
              "      <th>0</th>\n",
              "      <td>102</td>\n",
              "      <td>Michał Wejman</td>\n",
              "      <td>Kutno</td>\n",
              "      <td>ul. Orzeszkowej 65/78</td>\n",
              "    </tr>\n",
              "    <tr>\n",
              "      <th>1</th>\n",
              "      <td>103</td>\n",
              "      <td>Cyprian Bazylewicz</td>\n",
              "      <td>Mielec</td>\n",
              "      <td>ulica Orkana 34</td>\n",
              "    </tr>\n",
              "    <tr>\n",
              "      <th>2</th>\n",
              "      <td>104</td>\n",
              "      <td>Dariusz Lesik</td>\n",
              "      <td>Police</td>\n",
              "      <td>al. Wojciecha 62/42</td>\n",
              "    </tr>\n",
              "    <tr>\n",
              "      <th>3</th>\n",
              "      <td>105</td>\n",
              "      <td>Fabian Albin</td>\n",
              "      <td>Konin</td>\n",
              "      <td>aleja Brzoskwiniowa 20</td>\n",
              "    </tr>\n",
              "    <tr>\n",
              "      <th>4</th>\n",
              "      <td>106</td>\n",
              "      <td>Ada Leszczuk</td>\n",
              "      <td>Gdynia</td>\n",
              "      <td>plac Jaśminowa 93</td>\n",
              "    </tr>\n",
              "    <tr>\n",
              "      <th>...</th>\n",
              "      <td>...</td>\n",
              "      <td>...</td>\n",
              "      <td>...</td>\n",
              "      <td>...</td>\n",
              "    </tr>\n",
              "    <tr>\n",
              "      <th>195</th>\n",
              "      <td>297</td>\n",
              "      <td>Apolonia Sularz</td>\n",
              "      <td>Gdynia</td>\n",
              "      <td>pl. Wałowa 463</td>\n",
              "    </tr>\n",
              "    <tr>\n",
              "      <th>196</th>\n",
              "      <td>298</td>\n",
              "      <td>Andrzej Gąsienica</td>\n",
              "      <td>Warszawa</td>\n",
              "      <td>aleja Bema 837</td>\n",
              "    </tr>\n",
              "    <tr>\n",
              "      <th>197</th>\n",
              "      <td>299</td>\n",
              "      <td>Andrzej Leks</td>\n",
              "      <td>Mielec</td>\n",
              "      <td>aleja Urocza 52/54</td>\n",
              "    </tr>\n",
              "    <tr>\n",
              "      <th>198</th>\n",
              "      <td>300</td>\n",
              "      <td>Krystyna Szyda</td>\n",
              "      <td>Mielec</td>\n",
              "      <td>aleja Tartaczna 684</td>\n",
              "    </tr>\n",
              "    <tr>\n",
              "      <th>199</th>\n",
              "      <td>301</td>\n",
              "      <td>Eryk Łuczka</td>\n",
              "      <td>Gdynia</td>\n",
              "      <td>ulica Radosna 599</td>\n",
              "    </tr>\n",
              "  </tbody>\n",
              "</table>\n",
              "<p>200 rows × 4 columns</p>\n",
              "</div>"
            ],
            "text/plain": [
              "     user_id                name      city                  street\n",
              "0        102       Michał Wejman     Kutno   ul. Orzeszkowej 65/78\n",
              "1        103  Cyprian Bazylewicz    Mielec         ulica Orkana 34\n",
              "2        104       Dariusz Lesik    Police     al. Wojciecha 62/42\n",
              "3        105        Fabian Albin     Konin  aleja Brzoskwiniowa 20\n",
              "4        106        Ada Leszczuk    Gdynia       plac Jaśminowa 93\n",
              "..       ...                 ...       ...                     ...\n",
              "195      297     Apolonia Sularz    Gdynia          pl. Wałowa 463\n",
              "196      298   Andrzej Gąsienica  Warszawa          aleja Bema 837\n",
              "197      299        Andrzej Leks    Mielec      aleja Urocza 52/54\n",
              "198      300      Krystyna Szyda    Mielec     aleja Tartaczna 684\n",
              "199      301         Eryk Łuczka    Gdynia       ulica Radosna 599\n",
              "\n",
              "[200 rows x 4 columns]"
            ]
          },
          "metadata": {
            "tags": []
          },
          "execution_count": 18
        }
      ]
    },
    {
      "cell_type": "markdown",
      "metadata": {
        "id": "gn5EBVFuMehp"
      },
      "source": [
        "Ze względu na małą wielkość tabeli pozwoliliśmy sobie na jej wizualną analizę. Doszliśmy do wniosku, że nie ma w niej brakujących ani odstających wartości."
      ]
    },
    {
      "cell_type": "markdown",
      "metadata": {
        "id": "PM37Lzx6HvWz"
      },
      "source": [
        "Na pierwszy rzut oka wygląda, że kolumny `name` i `street` posiadają unikalne wartości dyskretne nominalne."
      ]
    },
    {
      "cell_type": "code",
      "metadata": {
        "id": "HAUTXGjLIHAZ",
        "colab": {
          "base_uri": "https://localhost:8080/",
          "height": 49
        },
        "outputId": "3e283351-2e3d-4645-c656-b61c83f09b03"
      },
      "source": [
        "find_duplicates(users, ['name'])"
      ],
      "execution_count": 19,
      "outputs": [
        {
          "output_type": "execute_result",
          "data": {
            "text/html": [
              "<div>\n",
              "<style scoped>\n",
              "    .dataframe tbody tr th:only-of-type {\n",
              "        vertical-align: middle;\n",
              "    }\n",
              "\n",
              "    .dataframe tbody tr th {\n",
              "        vertical-align: top;\n",
              "    }\n",
              "\n",
              "    .dataframe thead th {\n",
              "        text-align: right;\n",
              "    }\n",
              "</style>\n",
              "<table border=\"1\" class=\"dataframe\">\n",
              "  <thead>\n",
              "    <tr style=\"text-align: right;\">\n",
              "      <th></th>\n",
              "      <th>name</th>\n",
              "      <th>count</th>\n",
              "    </tr>\n",
              "  </thead>\n",
              "  <tbody>\n",
              "  </tbody>\n",
              "</table>\n",
              "</div>"
            ],
            "text/plain": [
              "Empty DataFrame\n",
              "Columns: [name, count]\n",
              "Index: []"
            ]
          },
          "metadata": {
            "tags": []
          },
          "execution_count": 19
        }
      ]
    },
    {
      "cell_type": "code",
      "metadata": {
        "id": "DeCh8fByMLn8",
        "colab": {
          "base_uri": "https://localhost:8080/",
          "height": 49
        },
        "outputId": "370349dd-8529-412e-dfdc-64a3acd8648a"
      },
      "source": [
        "find_duplicates(users, ['street'])"
      ],
      "execution_count": 20,
      "outputs": [
        {
          "output_type": "execute_result",
          "data": {
            "text/html": [
              "<div>\n",
              "<style scoped>\n",
              "    .dataframe tbody tr th:only-of-type {\n",
              "        vertical-align: middle;\n",
              "    }\n",
              "\n",
              "    .dataframe tbody tr th {\n",
              "        vertical-align: top;\n",
              "    }\n",
              "\n",
              "    .dataframe thead th {\n",
              "        text-align: right;\n",
              "    }\n",
              "</style>\n",
              "<table border=\"1\" class=\"dataframe\">\n",
              "  <thead>\n",
              "    <tr style=\"text-align: right;\">\n",
              "      <th></th>\n",
              "      <th>street</th>\n",
              "      <th>count</th>\n",
              "    </tr>\n",
              "  </thead>\n",
              "  <tbody>\n",
              "  </tbody>\n",
              "</table>\n",
              "</div>"
            ],
            "text/plain": [
              "Empty DataFrame\n",
              "Columns: [street, count]\n",
              "Index: []"
            ]
          },
          "metadata": {
            "tags": []
          },
          "execution_count": 20
        }
      ]
    },
    {
      "cell_type": "markdown",
      "metadata": {
        "id": "uk9z01xsO9cJ"
      },
      "source": [
        "Powyższą hipotezę potwierdziły wywołania funkcji `find_duplicates`. Mając na uwadze typ danych, a także ich unikalność, stwierdziliśmy, że kolumny `name` i `street` nie wnoszą same z siebie żadnej informacji. Owszem, te dane będą mogły zostać w jakiś sposób wykorzystane, jak już będziemy mieli gotowy model, ale na etapie samego modelowania są naszym zdaniem bezużyteczne. Niemniej jednak da się z tych kolumn wyciągnąć wartościowe dane.\n",
        "\n",
        "Na podstawie danych z kolumny `street` moglibyśmy w teorii wyznaczyć przybliżoną lokalizację w postaci długości i szerokości geograficznej, jednak taki proces byłby zbyt kosztowny i relatywnie mało wniósłby do naszego zbioru danych ze względu na fakt posiadania kolumny `city`.\n",
        "\n",
        "Z kolumny `name` możemy z dużą dokładnością odgadnąć płeć użytkownika kierując się heurystyką, że imiona kobiet kończą się literą *a* (w przeciwieństwie do imion mężczyzn). Zadanie wydaje się dosyć proste, a uzyskana informacja może się okazać dla nas bardzo cenna na późniejszym etapie."
      ]
    },
    {
      "cell_type": "code",
      "metadata": {
        "id": "LKEudInOSGbS",
        "colab": {
          "base_uri": "https://localhost:8080/",
          "height": 419
        },
        "outputId": "cfd040c3-79e1-4f73-caf6-5aea43bbacc1"
      },
      "source": [
        "genders = []\n",
        "for n in users.name:\n",
        "    first_name = n.split()[0]\n",
        "    genders.append('F' if first_name[-1] == 'a' else 'M')\n",
        "\n",
        "users = users.assign(gender=genders)\n",
        "\n",
        "users"
      ],
      "execution_count": 21,
      "outputs": [
        {
          "output_type": "execute_result",
          "data": {
            "text/html": [
              "<div>\n",
              "<style scoped>\n",
              "    .dataframe tbody tr th:only-of-type {\n",
              "        vertical-align: middle;\n",
              "    }\n",
              "\n",
              "    .dataframe tbody tr th {\n",
              "        vertical-align: top;\n",
              "    }\n",
              "\n",
              "    .dataframe thead th {\n",
              "        text-align: right;\n",
              "    }\n",
              "</style>\n",
              "<table border=\"1\" class=\"dataframe\">\n",
              "  <thead>\n",
              "    <tr style=\"text-align: right;\">\n",
              "      <th></th>\n",
              "      <th>user_id</th>\n",
              "      <th>name</th>\n",
              "      <th>city</th>\n",
              "      <th>street</th>\n",
              "      <th>gender</th>\n",
              "    </tr>\n",
              "  </thead>\n",
              "  <tbody>\n",
              "    <tr>\n",
              "      <th>0</th>\n",
              "      <td>102</td>\n",
              "      <td>Michał Wejman</td>\n",
              "      <td>Kutno</td>\n",
              "      <td>ul. Orzeszkowej 65/78</td>\n",
              "      <td>M</td>\n",
              "    </tr>\n",
              "    <tr>\n",
              "      <th>1</th>\n",
              "      <td>103</td>\n",
              "      <td>Cyprian Bazylewicz</td>\n",
              "      <td>Mielec</td>\n",
              "      <td>ulica Orkana 34</td>\n",
              "      <td>M</td>\n",
              "    </tr>\n",
              "    <tr>\n",
              "      <th>2</th>\n",
              "      <td>104</td>\n",
              "      <td>Dariusz Lesik</td>\n",
              "      <td>Police</td>\n",
              "      <td>al. Wojciecha 62/42</td>\n",
              "      <td>M</td>\n",
              "    </tr>\n",
              "    <tr>\n",
              "      <th>3</th>\n",
              "      <td>105</td>\n",
              "      <td>Fabian Albin</td>\n",
              "      <td>Konin</td>\n",
              "      <td>aleja Brzoskwiniowa 20</td>\n",
              "      <td>M</td>\n",
              "    </tr>\n",
              "    <tr>\n",
              "      <th>4</th>\n",
              "      <td>106</td>\n",
              "      <td>Ada Leszczuk</td>\n",
              "      <td>Gdynia</td>\n",
              "      <td>plac Jaśminowa 93</td>\n",
              "      <td>F</td>\n",
              "    </tr>\n",
              "    <tr>\n",
              "      <th>...</th>\n",
              "      <td>...</td>\n",
              "      <td>...</td>\n",
              "      <td>...</td>\n",
              "      <td>...</td>\n",
              "      <td>...</td>\n",
              "    </tr>\n",
              "    <tr>\n",
              "      <th>195</th>\n",
              "      <td>297</td>\n",
              "      <td>Apolonia Sularz</td>\n",
              "      <td>Gdynia</td>\n",
              "      <td>pl. Wałowa 463</td>\n",
              "      <td>F</td>\n",
              "    </tr>\n",
              "    <tr>\n",
              "      <th>196</th>\n",
              "      <td>298</td>\n",
              "      <td>Andrzej Gąsienica</td>\n",
              "      <td>Warszawa</td>\n",
              "      <td>aleja Bema 837</td>\n",
              "      <td>M</td>\n",
              "    </tr>\n",
              "    <tr>\n",
              "      <th>197</th>\n",
              "      <td>299</td>\n",
              "      <td>Andrzej Leks</td>\n",
              "      <td>Mielec</td>\n",
              "      <td>aleja Urocza 52/54</td>\n",
              "      <td>M</td>\n",
              "    </tr>\n",
              "    <tr>\n",
              "      <th>198</th>\n",
              "      <td>300</td>\n",
              "      <td>Krystyna Szyda</td>\n",
              "      <td>Mielec</td>\n",
              "      <td>aleja Tartaczna 684</td>\n",
              "      <td>F</td>\n",
              "    </tr>\n",
              "    <tr>\n",
              "      <th>199</th>\n",
              "      <td>301</td>\n",
              "      <td>Eryk Łuczka</td>\n",
              "      <td>Gdynia</td>\n",
              "      <td>ulica Radosna 599</td>\n",
              "      <td>M</td>\n",
              "    </tr>\n",
              "  </tbody>\n",
              "</table>\n",
              "<p>200 rows × 5 columns</p>\n",
              "</div>"
            ],
            "text/plain": [
              "     user_id                name      city                  street gender\n",
              "0        102       Michał Wejman     Kutno   ul. Orzeszkowej 65/78      M\n",
              "1        103  Cyprian Bazylewicz    Mielec         ulica Orkana 34      M\n",
              "2        104       Dariusz Lesik    Police     al. Wojciecha 62/42      M\n",
              "3        105        Fabian Albin     Konin  aleja Brzoskwiniowa 20      M\n",
              "4        106        Ada Leszczuk    Gdynia       plac Jaśminowa 93      F\n",
              "..       ...                 ...       ...                     ...    ...\n",
              "195      297     Apolonia Sularz    Gdynia          pl. Wałowa 463      F\n",
              "196      298   Andrzej Gąsienica  Warszawa          aleja Bema 837      M\n",
              "197      299        Andrzej Leks    Mielec      aleja Urocza 52/54      M\n",
              "198      300      Krystyna Szyda    Mielec     aleja Tartaczna 684      F\n",
              "199      301         Eryk Łuczka    Gdynia       ulica Radosna 599      M\n",
              "\n",
              "[200 rows x 5 columns]"
            ]
          },
          "metadata": {
            "tags": []
          },
          "execution_count": 21
        }
      ]
    },
    {
      "cell_type": "markdown",
      "metadata": {
        "id": "hrfbgfGhWiN-"
      },
      "source": [
        "Możemy teraz pozbyć się kolumn `name` i `street`, aby nie zaciemniać obrazu. Kolumna `user_id` przyda się przy denormalizacji danych."
      ]
    },
    {
      "cell_type": "code",
      "metadata": {
        "id": "bNAzuuCW21JI",
        "colab": {
          "base_uri": "https://localhost:8080/",
          "height": 419
        },
        "outputId": "8563c35a-d0a9-4065-e95a-25806ac1196c"
      },
      "source": [
        "users.drop('name', 1, inplace=True)\n",
        "users.drop('street', 1, inplace=True)\n",
        "\n",
        "users"
      ],
      "execution_count": 22,
      "outputs": [
        {
          "output_type": "execute_result",
          "data": {
            "text/html": [
              "<div>\n",
              "<style scoped>\n",
              "    .dataframe tbody tr th:only-of-type {\n",
              "        vertical-align: middle;\n",
              "    }\n",
              "\n",
              "    .dataframe tbody tr th {\n",
              "        vertical-align: top;\n",
              "    }\n",
              "\n",
              "    .dataframe thead th {\n",
              "        text-align: right;\n",
              "    }\n",
              "</style>\n",
              "<table border=\"1\" class=\"dataframe\">\n",
              "  <thead>\n",
              "    <tr style=\"text-align: right;\">\n",
              "      <th></th>\n",
              "      <th>user_id</th>\n",
              "      <th>city</th>\n",
              "      <th>gender</th>\n",
              "    </tr>\n",
              "  </thead>\n",
              "  <tbody>\n",
              "    <tr>\n",
              "      <th>0</th>\n",
              "      <td>102</td>\n",
              "      <td>Kutno</td>\n",
              "      <td>M</td>\n",
              "    </tr>\n",
              "    <tr>\n",
              "      <th>1</th>\n",
              "      <td>103</td>\n",
              "      <td>Mielec</td>\n",
              "      <td>M</td>\n",
              "    </tr>\n",
              "    <tr>\n",
              "      <th>2</th>\n",
              "      <td>104</td>\n",
              "      <td>Police</td>\n",
              "      <td>M</td>\n",
              "    </tr>\n",
              "    <tr>\n",
              "      <th>3</th>\n",
              "      <td>105</td>\n",
              "      <td>Konin</td>\n",
              "      <td>M</td>\n",
              "    </tr>\n",
              "    <tr>\n",
              "      <th>4</th>\n",
              "      <td>106</td>\n",
              "      <td>Gdynia</td>\n",
              "      <td>F</td>\n",
              "    </tr>\n",
              "    <tr>\n",
              "      <th>...</th>\n",
              "      <td>...</td>\n",
              "      <td>...</td>\n",
              "      <td>...</td>\n",
              "    </tr>\n",
              "    <tr>\n",
              "      <th>195</th>\n",
              "      <td>297</td>\n",
              "      <td>Gdynia</td>\n",
              "      <td>F</td>\n",
              "    </tr>\n",
              "    <tr>\n",
              "      <th>196</th>\n",
              "      <td>298</td>\n",
              "      <td>Warszawa</td>\n",
              "      <td>M</td>\n",
              "    </tr>\n",
              "    <tr>\n",
              "      <th>197</th>\n",
              "      <td>299</td>\n",
              "      <td>Mielec</td>\n",
              "      <td>M</td>\n",
              "    </tr>\n",
              "    <tr>\n",
              "      <th>198</th>\n",
              "      <td>300</td>\n",
              "      <td>Mielec</td>\n",
              "      <td>F</td>\n",
              "    </tr>\n",
              "    <tr>\n",
              "      <th>199</th>\n",
              "      <td>301</td>\n",
              "      <td>Gdynia</td>\n",
              "      <td>M</td>\n",
              "    </tr>\n",
              "  </tbody>\n",
              "</table>\n",
              "<p>200 rows × 3 columns</p>\n",
              "</div>"
            ],
            "text/plain": [
              "     user_id      city gender\n",
              "0        102     Kutno      M\n",
              "1        103    Mielec      M\n",
              "2        104    Police      M\n",
              "3        105     Konin      M\n",
              "4        106    Gdynia      F\n",
              "..       ...       ...    ...\n",
              "195      297    Gdynia      F\n",
              "196      298  Warszawa      M\n",
              "197      299    Mielec      M\n",
              "198      300    Mielec      F\n",
              "199      301    Gdynia      M\n",
              "\n",
              "[200 rows x 3 columns]"
            ]
          },
          "metadata": {
            "tags": []
          },
          "execution_count": 22
        }
      ]
    },
    {
      "cell_type": "markdown",
      "metadata": {
        "id": "GgRbz2RY3PdR"
      },
      "source": [
        "Na koniec upewnijmy się, że `user_id` nie zawiera duplikatów, a także wygenerujmy wykresy funkcji masy prawdopodobieństwa dla pozostałych dwóch kolumn."
      ]
    },
    {
      "cell_type": "code",
      "metadata": {
        "id": "enHA2dcP5kNA",
        "colab": {
          "base_uri": "https://localhost:8080/",
          "height": 49
        },
        "outputId": "803464fb-613e-4eea-fdfb-cff43d96503c"
      },
      "source": [
        "find_duplicates(users, ['user_id'])"
      ],
      "execution_count": 23,
      "outputs": [
        {
          "output_type": "execute_result",
          "data": {
            "text/html": [
              "<div>\n",
              "<style scoped>\n",
              "    .dataframe tbody tr th:only-of-type {\n",
              "        vertical-align: middle;\n",
              "    }\n",
              "\n",
              "    .dataframe tbody tr th {\n",
              "        vertical-align: top;\n",
              "    }\n",
              "\n",
              "    .dataframe thead th {\n",
              "        text-align: right;\n",
              "    }\n",
              "</style>\n",
              "<table border=\"1\" class=\"dataframe\">\n",
              "  <thead>\n",
              "    <tr style=\"text-align: right;\">\n",
              "      <th></th>\n",
              "      <th>user_id</th>\n",
              "      <th>count</th>\n",
              "    </tr>\n",
              "  </thead>\n",
              "  <tbody>\n",
              "  </tbody>\n",
              "</table>\n",
              "</div>"
            ],
            "text/plain": [
              "Empty DataFrame\n",
              "Columns: [user_id, count]\n",
              "Index: []"
            ]
          },
          "metadata": {
            "tags": []
          },
          "execution_count": 23
        }
      ]
    },
    {
      "cell_type": "code",
      "metadata": {
        "id": "S5LA7Ocg5j9Z",
        "colab": {
          "base_uri": "https://localhost:8080/",
          "height": 323
        },
        "outputId": "704e99b1-6447-4479-c765-3217ec664135"
      },
      "source": [
        "get_pmf_data(users.city).plot(kind='bar')"
      ],
      "execution_count": 24,
      "outputs": [
        {
          "output_type": "execute_result",
          "data": {
            "text/plain": [
              "<matplotlib.axes._subplots.AxesSubplot at 0x7fc672e16d10>"
            ]
          },
          "metadata": {
            "tags": []
          },
          "execution_count": 24
        },
        {
          "output_type": "display_data",
          "data": {
            "image/png": "[encoded data removed]",
            "text/plain": [
              "<Figure size 432x288 with 1 Axes>"
            ]
          },
          "metadata": {
            "tags": [],
            "needs_background": "light"
          }
        }
      ]
    },
    {
      "cell_type": "code",
      "metadata": {
        "id": "A_XrcZLZ3siX",
        "colab": {
          "base_uri": "https://localhost:8080/",
          "height": 281
        },
        "outputId": "2740cf01-a1fd-4744-916b-2b9aadb279e0"
      },
      "source": [
        "get_pmf_data(users.gender).plot(kind='bar')"
      ],
      "execution_count": 25,
      "outputs": [
        {
          "output_type": "execute_result",
          "data": {
            "text/plain": [
              "<matplotlib.axes._subplots.AxesSubplot at 0x7fc672cb8b10>"
            ]
          },
          "metadata": {
            "tags": []
          },
          "execution_count": 25
        },
        {
          "output_type": "display_data",
          "data": {
            "image/png": "[encoded data removed]",
            "text/plain": [
              "<Figure size 432x288 with 1 Axes>"
            ]
          },
          "metadata": {
            "tags": [],
            "needs_background": "light"
          }
        }
      ]
    },
    {
      "cell_type": "markdown",
      "metadata": {
        "id": "tjc2MxOaDEdi"
      },
      "source": [
        "### Produkty\n"
      ]
    },
    {
      "cell_type": "code",
      "metadata": {
        "id": "91hORb26_zvJ",
        "colab": {
          "base_uri": "https://localhost:8080/",
          "height": 419
        },
        "outputId": "d0202b28-8d95-42e9-cfc9-7d30ecea1261"
      },
      "source": [
        "products"
      ],
      "execution_count": 26,
      "outputs": [
        {
          "output_type": "execute_result",
          "data": {
            "text/html": [
              "<div>\n",
              "<style scoped>\n",
              "    .dataframe tbody tr th:only-of-type {\n",
              "        vertical-align: middle;\n",
              "    }\n",
              "\n",
              "    .dataframe tbody tr th {\n",
              "        vertical-align: top;\n",
              "    }\n",
              "\n",
              "    .dataframe thead th {\n",
              "        text-align: right;\n",
              "    }\n",
              "</style>\n",
              "<table border=\"1\" class=\"dataframe\">\n",
              "  <thead>\n",
              "    <tr style=\"text-align: right;\">\n",
              "      <th></th>\n",
              "      <th>product_id</th>\n",
              "      <th>product_name</th>\n",
              "      <th>category_path</th>\n",
              "      <th>price</th>\n",
              "    </tr>\n",
              "  </thead>\n",
              "  <tbody>\n",
              "    <tr>\n",
              "      <th>0</th>\n",
              "      <td>1001</td>\n",
              "      <td>Telefon Siemens Gigaset DA310</td>\n",
              "      <td>Telefony i akcesoria;Telefony stacjonarne</td>\n",
              "      <td>58970000.00</td>\n",
              "    </tr>\n",
              "    <tr>\n",
              "      <th>1</th>\n",
              "      <td>1002</td>\n",
              "      <td>Kyocera FS-1135MFP</td>\n",
              "      <td>Komputery;Drukarki i skanery;Biurowe urządzeni...</td>\n",
              "      <td>2048.50</td>\n",
              "    </tr>\n",
              "    <tr>\n",
              "      <th>2</th>\n",
              "      <td>1003</td>\n",
              "      <td>Kyocera FS-3640MFP</td>\n",
              "      <td>Komputery;Drukarki i skanery;Biurowe urządzeni...</td>\n",
              "      <td>7639.00</td>\n",
              "    </tr>\n",
              "    <tr>\n",
              "      <th>3</th>\n",
              "      <td>1004</td>\n",
              "      <td>Fallout 3 (Xbox 360)</td>\n",
              "      <td>Gry i konsole;Gry na konsole;Gry Xbox 360</td>\n",
              "      <td>49.99</td>\n",
              "    </tr>\n",
              "    <tr>\n",
              "      <th>4</th>\n",
              "      <td>1005</td>\n",
              "      <td>Szalone Króliki Na żywo i w kolorze (Xbox 360)</td>\n",
              "      <td>Gry i konsole;Gry na konsole;Gry Xbox 360</td>\n",
              "      <td>49.99</td>\n",
              "    </tr>\n",
              "    <tr>\n",
              "      <th>...</th>\n",
              "      <td>...</td>\n",
              "      <td>...</td>\n",
              "      <td>...</td>\n",
              "      <td>...</td>\n",
              "    </tr>\n",
              "    <tr>\n",
              "      <th>314</th>\n",
              "      <td>1315</td>\n",
              "      <td>Jabra Talk</td>\n",
              "      <td>Telefony i akcesoria;Akcesoria telefoniczne;Ze...</td>\n",
              "      <td>54.99</td>\n",
              "    </tr>\n",
              "    <tr>\n",
              "      <th>315</th>\n",
              "      <td>1316</td>\n",
              "      <td>Plantronics Voyager Legend</td>\n",
              "      <td>Telefony i akcesoria;Akcesoria telefoniczne;Ze...</td>\n",
              "      <td>249.00</td>\n",
              "    </tr>\n",
              "    <tr>\n",
              "      <th>316</th>\n",
              "      <td>1317</td>\n",
              "      <td>Plantronics Savi W740</td>\n",
              "      <td>Telefony i akcesoria;Akcesoria telefoniczne;Ze...</td>\n",
              "      <td>1303.96</td>\n",
              "    </tr>\n",
              "    <tr>\n",
              "      <th>317</th>\n",
              "      <td>1318</td>\n",
              "      <td>Plantronics Savi W710</td>\n",
              "      <td>Sprzęt RTV;Audio;Słuchawki</td>\n",
              "      <td>553.00</td>\n",
              "    </tr>\n",
              "    <tr>\n",
              "      <th>318</th>\n",
              "      <td>1319</td>\n",
              "      <td>HTC HS-S200</td>\n",
              "      <td>Telefony i akcesoria;Akcesoria telefoniczne;Ze...</td>\n",
              "      <td>14.99</td>\n",
              "    </tr>\n",
              "  </tbody>\n",
              "</table>\n",
              "<p>319 rows × 4 columns</p>\n",
              "</div>"
            ],
            "text/plain": [
              "     product_id  ...        price\n",
              "0          1001  ...  58970000.00\n",
              "1          1002  ...      2048.50\n",
              "2          1003  ...      7639.00\n",
              "3          1004  ...        49.99\n",
              "4          1005  ...        49.99\n",
              "..          ...  ...          ...\n",
              "314        1315  ...        54.99\n",
              "315        1316  ...       249.00\n",
              "316        1317  ...      1303.96\n",
              "317        1318  ...       553.00\n",
              "318        1319  ...        14.99\n",
              "\n",
              "[319 rows x 4 columns]"
            ]
          },
          "metadata": {
            "tags": []
          },
          "execution_count": 26
        }
      ]
    },
    {
      "cell_type": "markdown",
      "metadata": {
        "id": "iUceptqeXOnE"
      },
      "source": [
        "Podobnie jak w przypadku tabeli z użytkownikami, tą tabelę także przeanalizowaliśmy wizualnie i nie zauważyliśmy brakujących danych. Znaleźliśmy natomiast 3 problemy:\n",
        "1. produkt o id == 1076 posiada bardzo długą nazwę, w której nazwa produktu stanowi tylko jej pierwszą część,\n",
        "2. niektóre produkty posiadają ujemne ceny\n",
        "3. niektóre produkty posiadają ceny *z kosmosu*"
      ]
    },
    {
      "cell_type": "markdown",
      "metadata": {
        "id": "OkY0HIPME036"
      },
      "source": [
        "#### Ujemne ceny produktów"
      ]
    },
    {
      "cell_type": "code",
      "metadata": {
        "id": "RdQjfmEEICbn",
        "colab": {
          "base_uri": "https://localhost:8080/",
          "height": 297
        },
        "outputId": "286d1ccb-dcf1-46b8-f78e-db77f0b03d51"
      },
      "source": [
        "products[products.price < 0].head(8)"
      ],
      "execution_count": 27,
      "outputs": [
        {
          "output_type": "execute_result",
          "data": {
            "text/html": [
              "<div>\n",
              "<style scoped>\n",
              "    .dataframe tbody tr th:only-of-type {\n",
              "        vertical-align: middle;\n",
              "    }\n",
              "\n",
              "    .dataframe tbody tr th {\n",
              "        vertical-align: top;\n",
              "    }\n",
              "\n",
              "    .dataframe thead th {\n",
              "        text-align: right;\n",
              "    }\n",
              "</style>\n",
              "<table border=\"1\" class=\"dataframe\">\n",
              "  <thead>\n",
              "    <tr style=\"text-align: right;\">\n",
              "      <th></th>\n",
              "      <th>product_id</th>\n",
              "      <th>product_name</th>\n",
              "      <th>category_path</th>\n",
              "      <th>price</th>\n",
              "    </tr>\n",
              "  </thead>\n",
              "  <tbody>\n",
              "    <tr>\n",
              "      <th>19</th>\n",
              "      <td>1020</td>\n",
              "      <td>Dead Space 2 (Xbox 360)</td>\n",
              "      <td>Gry i konsole;Gry na konsole;Gry Xbox 360</td>\n",
              "      <td>-89.00</td>\n",
              "    </tr>\n",
              "    <tr>\n",
              "      <th>23</th>\n",
              "      <td>1024</td>\n",
              "      <td>Mortal Kombat (Xbox 360)</td>\n",
              "      <td>Gry i konsole;Gry na konsole;Gry Xbox 360</td>\n",
              "      <td>-89.99</td>\n",
              "    </tr>\n",
              "    <tr>\n",
              "      <th>43</th>\n",
              "      <td>1044</td>\n",
              "      <td>Assassin&amp;#39;s Creed 3 (PS3)</td>\n",
              "      <td>Gry i konsole;Gry na konsole;Gry PlayStation3</td>\n",
              "      <td>-79.90</td>\n",
              "    </tr>\n",
              "    <tr>\n",
              "      <th>44</th>\n",
              "      <td>1045</td>\n",
              "      <td>Call of Duty Modern Warfare 2 (PS3)</td>\n",
              "      <td>Gry i konsole;Gry na konsole;Gry PlayStation3</td>\n",
              "      <td>-59.90</td>\n",
              "    </tr>\n",
              "    <tr>\n",
              "      <th>48</th>\n",
              "      <td>1049</td>\n",
              "      <td>Max Payne 3 (PC)</td>\n",
              "      <td>Gry i konsole;Gry komputerowe</td>\n",
              "      <td>-17.90</td>\n",
              "    </tr>\n",
              "    <tr>\n",
              "      <th>49</th>\n",
              "      <td>1050</td>\n",
              "      <td>Bioshock 2 (PC)</td>\n",
              "      <td>Gry i konsole;Gry komputerowe</td>\n",
              "      <td>-37.90</td>\n",
              "    </tr>\n",
              "    <tr>\n",
              "      <th>58</th>\n",
              "      <td>1059</td>\n",
              "      <td>Auta 2 (PC)</td>\n",
              "      <td>Gry i konsole;Gry komputerowe</td>\n",
              "      <td>-22.90</td>\n",
              "    </tr>\n",
              "    <tr>\n",
              "      <th>63</th>\n",
              "      <td>1064</td>\n",
              "      <td>LCD BenQ GL2250HM</td>\n",
              "      <td>Komputery;Monitory;Monitory LCD</td>\n",
              "      <td>-380.90</td>\n",
              "    </tr>\n",
              "  </tbody>\n",
              "</table>\n",
              "</div>"
            ],
            "text/plain": [
              "    product_id  ...   price\n",
              "19        1020  ...  -89.00\n",
              "23        1024  ...  -89.99\n",
              "43        1044  ...  -79.90\n",
              "44        1045  ...  -59.90\n",
              "48        1049  ...  -17.90\n",
              "49        1050  ...  -37.90\n",
              "58        1059  ...  -22.90\n",
              "63        1064  ... -380.90\n",
              "\n",
              "[8 rows x 4 columns]"
            ]
          },
          "metadata": {
            "tags": []
          },
          "execution_count": 27
        }
      ]
    },
    {
      "cell_type": "markdown",
      "metadata": {
        "id": "yDucbgIJHd3T"
      },
      "source": [
        "Od razu jednak zauważyliśmy, że wartości bezwględne z powyższych cen dają prawidłowe ceny. Naprawiamy problem stosując funkcję **abs()**."
      ]
    },
    {
      "cell_type": "code",
      "metadata": {
        "id": "lbA2w557H86j"
      },
      "source": [
        "products.price = products.price.abs()"
      ],
      "execution_count": 28,
      "outputs": []
    },
    {
      "cell_type": "markdown",
      "metadata": {
        "id": "yIRsDCK3LYJ8"
      },
      "source": [
        "#### Ceny *z kosmosu*"
      ]
    },
    {
      "cell_type": "code",
      "metadata": {
        "id": "UAOyDfZ8eWHg",
        "colab": {
          "base_uri": "https://localhost:8080/",
          "height": 297
        },
        "outputId": "97086b31-9b5f-40d5-f7b8-35d7b017b5b2"
      },
      "source": [
        "PRICE_THRESHOLD = 100000\n",
        "products[products.price > PRICE_THRESHOLD].head(8)"
      ],
      "execution_count": 29,
      "outputs": [
        {
          "output_type": "execute_result",
          "data": {
            "text/html": [
              "<div>\n",
              "<style scoped>\n",
              "    .dataframe tbody tr th:only-of-type {\n",
              "        vertical-align: middle;\n",
              "    }\n",
              "\n",
              "    .dataframe tbody tr th {\n",
              "        vertical-align: top;\n",
              "    }\n",
              "\n",
              "    .dataframe thead th {\n",
              "        text-align: right;\n",
              "    }\n",
              "</style>\n",
              "<table border=\"1\" class=\"dataframe\">\n",
              "  <thead>\n",
              "    <tr style=\"text-align: right;\">\n",
              "      <th></th>\n",
              "      <th>product_id</th>\n",
              "      <th>product_name</th>\n",
              "      <th>category_path</th>\n",
              "      <th>price</th>\n",
              "    </tr>\n",
              "  </thead>\n",
              "  <tbody>\n",
              "    <tr>\n",
              "      <th>0</th>\n",
              "      <td>1001</td>\n",
              "      <td>Telefon Siemens Gigaset DA310</td>\n",
              "      <td>Telefony i akcesoria;Telefony stacjonarne</td>\n",
              "      <td>58970000.0</td>\n",
              "    </tr>\n",
              "    <tr>\n",
              "      <th>8</th>\n",
              "      <td>1009</td>\n",
              "      <td>Kinect Joy Ride (Xbox 360)</td>\n",
              "      <td>Gry i konsole;Gry na konsole;Gry Xbox 360</td>\n",
              "      <td>69000000.0</td>\n",
              "    </tr>\n",
              "    <tr>\n",
              "      <th>35</th>\n",
              "      <td>1036</td>\n",
              "      <td>LCD Asus VK228H</td>\n",
              "      <td>Komputery;Monitory;Monitory LCD</td>\n",
              "      <td>639000000.0</td>\n",
              "    </tr>\n",
              "    <tr>\n",
              "      <th>42</th>\n",
              "      <td>1043</td>\n",
              "      <td>Fight Night Champion (PS3)</td>\n",
              "      <td>Gry i konsole;Gry na konsole;Gry PlayStation3</td>\n",
              "      <td>109000000.0</td>\n",
              "    </tr>\n",
              "    <tr>\n",
              "      <th>72</th>\n",
              "      <td>1073</td>\n",
              "      <td>Jabra Drive</td>\n",
              "      <td>Telefony i akcesoria;Akcesoria telefoniczne;Ze...</td>\n",
              "      <td>129000000.0</td>\n",
              "    </tr>\n",
              "    <tr>\n",
              "      <th>140</th>\n",
              "      <td>1141</td>\n",
              "      <td>Król Futbolu Piłkarski Quiz (PC)</td>\n",
              "      <td>Gry i konsole;Gry komputerowe</td>\n",
              "      <td>1000000.0</td>\n",
              "    </tr>\n",
              "    <tr>\n",
              "      <th>142</th>\n",
              "      <td>1143</td>\n",
              "      <td>GTR Evolution (PC)</td>\n",
              "      <td>Gry i konsole;Gry komputerowe</td>\n",
              "      <td>25490000.0</td>\n",
              "    </tr>\n",
              "    <tr>\n",
              "      <th>153</th>\n",
              "      <td>1154</td>\n",
              "      <td>Civilization 4 (PC)</td>\n",
              "      <td>Gry i konsole;Gry komputerowe</td>\n",
              "      <td>40900000.0</td>\n",
              "    </tr>\n",
              "  </tbody>\n",
              "</table>\n",
              "</div>"
            ],
            "text/plain": [
              "     product_id  ...        price\n",
              "0          1001  ...   58970000.0\n",
              "8          1009  ...   69000000.0\n",
              "35         1036  ...  639000000.0\n",
              "42         1043  ...  109000000.0\n",
              "72         1073  ...  129000000.0\n",
              "140        1141  ...    1000000.0\n",
              "142        1143  ...   25490000.0\n",
              "153        1154  ...   40900000.0\n",
              "\n",
              "[8 rows x 4 columns]"
            ]
          },
          "metadata": {
            "tags": []
          },
          "execution_count": 29
        }
      ]
    },
    {
      "cell_type": "markdown",
      "metadata": {
        "id": "60rykvWsLfrO"
      },
      "source": [
        "Początkowo planowaliśmy znaleźć średnią cenę produktu w każdej kategorii (wykluczając produkty z nierelanie wysokimi cenami) i przypisać znalezione wartości produktom z błędnymi cenami, jednak po dokładniejszym przypatrzeniu się błędnym wartościom zauważyliśmy, że wystarczy podzielić je przez 10^6, aby uzyskać prawidłowe ceny."
      ]
    },
    {
      "cell_type": "code",
      "metadata": {
        "id": "55XxfUtPfjqj"
      },
      "source": [
        "for i, p in products.iterrows():\n",
        "    price = p.price\n",
        "    if price > PRICE_THRESHOLD:\n",
        "        price /= 10**6\n",
        "        products.at[i, 'price'] = price"
      ],
      "execution_count": 30,
      "outputs": []
    },
    {
      "cell_type": "markdown",
      "metadata": {
        "id": "0hHowsYbZT4V"
      },
      "source": [
        "#### Nazwy produktów"
      ]
    },
    {
      "cell_type": "markdown",
      "metadata": {
        "id": "Kc5WFnu_Zbjo"
      },
      "source": [
        "Sytuacja analogiczna do kolumn `name` i `street` z tabeli z użytkownikami. Po upewnieniu się, że `product_name` nie zawiera duplikatów, możemy pozbyć się tej kolumny, ponieważ nie jesteśmy w stanie wyciągnąć z niej żadnej informacji. Nie przejmujemy się także pojedynczym produktem ze zbyt długą nazwą, ponieważ mimo tego zawiera on na początku właściwą nazwę produktu."
      ]
    },
    {
      "cell_type": "code",
      "metadata": {
        "id": "d9EMXnxgkeCx",
        "colab": {
          "base_uri": "https://localhost:8080/",
          "height": 49
        },
        "outputId": "4d8e221a-2cd9-4853-e3a3-132f7b366c31"
      },
      "source": [
        "find_duplicates(products, ['product_name'])"
      ],
      "execution_count": 31,
      "outputs": [
        {
          "output_type": "execute_result",
          "data": {
            "text/html": [
              "<div>\n",
              "<style scoped>\n",
              "    .dataframe tbody tr th:only-of-type {\n",
              "        vertical-align: middle;\n",
              "    }\n",
              "\n",
              "    .dataframe tbody tr th {\n",
              "        vertical-align: top;\n",
              "    }\n",
              "\n",
              "    .dataframe thead th {\n",
              "        text-align: right;\n",
              "    }\n",
              "</style>\n",
              "<table border=\"1\" class=\"dataframe\">\n",
              "  <thead>\n",
              "    <tr style=\"text-align: right;\">\n",
              "      <th></th>\n",
              "      <th>product_name</th>\n",
              "      <th>count</th>\n",
              "    </tr>\n",
              "  </thead>\n",
              "  <tbody>\n",
              "  </tbody>\n",
              "</table>\n",
              "</div>"
            ],
            "text/plain": [
              "Empty DataFrame\n",
              "Columns: [product_name, count]\n",
              "Index: []"
            ]
          },
          "metadata": {
            "tags": []
          },
          "execution_count": 31
        }
      ]
    },
    {
      "cell_type": "code",
      "metadata": {
        "id": "gVznI7CAkobH"
      },
      "source": [
        "products.drop('product_name', 1, inplace=True)"
      ],
      "execution_count": 32,
      "outputs": []
    },
    {
      "cell_type": "markdown",
      "metadata": {
        "id": "NhwHdSopmVO2"
      },
      "source": [
        "#### Rozkłady cen i kategorii"
      ]
    },
    {
      "cell_type": "markdown",
      "metadata": {
        "id": "IrmXxtSmtmlL"
      },
      "source": [
        "Zacznijmy od wygenerowania rozkładu cen."
      ]
    },
    {
      "cell_type": "code",
      "metadata": {
        "id": "Gv-Y8ES9mm_6",
        "colab": {
          "base_uri": "https://localhost:8080/",
          "height": 284
        },
        "outputId": "af620133-6923-4b2a-9a7f-5b224a9c80dc"
      },
      "source": [
        "products.price.hist(bins = 80)"
      ],
      "execution_count": 33,
      "outputs": [
        {
          "output_type": "execute_result",
          "data": {
            "text/plain": [
              "<matplotlib.axes._subplots.AxesSubplot at 0x7fc672cc1450>"
            ]
          },
          "metadata": {
            "tags": []
          },
          "execution_count": 33
        },
        {
          "output_type": "display_data",
          "data": {
            "image/png": "[encoded data removed]",
            "text/plain": [
              "<Figure size 432x288 with 1 Axes>"
            ]
          },
          "metadata": {
            "tags": [],
            "needs_background": "light"
          }
        }
      ]
    },
    {
      "cell_type": "markdown",
      "metadata": {
        "id": "Qn3GoapJq75c"
      },
      "source": [
        "Nie wygląda to dobrze, ale trochę przypomina rozkład normalny logarytmiczny. Spróbujmy zlogarytmować ceny i wygenerować kolejny rozkład."
      ]
    },
    {
      "cell_type": "code",
      "metadata": {
        "id": "I0tCGs35rV9m",
        "colab": {
          "base_uri": "https://localhost:8080/",
          "height": 282
        },
        "outputId": "9d287158-818e-4794-9e82-7ad5017a580b"
      },
      "source": [
        "products['price_log'] = np.log10(products.price)\n",
        "products.price_log.hist(bins = 16)"
      ],
      "execution_count": 34,
      "outputs": [
        {
          "output_type": "execute_result",
          "data": {
            "text/plain": [
              "<matplotlib.axes._subplots.AxesSubplot at 0x7fc672d728d0>"
            ]
          },
          "metadata": {
            "tags": []
          },
          "execution_count": 34
        },
        {
          "output_type": "display_data",
          "data": {
            "image/png": "[encoded data removed]",
            "text/plain": [
              "<Figure size 432x288 with 1 Axes>"
            ]
          },
          "metadata": {
            "tags": [],
            "needs_background": "light"
          }
        }
      ]
    },
    {
      "cell_type": "markdown",
      "metadata": {
        "id": "YOf50kN0pcoS"
      },
      "source": [
        "Ze względu na \"grube ogony\" rozkład przypomina swoją postacią rozkład Cauchyego."
      ]
    },
    {
      "cell_type": "markdown",
      "metadata": {
        "id": "AgpYZr8gtfvr"
      },
      "source": [
        "Zobaczmy, co dostaniemy generując wykresy funkcji masy prawdopodobieństwa dla ścieżek kategorii."
      ]
    },
    {
      "cell_type": "code",
      "metadata": {
        "id": "eGlZ5dcjlVyV",
        "colab": {
          "base_uri": "https://localhost:8080/",
          "height": 612
        },
        "outputId": "48186d13-bf2f-4eed-c6a1-df391b04b85e"
      },
      "source": [
        "get_pmf_data(products.category_path).plot(kind='bar')"
      ],
      "execution_count": 35,
      "outputs": [
        {
          "output_type": "execute_result",
          "data": {
            "text/plain": [
              "<matplotlib.axes._subplots.AxesSubplot at 0x7fc672aee490>"
            ]
          },
          "metadata": {
            "tags": []
          },
          "execution_count": 35
        },
        {
          "output_type": "display_data",
          "data": {
            "image/png": "[encoded data removed]",
            "text/plain": [
              "<Figure size 432x288 with 1 Axes>"
            ]
          },
          "metadata": {
            "tags": [],
            "needs_background": "light"
          }
        }
      ]
    },
    {
      "cell_type": "markdown",
      "metadata": {
        "id": "D2zZkaDkuS_3"
      },
      "source": [
        "Ponieważ kategorie są wartościami dyskretnymi, nie możemy ich zlogarytmować. Na wykresie powyżej wyraźnie widać, że kategorie znacząco różnią się liczbą produktów, które się w nich znajdują. Całe szczęście możemy spróbować wyciągnąć tylko pierwszą kategorię ze ścieżki. Być może pogrupowanie produktów w ten sposób przyniesie bardziej zrównoważone wyniki."
      ]
    },
    {
      "cell_type": "code",
      "metadata": {
        "id": "uEPKR0Chl-_o",
        "colab": {
          "base_uri": "https://localhost:8080/",
          "height": 371
        },
        "outputId": "04f1bd74-87d5-449a-ff62-ced2caa8290f"
      },
      "source": [
        "cat_1 = []\n",
        "for c in products.category_path:\n",
        "    path = c.split(';')\n",
        "    cat_1.append(path[0])\n",
        "\n",
        "get_pmf_data(pd.Series(cat_1)).plot(kind='bar')"
      ],
      "execution_count": 36,
      "outputs": [
        {
          "output_type": "execute_result",
          "data": {
            "text/plain": [
              "<matplotlib.axes._subplots.AxesSubplot at 0x7fc672bfe7d0>"
            ]
          },
          "metadata": {
            "tags": []
          },
          "execution_count": 36
        },
        {
          "output_type": "display_data",
          "data": {
            "image/png": "[encoded data removed]",
            "text/plain": [
              "<Figure size 432x288 with 1 Axes>"
            ]
          },
          "metadata": {
            "tags": [],
            "needs_background": "light"
          }
        }
      ]
    },
    {
      "cell_type": "markdown",
      "metadata": {
        "id": "SWQxHevey_rI"
      },
      "source": [
        "Niestety za wiele to nie pomogło. Kategorie w dalszym ciągu są bardzo niezbalansowane. Wpłynie to negatywnie na jakość naszego modelu, chyba że uda nam się uzyskać dostęp do bardziej rozbudowanego zbioru danych."
      ]
    },
    {
      "cell_type": "markdown",
      "metadata": {
        "id": "sT35hhRBiW2e"
      },
      "source": [
        "### Dostawy"
      ]
    },
    {
      "cell_type": "code",
      "metadata": {
        "id": "TXUA28212zAq",
        "colab": {
          "base_uri": "https://localhost:8080/",
          "height": 419
        },
        "outputId": "d95c8977-99ae-4d88-f1a1-cbb36d22a73b"
      },
      "source": [
        "deliveries"
      ],
      "execution_count": 37,
      "outputs": [
        {
          "output_type": "execute_result",
          "data": {
            "text/html": [
              "<div>\n",
              "<style scoped>\n",
              "    .dataframe tbody tr th:only-of-type {\n",
              "        vertical-align: middle;\n",
              "    }\n",
              "\n",
              "    .dataframe tbody tr th {\n",
              "        vertical-align: top;\n",
              "    }\n",
              "\n",
              "    .dataframe thead th {\n",
              "        text-align: right;\n",
              "    }\n",
              "</style>\n",
              "<table border=\"1\" class=\"dataframe\">\n",
              "  <thead>\n",
              "    <tr style=\"text-align: right;\">\n",
              "      <th></th>\n",
              "      <th>purchase_id</th>\n",
              "      <th>purchase_timestamp</th>\n",
              "      <th>delivery_timestamp</th>\n",
              "      <th>delivery_company</th>\n",
              "    </tr>\n",
              "  </thead>\n",
              "  <tbody>\n",
              "    <tr>\n",
              "      <th>0</th>\n",
              "      <td>20001</td>\n",
              "      <td>2021-02-05T08:33:28</td>\n",
              "      <td>2021-02-08T08:37:06</td>\n",
              "      <td>360</td>\n",
              "    </tr>\n",
              "    <tr>\n",
              "      <th>1</th>\n",
              "      <td>20002</td>\n",
              "      <td>2021-03-07T12:23:15</td>\n",
              "      <td>2021-03-11T12:26:35</td>\n",
              "      <td>516</td>\n",
              "    </tr>\n",
              "    <tr>\n",
              "      <th>2</th>\n",
              "      <td>20003</td>\n",
              "      <td>2021-01-02T15:20:11</td>\n",
              "      <td>2021-01-06T15:20:31</td>\n",
              "      <td>516</td>\n",
              "    </tr>\n",
              "    <tr>\n",
              "      <th>3</th>\n",
              "      <td>20004</td>\n",
              "      <td>2021-02-11T19:37:19</td>\n",
              "      <td>2021-02-16T19:40:13</td>\n",
              "      <td>360</td>\n",
              "    </tr>\n",
              "    <tr>\n",
              "      <th>4</th>\n",
              "      <td>20005</td>\n",
              "      <td>2021-03-05T17:08:07</td>\n",
              "      <td>2021-03-10T17:12:38</td>\n",
              "      <td>&lt;NA&gt;</td>\n",
              "    </tr>\n",
              "    <tr>\n",
              "      <th>...</th>\n",
              "      <td>...</td>\n",
              "      <td>...</td>\n",
              "      <td>...</td>\n",
              "      <td>...</td>\n",
              "    </tr>\n",
              "    <tr>\n",
              "      <th>4952</th>\n",
              "      <td>24953</td>\n",
              "      <td>2021-02-18T10:43:51</td>\n",
              "      <td>2021-02-22T10:47:16</td>\n",
              "      <td>360</td>\n",
              "    </tr>\n",
              "    <tr>\n",
              "      <th>4953</th>\n",
              "      <td>24954</td>\n",
              "      <td>2021-03-07T15:09:09</td>\n",
              "      <td>2021-03-12T15:14:03</td>\n",
              "      <td>516</td>\n",
              "    </tr>\n",
              "    <tr>\n",
              "      <th>4954</th>\n",
              "      <td>24955</td>\n",
              "      <td>2021-02-14T10:34:07</td>\n",
              "      <td>2021-02-18T10:36:04</td>\n",
              "      <td>620</td>\n",
              "    </tr>\n",
              "    <tr>\n",
              "      <th>4955</th>\n",
              "      <td>24956</td>\n",
              "      <td>2021-02-05T13:31:10</td>\n",
              "      <td>2021-02-08T13:32:00</td>\n",
              "      <td>620</td>\n",
              "    </tr>\n",
              "    <tr>\n",
              "      <th>4956</th>\n",
              "      <td>24957</td>\n",
              "      <td>2021-01-29T01:14:50</td>\n",
              "      <td>2021-02-03T01:15:59</td>\n",
              "      <td>360</td>\n",
              "    </tr>\n",
              "  </tbody>\n",
              "</table>\n",
              "<p>4957 rows × 4 columns</p>\n",
              "</div>"
            ],
            "text/plain": [
              "      purchase_id   purchase_timestamp   delivery_timestamp  delivery_company\n",
              "0           20001  2021-02-05T08:33:28  2021-02-08T08:37:06               360\n",
              "1           20002  2021-03-07T12:23:15  2021-03-11T12:26:35               516\n",
              "2           20003  2021-01-02T15:20:11  2021-01-06T15:20:31               516\n",
              "3           20004  2021-02-11T19:37:19  2021-02-16T19:40:13               360\n",
              "4           20005  2021-03-05T17:08:07  2021-03-10T17:12:38              <NA>\n",
              "...           ...                  ...                  ...               ...\n",
              "4952        24953  2021-02-18T10:43:51  2021-02-22T10:47:16               360\n",
              "4953        24954  2021-03-07T15:09:09  2021-03-12T15:14:03               516\n",
              "4954        24955  2021-02-14T10:34:07  2021-02-18T10:36:04               620\n",
              "4955        24956  2021-02-05T13:31:10  2021-02-08T13:32:00               620\n",
              "4956        24957  2021-01-29T01:14:50  2021-02-03T01:15:59               360\n",
              "\n",
              "[4957 rows x 4 columns]"
            ]
          },
          "metadata": {
            "tags": []
          },
          "execution_count": 37
        }
      ]
    },
    {
      "cell_type": "code",
      "metadata": {
        "id": "v-CNrBXvYFwm",
        "colab": {
          "base_uri": "https://localhost:8080/"
        },
        "outputId": "45b95e3f-d7e5-4536-e752-7945aed2f740"
      },
      "source": [
        "get_null_count(deliveries, 'purchase_timestamp')"
      ],
      "execution_count": 38,
      "outputs": [
        {
          "output_type": "execute_result",
          "data": {
            "text/plain": [
              "0"
            ]
          },
          "metadata": {
            "tags": []
          },
          "execution_count": 38
        }
      ]
    },
    {
      "cell_type": "code",
      "metadata": {
        "id": "6LSVCm8_VpKe",
        "colab": {
          "base_uri": "https://localhost:8080/"
        },
        "outputId": "6009ae58-80bb-4bd2-b416-cce607131490"
      },
      "source": [
        "get_null_count(deliveries, 'delivery_timestamp')"
      ],
      "execution_count": 39,
      "outputs": [
        {
          "output_type": "execute_result",
          "data": {
            "text/plain": [
              "238"
            ]
          },
          "metadata": {
            "tags": []
          },
          "execution_count": 39
        }
      ]
    },
    {
      "cell_type": "code",
      "metadata": {
        "id": "AL9TZwL_YGoy",
        "colab": {
          "base_uri": "https://localhost:8080/"
        },
        "outputId": "17d96a26-e55a-413e-8c85-8725474defac"
      },
      "source": [
        "get_null_count(deliveries, 'delivery_company')"
      ],
      "execution_count": 40,
      "outputs": [
        {
          "output_type": "execute_result",
          "data": {
            "text/plain": [
              "247"
            ]
          },
          "metadata": {
            "tags": []
          },
          "execution_count": 40
        }
      ]
    },
    {
      "cell_type": "code",
      "metadata": {
        "id": "fH_KacUeZbsO",
        "colab": {
          "base_uri": "https://localhost:8080/"
        },
        "outputId": "412161d8-dad2-495a-b34a-60ecf90f64d9"
      },
      "source": [
        "get_total_null_count(deliveries)"
      ],
      "execution_count": 41,
      "outputs": [
        {
          "output_type": "execute_result",
          "data": {
            "text/plain": [
              "473"
            ]
          },
          "metadata": {
            "tags": []
          },
          "execution_count": 41
        }
      ]
    },
    {
      "cell_type": "markdown",
      "metadata": {
        "id": "we1AVYLJZDju"
      },
      "source": [
        "Prawie 10% rekordów posiada brakujące wartości w kolumnie `delivery_timestamp` lub `delivery_company`."
      ]
    },
    {
      "cell_type": "code",
      "metadata": {
        "id": "lCyTQH5yaVCO",
        "colab": {
          "base_uri": "https://localhost:8080/"
        },
        "outputId": "35581f58-d9b3-4ea6-e0ad-3ed952c98c0a"
      },
      "source": [
        "deliveries[deliveries.purchase_timestamp >= deliveries.delivery_timestamp].shape[0]"
      ],
      "execution_count": 42,
      "outputs": [
        {
          "output_type": "execute_result",
          "data": {
            "text/plain": [
              "0"
            ]
          },
          "metadata": {
            "tags": []
          },
          "execution_count": 42
        }
      ]
    },
    {
      "cell_type": "markdown",
      "metadata": {
        "id": "RnBp9D76a6EC"
      },
      "source": [
        "Całe szczęście przynajmniej daty są na pierwszy rzut oka poprawne, tj. czas dostarczenia jest zawsze późniejszy od czasu zakupu."
      ]
    },
    {
      "cell_type": "markdown",
      "metadata": {
        "id": "OjE1k1rLbaUq"
      },
      "source": [
        "Zauważyliśmy jednak, że tabela z sesjami również posiada kolumnę `timestamp`. Logiczne by zatem było, aby wartości w kolumnie `timestamp` w tabeli z sesjami pokrywały się z odpowiadającymi wartościami w kolumnie `purchase_timestamp` w tabeli z dostawami, jeśli `event_type == BUY_PRODUCT`. Sprawdźmy to!"
      ]
    },
    {
      "cell_type": "code",
      "metadata": {
        "id": "HBhzj1u6ccwa",
        "colab": {
          "base_uri": "https://localhost:8080/",
          "height": 419
        },
        "outputId": "9950af27-0458-4167-871a-51912b7f349e"
      },
      "source": [
        "del_ses = sessions.merge(deliveries, how='left', on='purchase_id')\n",
        "del_ses_buy = del_ses[(del_ses.event_type == 'BUY_PRODUCT') & (del_ses.timestamp == del_ses.purchase_timestamp)]\n",
        "del_ses_buy[['session_id', 'timestamp', 'purchase_timestamp']]"
      ],
      "execution_count": 43,
      "outputs": [
        {
          "output_type": "execute_result",
          "data": {
            "text/html": [
              "<div>\n",
              "<style scoped>\n",
              "    .dataframe tbody tr th:only-of-type {\n",
              "        vertical-align: middle;\n",
              "    }\n",
              "\n",
              "    .dataframe tbody tr th {\n",
              "        vertical-align: top;\n",
              "    }\n",
              "\n",
              "    .dataframe thead th {\n",
              "        text-align: right;\n",
              "    }\n",
              "</style>\n",
              "<table border=\"1\" class=\"dataframe\">\n",
              "  <thead>\n",
              "    <tr style=\"text-align: right;\">\n",
              "      <th></th>\n",
              "      <th>session_id</th>\n",
              "      <th>timestamp</th>\n",
              "      <th>purchase_timestamp</th>\n",
              "    </tr>\n",
              "  </thead>\n",
              "  <tbody>\n",
              "    <tr>\n",
              "      <th>2</th>\n",
              "      <td>100001</td>\n",
              "      <td>2021-02-05T08:33:28</td>\n",
              "      <td>2021-02-05T08:33:28</td>\n",
              "    </tr>\n",
              "    <tr>\n",
              "      <th>7</th>\n",
              "      <td>100003</td>\n",
              "      <td>2021-03-07T12:23:15</td>\n",
              "      <td>2021-03-07T12:23:15</td>\n",
              "    </tr>\n",
              "    <tr>\n",
              "      <th>18</th>\n",
              "      <td>100006</td>\n",
              "      <td>2021-01-02T15:20:11</td>\n",
              "      <td>2021-01-02T15:20:11</td>\n",
              "    </tr>\n",
              "    <tr>\n",
              "      <th>21</th>\n",
              "      <td>100007</td>\n",
              "      <td>2021-02-11T19:37:19</td>\n",
              "      <td>2021-02-11T19:37:19</td>\n",
              "    </tr>\n",
              "    <tr>\n",
              "      <th>27</th>\n",
              "      <td>100010</td>\n",
              "      <td>2021-03-05T17:08:07</td>\n",
              "      <td>2021-03-05T17:08:07</td>\n",
              "    </tr>\n",
              "    <tr>\n",
              "      <th>...</th>\n",
              "      <td>...</td>\n",
              "      <td>...</td>\n",
              "      <td>...</td>\n",
              "    </tr>\n",
              "    <tr>\n",
              "      <th>35553</th>\n",
              "      <td>109829</td>\n",
              "      <td>2021-02-18T10:43:51</td>\n",
              "      <td>2021-02-18T10:43:51</td>\n",
              "    </tr>\n",
              "    <tr>\n",
              "      <th>35559</th>\n",
              "      <td>109832</td>\n",
              "      <td>2021-03-07T15:09:09</td>\n",
              "      <td>2021-03-07T15:09:09</td>\n",
              "    </tr>\n",
              "    <tr>\n",
              "      <th>35570</th>\n",
              "      <td>109836</td>\n",
              "      <td>2021-02-14T10:34:07</td>\n",
              "      <td>2021-02-14T10:34:07</td>\n",
              "    </tr>\n",
              "    <tr>\n",
              "      <th>35572</th>\n",
              "      <td>109837</td>\n",
              "      <td>2021-02-05T13:31:10</td>\n",
              "      <td>2021-02-05T13:31:10</td>\n",
              "    </tr>\n",
              "    <tr>\n",
              "      <th>35578</th>\n",
              "      <td>109838</td>\n",
              "      <td>2021-01-29T01:14:50</td>\n",
              "      <td>2021-01-29T01:14:50</td>\n",
              "    </tr>\n",
              "  </tbody>\n",
              "</table>\n",
              "<p>4957 rows × 3 columns</p>\n",
              "</div>"
            ],
            "text/plain": [
              "       session_id            timestamp   purchase_timestamp\n",
              "2          100001  2021-02-05T08:33:28  2021-02-05T08:33:28\n",
              "7          100003  2021-03-07T12:23:15  2021-03-07T12:23:15\n",
              "18         100006  2021-01-02T15:20:11  2021-01-02T15:20:11\n",
              "21         100007  2021-02-11T19:37:19  2021-02-11T19:37:19\n",
              "27         100010  2021-03-05T17:08:07  2021-03-05T17:08:07\n",
              "...           ...                  ...                  ...\n",
              "35553      109829  2021-02-18T10:43:51  2021-02-18T10:43:51\n",
              "35559      109832  2021-03-07T15:09:09  2021-03-07T15:09:09\n",
              "35570      109836  2021-02-14T10:34:07  2021-02-14T10:34:07\n",
              "35572      109837  2021-02-05T13:31:10  2021-02-05T13:31:10\n",
              "35578      109838  2021-01-29T01:14:50  2021-01-29T01:14:50\n",
              "\n",
              "[4957 rows x 3 columns]"
            ]
          },
          "metadata": {
            "tags": []
          },
          "execution_count": 43
        }
      ]
    },
    {
      "cell_type": "markdown",
      "metadata": {
        "id": "5mwzEG2ofm6v"
      },
      "source": [
        "Liczba otrzymanych rekordów jest równa liczbie rekordów w tabeli z dostawami, co oznacza, że nasza hipoteza została potwierdzona! To oznacza, że kolumna `purchase_timestamp` będzie mogła zostać usunięta po zdenormalizowaniu danych, ponieważ nie wnosi żadnych nowych informacji, które nie są zawarte w kolumnie `timestamp` tabeli z sesjami."
      ]
    },
    {
      "cell_type": "markdown",
      "metadata": {
        "id": "slDtCNi9gtoZ"
      },
      "source": [
        "Ciągle pozostaje kwestia brakujących danych w kolumnach `delivery_timestamp` lub `delivery_company`. Sama kolumna `delivery_timestamp` nie wnosi informacji, które byłyby przydatne w naszym problemie. Można jednak na jej podstawie i z pomocą kolumny `purchase_timestamp` wyznaczyć, jak długo zajęło wysłanie i dostarczenie paczki. Niestety w dalszym ciągu nie będzie to informacja, która będzie miała znaczenie dla naszego problemu. Podobnie jest z kolumną `delivery_company`. Nasz problem polega na przewidywaniu, czy dana sesja użytkownika zakończy się zakupem. Cała tabela z dostawami zawiera informacje, które są uzupełniane dopiero po dokonaniu zakupu, a zatem nie wpływają na decyzję zakupu, ponieważ nie są znane w momencie jej podejmowania. Czysto teoretycznie można by postawić hipotezę: *jeśli dostarczenie ostatniej paczki klienta zajęło dłużej niż 7 dni, to istnieje duża szansa, że ta osoba nic już u nas nie kupi*. Jednak jeśli dana osoba miałaby u nas już nigdy nic nie kupić, to raczej istnieje też duże prawdopodobieństwo, że ktoś taki przestanie całkowicie korzystać ze strony naszego sklepu, a zatem nie pojawią się sesje, gdzie będziemy mogli na podstawie takiego modelu stwierdzić, że nie dojdzie do zakupu.\n",
        "\n",
        "Podsumowując, ze względu na relatywnie duży odsetek wybrakowanych danych, a także bardzo małą ilość informacji, które można z nich uzyskać, które byłyby istotne dla naszego problemu, podjęliśmy decyzję o całkowitym odrzuceniu tabeli z dostawami."
      ]
    },
    {
      "cell_type": "markdown",
      "metadata": {
        "id": "EM7nB5C4DQ_7"
      },
      "source": [
        "### Sesje"
      ]
    },
    {
      "cell_type": "code",
      "metadata": {
        "id": "ipEXQSo844-k",
        "colab": {
          "base_uri": "https://localhost:8080/",
          "height": 419
        },
        "outputId": "00f40613-8dbf-408e-d56e-13fadfad183a"
      },
      "source": [
        "sessions"
      ],
      "execution_count": 44,
      "outputs": [
        {
          "output_type": "execute_result",
          "data": {
            "text/html": [
              "<div>\n",
              "<style scoped>\n",
              "    .dataframe tbody tr th:only-of-type {\n",
              "        vertical-align: middle;\n",
              "    }\n",
              "\n",
              "    .dataframe tbody tr th {\n",
              "        vertical-align: top;\n",
              "    }\n",
              "\n",
              "    .dataframe thead th {\n",
              "        text-align: right;\n",
              "    }\n",
              "</style>\n",
              "<table border=\"1\" class=\"dataframe\">\n",
              "  <thead>\n",
              "    <tr style=\"text-align: right;\">\n",
              "      <th></th>\n",
              "      <th>session_id</th>\n",
              "      <th>timestamp</th>\n",
              "      <th>user_id</th>\n",
              "      <th>product_id</th>\n",
              "      <th>event_type</th>\n",
              "      <th>offered_discount</th>\n",
              "      <th>purchase_id</th>\n",
              "    </tr>\n",
              "  </thead>\n",
              "  <tbody>\n",
              "    <tr>\n",
              "      <th>0</th>\n",
              "      <td>100001</td>\n",
              "      <td>2021-02-05T08:25:04</td>\n",
              "      <td>102</td>\n",
              "      <td>1035</td>\n",
              "      <td>VIEW_PRODUCT</td>\n",
              "      <td>5</td>\n",
              "      <td>&lt;NA&gt;</td>\n",
              "    </tr>\n",
              "    <tr>\n",
              "      <th>1</th>\n",
              "      <td>100001</td>\n",
              "      <td>2021-02-05T08:29:54</td>\n",
              "      <td>102</td>\n",
              "      <td>1067</td>\n",
              "      <td>VIEW_PRODUCT</td>\n",
              "      <td>5</td>\n",
              "      <td>&lt;NA&gt;</td>\n",
              "    </tr>\n",
              "    <tr>\n",
              "      <th>2</th>\n",
              "      <td>100001</td>\n",
              "      <td>2021-02-05T08:33:28</td>\n",
              "      <td>102</td>\n",
              "      <td>1067</td>\n",
              "      <td>BUY_PRODUCT</td>\n",
              "      <td>5</td>\n",
              "      <td>20001</td>\n",
              "    </tr>\n",
              "    <tr>\n",
              "      <th>3</th>\n",
              "      <td>100002</td>\n",
              "      <td>2021-02-27T05:58:42</td>\n",
              "      <td>102</td>\n",
              "      <td>1201</td>\n",
              "      <td>VIEW_PRODUCT</td>\n",
              "      <td>0</td>\n",
              "      <td>&lt;NA&gt;</td>\n",
              "    </tr>\n",
              "    <tr>\n",
              "      <th>4</th>\n",
              "      <td>100002</td>\n",
              "      <td>2021-02-27T06:02:00</td>\n",
              "      <td>102</td>\n",
              "      <td>1074</td>\n",
              "      <td>VIEW_PRODUCT</td>\n",
              "      <td>0</td>\n",
              "      <td>&lt;NA&gt;</td>\n",
              "    </tr>\n",
              "    <tr>\n",
              "      <th>...</th>\n",
              "      <td>...</td>\n",
              "      <td>...</td>\n",
              "      <td>...</td>\n",
              "      <td>...</td>\n",
              "      <td>...</td>\n",
              "      <td>...</td>\n",
              "      <td>...</td>\n",
              "    </tr>\n",
              "    <tr>\n",
              "      <th>35574</th>\n",
              "      <td>109838</td>\n",
              "      <td>2021-01-29T01:08:33</td>\n",
              "      <td>301</td>\n",
              "      <td>1044</td>\n",
              "      <td>VIEW_PRODUCT</td>\n",
              "      <td>0</td>\n",
              "      <td>&lt;NA&gt;</td>\n",
              "    </tr>\n",
              "    <tr>\n",
              "      <th>35575</th>\n",
              "      <td>109838</td>\n",
              "      <td>2021-01-29T01:09:27</td>\n",
              "      <td>301</td>\n",
              "      <td>1084</td>\n",
              "      <td>VIEW_PRODUCT</td>\n",
              "      <td>0</td>\n",
              "      <td>&lt;NA&gt;</td>\n",
              "    </tr>\n",
              "    <tr>\n",
              "      <th>35576</th>\n",
              "      <td>109838</td>\n",
              "      <td>2021-01-29T01:10:23</td>\n",
              "      <td>301</td>\n",
              "      <td>1041</td>\n",
              "      <td>VIEW_PRODUCT</td>\n",
              "      <td>0</td>\n",
              "      <td>&lt;NA&gt;</td>\n",
              "    </tr>\n",
              "    <tr>\n",
              "      <th>35577</th>\n",
              "      <td>109838</td>\n",
              "      <td>2021-01-29T01:14:41</td>\n",
              "      <td>301</td>\n",
              "      <td>1046</td>\n",
              "      <td>VIEW_PRODUCT</td>\n",
              "      <td>0</td>\n",
              "      <td>&lt;NA&gt;</td>\n",
              "    </tr>\n",
              "    <tr>\n",
              "      <th>35578</th>\n",
              "      <td>109838</td>\n",
              "      <td>2021-01-29T01:14:50</td>\n",
              "      <td>301</td>\n",
              "      <td>1046</td>\n",
              "      <td>BUY_PRODUCT</td>\n",
              "      <td>0</td>\n",
              "      <td>24957</td>\n",
              "    </tr>\n",
              "  </tbody>\n",
              "</table>\n",
              "<p>35579 rows × 7 columns</p>\n",
              "</div>"
            ],
            "text/plain": [
              "       session_id            timestamp  ...  offered_discount  purchase_id\n",
              "0          100001  2021-02-05T08:25:04  ...                 5         <NA>\n",
              "1          100001  2021-02-05T08:29:54  ...                 5         <NA>\n",
              "2          100001  2021-02-05T08:33:28  ...                 5        20001\n",
              "3          100002  2021-02-27T05:58:42  ...                 0         <NA>\n",
              "4          100002  2021-02-27T06:02:00  ...                 0         <NA>\n",
              "...           ...                  ...  ...               ...          ...\n",
              "35574      109838  2021-01-29T01:08:33  ...                 0         <NA>\n",
              "35575      109838  2021-01-29T01:09:27  ...                 0         <NA>\n",
              "35576      109838  2021-01-29T01:10:23  ...                 0         <NA>\n",
              "35577      109838  2021-01-29T01:14:41  ...                 0         <NA>\n",
              "35578      109838  2021-01-29T01:14:50  ...                 0        24957\n",
              "\n",
              "[35579 rows x 7 columns]"
            ]
          },
          "metadata": {
            "tags": []
          },
          "execution_count": 44
        }
      ]
    },
    {
      "cell_type": "markdown",
      "metadata": {
        "id": "cms0EmMz9LuG"
      },
      "source": [
        "Mając na uwadze nasze postanowienie o całkowitym odrzuceniu tabeli z dostawami możemy się pozbyć kolumny `purchase_id`."
      ]
    },
    {
      "cell_type": "code",
      "metadata": {
        "id": "anJVHBS_-PY1"
      },
      "source": [
        "sessions.drop('purchase_id', 1, inplace=True)"
      ],
      "execution_count": 45,
      "outputs": []
    },
    {
      "cell_type": "code",
      "metadata": {
        "id": "lX8k3Cht89DH",
        "colab": {
          "base_uri": "https://localhost:8080/"
        },
        "outputId": "6ac028a9-3b56-49ca-f23d-b1b3e3537d32"
      },
      "source": [
        "get_null_count(sessions, 'timestamp')"
      ],
      "execution_count": 46,
      "outputs": [
        {
          "output_type": "execute_result",
          "data": {
            "text/plain": [
              "0"
            ]
          },
          "metadata": {
            "tags": []
          },
          "execution_count": 46
        }
      ]
    },
    {
      "cell_type": "code",
      "metadata": {
        "id": "vwcsXZBW9C6u",
        "colab": {
          "base_uri": "https://localhost:8080/"
        },
        "outputId": "8c7db4f0-2c75-4519-91f8-0a990f441167"
      },
      "source": [
        "get_null_count(sessions, 'user_id')"
      ],
      "execution_count": 47,
      "outputs": [
        {
          "output_type": "execute_result",
          "data": {
            "text/plain": [
              "1788"
            ]
          },
          "metadata": {
            "tags": []
          },
          "execution_count": 47
        }
      ]
    },
    {
      "cell_type": "code",
      "metadata": {
        "id": "UZt0JzHI9EfI",
        "colab": {
          "base_uri": "https://localhost:8080/"
        },
        "outputId": "a177d3aa-6b64-40bd-dddd-42623a5448f5"
      },
      "source": [
        "get_null_count(sessions, 'product_id')"
      ],
      "execution_count": 48,
      "outputs": [
        {
          "output_type": "execute_result",
          "data": {
            "text/plain": [
              "1741"
            ]
          },
          "metadata": {
            "tags": []
          },
          "execution_count": 48
        }
      ]
    },
    {
      "cell_type": "code",
      "metadata": {
        "id": "MxqI8VeC9E8t",
        "colab": {
          "base_uri": "https://localhost:8080/"
        },
        "outputId": "1ea372a2-2985-4355-d969-03e9e9b892e1"
      },
      "source": [
        "get_null_count(sessions, 'event_type')"
      ],
      "execution_count": 49,
      "outputs": [
        {
          "output_type": "execute_result",
          "data": {
            "text/plain": [
              "0"
            ]
          },
          "metadata": {
            "tags": []
          },
          "execution_count": 49
        }
      ]
    },
    {
      "cell_type": "code",
      "metadata": {
        "id": "dlO23De39FkR",
        "colab": {
          "base_uri": "https://localhost:8080/"
        },
        "outputId": "d8e30674-321a-4d26-c1cb-4ac426d295f9"
      },
      "source": [
        "get_null_count(sessions, 'offered_discount')"
      ],
      "execution_count": 50,
      "outputs": [
        {
          "output_type": "execute_result",
          "data": {
            "text/plain": [
              "0"
            ]
          },
          "metadata": {
            "tags": []
          },
          "execution_count": 50
        }
      ]
    },
    {
      "cell_type": "code",
      "metadata": {
        "id": "wauZvEPI-oFF",
        "colab": {
          "base_uri": "https://localhost:8080/"
        },
        "outputId": "7ba913b3-759c-462a-a2a7-99e85a3f2f6b"
      },
      "source": [
        "get_total_null_count(sessions)"
      ],
      "execution_count": 51,
      "outputs": [
        {
          "output_type": "execute_result",
          "data": {
            "text/plain": [
              "3440"
            ]
          },
          "metadata": {
            "tags": []
          },
          "execution_count": 51
        }
      ]
    },
    {
      "cell_type": "markdown",
      "metadata": {
        "id": "aM_J0ZEx_JUf"
      },
      "source": [
        "Jak widać, tylko kolumny `user_id` oraz `product_id` posiadają brakujące dane. Zauważyliśmy jednak, że pojedyncza sesja może posiadać kilka wpisów. Wiemy także, że jedna sesja dotyczy zawsze tylko jednego użytkownika (a przynajmniej się tego domyślamy, ale to także przy okazji sprawdzimy). Możemy w takim razie uzupełnić brakujące dane w kolumnie `user_id` poprzez sprawdzenie, jaka wartość znajduje się w innych wierszach dotyczących tej samej sesji (posiadający tą samą wartość `session_id`)."
      ]
    },
    {
      "cell_type": "code",
      "metadata": {
        "id": "z4R93_A2VWOl",
        "colab": {
          "base_uri": "https://localhost:8080/"
        },
        "outputId": "044aaa86-0fa3-4ea1-933b-c1b97792704c"
      },
      "source": [
        "for i, s in sessions[sessions.user_id.isnull()].iterrows():\n",
        "    rec_id = -1\n",
        "    for j, r in sessions[sessions.session_id == s.session_id].iterrows():\n",
        "        if not pd.isnull(r.user_id):\n",
        "            if rec_id == -1 or rec_id == r.user_id:\n",
        "                rec_id = r.user_id\n",
        "            else: \n",
        "                raise Exception(\"Two distinct users in one session\")\n",
        "    if rec_id != -1:\n",
        "        sessions.at[i, 'user_id'] = rec_id\n",
        "\n",
        "get_null_count(sessions, 'user_id')"
      ],
      "execution_count": 52,
      "outputs": [
        {
          "output_type": "execute_result",
          "data": {
            "text/plain": [
              "120"
            ]
          },
          "metadata": {
            "tags": []
          },
          "execution_count": 52
        }
      ]
    },
    {
      "cell_type": "code",
      "metadata": {
        "id": "Tx0BmUpoYoRe",
        "colab": {
          "base_uri": "https://localhost:8080/"
        },
        "outputId": "bc86b86e-6808-4296-facd-1aef2c279a62"
      },
      "source": [
        "sessions[sessions.user_id.isnull()].session_id.nunique()"
      ],
      "execution_count": 53,
      "outputs": [
        {
          "output_type": "execute_result",
          "data": {
            "text/plain": [
              "107"
            ]
          },
          "metadata": {
            "tags": []
          },
          "execution_count": 53
        }
      ]
    },
    {
      "cell_type": "code",
      "metadata": {
        "id": "Rblg-XmMXDZ5",
        "colab": {
          "base_uri": "https://localhost:8080/"
        },
        "outputId": "edd5c2db-3de9-4b3f-c269-2dfa936e0272"
      },
      "source": [
        "sessions.session_id.nunique()"
      ],
      "execution_count": 54,
      "outputs": [
        {
          "output_type": "execute_result",
          "data": {
            "text/plain": [
              "9838"
            ]
          },
          "metadata": {
            "tags": []
          },
          "execution_count": 54
        }
      ]
    },
    {
      "cell_type": "markdown",
      "metadata": {
        "id": "8SGLxAvbcXa2"
      },
      "source": [
        "Niestety w dalszym ciągu nie udało nam się pozbyć brakujących wartości w kolumnie `user_id`. Całe szczęście sesje, które nie posiadają ani jednej wartości we wspomnianej kolumnie stanowią mniej niż 1.1% wszystkich sesji, a zatem nic nie stoi na przeszkodzie, aby całkowicie je usunąć z naszego zbioru."
      ]
    },
    {
      "cell_type": "code",
      "metadata": {
        "id": "QMCH3Ttofv_4"
      },
      "source": [
        "sessions.drop(sessions[sessions.user_id.isnull()].index, inplace=True)"
      ],
      "execution_count": 55,
      "outputs": []
    },
    {
      "cell_type": "code",
      "metadata": {
        "id": "XtnWxeWGgcOb",
        "colab": {
          "base_uri": "https://localhost:8080/"
        },
        "outputId": "3c3e96c6-d716-4e7e-eb7b-5559c0871185"
      },
      "source": [
        "sessions[sessions.product_id.isnull()].session_id.nunique()"
      ],
      "execution_count": 56,
      "outputs": [
        {
          "output_type": "execute_result",
          "data": {
            "text/plain": [
              "1550"
            ]
          },
          "metadata": {
            "tags": []
          },
          "execution_count": 56
        }
      ]
    },
    {
      "cell_type": "markdown",
      "metadata": {
        "id": "Wd6ZJmX0ghWw"
      },
      "source": [
        "Nie zmienia to jednak faktu, że w dalszym ciągu prawie 16% sesji posiada co najmniej jedną brakującą wartość w kolumnie `product_id`, której nie można w podobny sposób odzyskać. Nie możemy się pozbyć całej kolumny, ponieważ jest kluczowa dla naszego problemu. Jeśli nie otrzymamy lepszych danych, będziemy zmuszeni pozbyć się wszystkich sesji, którym brakuje co najmniej jednej wartości w kolumnie `product_id`. Nie możemy usunąć pojedynczych wpisów z brakującymi wartościami, ponieważ spowoduje to *zmodyfikowanie sesji*, a taka sytuacja prawdopodobnie o wiele bardziej odbije się na jakości naszego modelu niż usunięcie całych sesji."
      ]
    },
    {
      "cell_type": "code",
      "metadata": {
        "id": "2ytDmVIF5XK5",
        "colab": {
          "base_uri": "https://localhost:8080/",
          "height": 352
        },
        "outputId": "189fdbf2-e20e-42b7-c0a9-fd54ebfdd048"
      },
      "source": [
        "get_pmf_data(sessions.event_type).plot(kind='bar')"
      ],
      "execution_count": 57,
      "outputs": [
        {
          "output_type": "execute_result",
          "data": {
            "text/plain": [
              "<matplotlib.axes._subplots.AxesSubplot at 0x7fc672aee190>"
            ]
          },
          "metadata": {
            "tags": []
          },
          "execution_count": 57
        },
        {
          "output_type": "display_data",
          "data": {
            "image/png": "[encoded data removed]",
            "text/plain": [
              "<Figure size 432x288 with 1 Axes>"
            ]
          },
          "metadata": {
            "tags": [],
            "needs_background": "light"
          }
        }
      ]
    },
    {
      "cell_type": "code",
      "metadata": {
        "id": "G55aG2FKjQXJ"
      },
      "source": [
        "success = 0\n",
        "fail = 0\n",
        "visited = []\n",
        "for i, s in sessions.iterrows():\n",
        "    buy = False\n",
        "    if s.session_id not in visited:\n",
        "        visited.append(s.session_id)\n",
        "        for j, r in sessions[sessions.session_id == s.session_id].iterrows():\n",
        "            if r.event_type == 'BUY_PRODUCT':\n",
        "                buy = True\n",
        "        if buy:\n",
        "            success += 1\n",
        "        else:\n",
        "            fail += 1\n"
      ],
      "execution_count": 58,
      "outputs": []
    },
    {
      "cell_type": "code",
      "metadata": {
        "id": "JkC2oPcbmZS-",
        "colab": {
          "base_uri": "https://localhost:8080/",
          "height": 352
        },
        "outputId": "01d12249-e092-4f02-c96b-dbcbd6fff64c"
      },
      "source": [
        "print(f'Success: {success}')\n",
        "print(f'Fail: {fail}')\n",
        "all = success + fail\n",
        "pd.Series({\"SUCCESS\": success/all, \"FAIL\": fail/all}).plot(kind='bar')"
      ],
      "execution_count": 59,
      "outputs": [
        {
          "output_type": "stream",
          "text": [
            "Success: 4951\n",
            "Fail: 4780\n"
          ],
          "name": "stdout"
        },
        {
          "output_type": "execute_result",
          "data": {
            "text/plain": [
              "<matplotlib.axes._subplots.AxesSubplot at 0x7fc673b4e310>"
            ]
          },
          "metadata": {
            "tags": []
          },
          "execution_count": 59
        },
        {
          "output_type": "display_data",
          "data": {
            "image/png": "[encoded data removed]",
            "text/plain": [
              "<Figure size 432x288 with 1 Axes>"
            ]
          },
          "metadata": {
            "tags": [],
            "needs_background": "light"
          }
        }
      ]
    },
    {
      "cell_type": "markdown",
      "metadata": {
        "id": "C7-26NL1i6Eu"
      },
      "source": [
        "Z powyższego wykresu wynika, że mniej więcej równo połowa sesji zakończyła się zakupem. Jest to bardzo dobra wiadomość, ponieważ nie będziemy musieli stosować under/oversamplingu."
      ]
    },
    {
      "cell_type": "code",
      "metadata": {
        "id": "7bHvJQCqDVRN",
        "colab": {
          "base_uri": "https://localhost:8080/",
          "height": 285
        },
        "outputId": "c7fcc564-7486-4dc0-e8d2-c62e34fb39a8"
      },
      "source": [
        "get_pmf_data(sessions.offered_discount).plot(kind='bar')"
      ],
      "execution_count": 60,
      "outputs": [
        {
          "output_type": "execute_result",
          "data": {
            "text/plain": [
              "<matplotlib.axes._subplots.AxesSubplot at 0x7fc673b43550>"
            ]
          },
          "metadata": {
            "tags": []
          },
          "execution_count": 60
        },
        {
          "output_type": "display_data",
          "data": {
            "image/png": "[encoded data removed]",
            "text/plain": [
              "<Figure size 432x288 with 1 Axes>"
            ]
          },
          "metadata": {
            "tags": [],
            "needs_background": "light"
          }
        }
      ]
    },
    {
      "cell_type": "code",
      "metadata": {
        "id": "BkBMdw65o0A5"
      },
      "source": [
        "sessions.timestamp = pd.to_datetime(sessions.timestamp)\n",
        "sessions['hour'] = sessions.timestamp.dt.hour\n",
        "sessions['weekday'] = sessions.timestamp.dt.day_name()"
      ],
      "execution_count": 61,
      "outputs": []
    },
    {
      "cell_type": "code",
      "metadata": {
        "id": "w2-OEA5mtXvk",
        "colab": {
          "base_uri": "https://localhost:8080/",
          "height": 283
        },
        "outputId": "fe6fad3e-aac2-42cb-e063-c959485f7db6"
      },
      "source": [
        "sessions.timestamp.hist(bins=74)"
      ],
      "execution_count": 62,
      "outputs": [
        {
          "output_type": "execute_result",
          "data": {
            "text/plain": [
              "<matplotlib.axes._subplots.AxesSubplot at 0x7fc6726107d0>"
            ]
          },
          "metadata": {
            "tags": []
          },
          "execution_count": 62
        },
        {
          "output_type": "display_data",
          "data": {
            "image/png": "[encoded data removed]",
            "text/plain": [
              "<Figure size 432x288 with 1 Axes>"
            ]
          },
          "metadata": {
            "tags": [],
            "needs_background": "light"
          }
        }
      ]
    },
    {
      "cell_type": "code",
      "metadata": {
        "id": "RtPhBEvo2BAa",
        "colab": {
          "base_uri": "https://localhost:8080/",
          "height": 282
        },
        "outputId": "4c818488-1126-4b66-f665-e9000656bd02"
      },
      "source": [
        "sessions.hour.hist(bins=24)"
      ],
      "execution_count": 63,
      "outputs": [
        {
          "output_type": "execute_result",
          "data": {
            "text/plain": [
              "<matplotlib.axes._subplots.AxesSubplot at 0x7fc6725ce290>"
            ]
          },
          "metadata": {
            "tags": []
          },
          "execution_count": 63
        },
        {
          "output_type": "display_data",
          "data": {
            "image/png": "[encoded data removed]",
            "text/plain": [
              "<Figure size 432x288 with 1 Axes>"
            ]
          },
          "metadata": {
            "tags": [],
            "needs_background": "light"
          }
        }
      ]
    },
    {
      "cell_type": "code",
      "metadata": {
        "id": "v7WBLxcg2Qcz",
        "colab": {
          "base_uri": "https://localhost:8080/",
          "height": 330
        },
        "outputId": "57614620-83be-42e7-b8c7-0e2807f213e5"
      },
      "source": [
        "get_pmf_data(sessions.weekday).plot(kind='bar')"
      ],
      "execution_count": 64,
      "outputs": [
        {
          "output_type": "execute_result",
          "data": {
            "text/plain": [
              "<matplotlib.axes._subplots.AxesSubplot at 0x7fc67253aa90>"
            ]
          },
          "metadata": {
            "tags": []
          },
          "execution_count": 64
        },
        {
          "output_type": "display_data",
          "data": {
            "image/png": "[encoded data removed]",
            "text/plain": [
              "<Figure size 432x288 with 1 Axes>"
            ]
          },
          "metadata": {
            "tags": [],
            "needs_background": "light"
          }
        }
      ]
    },
    {
      "cell_type": "markdown",
      "metadata": {
        "id": "ErQARPul6bUd"
      },
      "source": [
        "## Denormalizacja\n",
        "\n"
      ]
    },
    {
      "cell_type": "code",
      "metadata": {
        "id": "IGDgtWqu2Bhe"
      },
      "source": [
        "data = sessions.merge(users, how='left', on='user_id').merge(products, how='left', on='product_id')"
      ],
      "execution_count": 65,
      "outputs": []
    },
    {
      "cell_type": "code",
      "metadata": {
        "id": "z7DjK5yr0qTn",
        "colab": {
          "base_uri": "https://localhost:8080/",
          "height": 0
        },
        "outputId": "5d909ab1-add0-4bc3-f7fc-4bd353e423d9"
      },
      "source": [
        "data"
      ],
      "execution_count": 66,
      "outputs": [
        {
          "output_type": "execute_result",
          "data": {
            "text/html": [
              "<div>\n",
              "<style scoped>\n",
              "    .dataframe tbody tr th:only-of-type {\n",
              "        vertical-align: middle;\n",
              "    }\n",
              "\n",
              "    .dataframe tbody tr th {\n",
              "        vertical-align: top;\n",
              "    }\n",
              "\n",
              "    .dataframe thead th {\n",
              "        text-align: right;\n",
              "    }\n",
              "</style>\n",
              "<table border=\"1\" class=\"dataframe\">\n",
              "  <thead>\n",
              "    <tr style=\"text-align: right;\">\n",
              "      <th></th>\n",
              "      <th>session_id</th>\n",
              "      <th>timestamp</th>\n",
              "      <th>user_id</th>\n",
              "      <th>product_id</th>\n",
              "      <th>event_type</th>\n",
              "      <th>offered_discount</th>\n",
              "      <th>hour</th>\n",
              "      <th>weekday</th>\n",
              "      <th>city</th>\n",
              "      <th>gender</th>\n",
              "      <th>category_path</th>\n",
              "      <th>price</th>\n",
              "      <th>price_log</th>\n",
              "    </tr>\n",
              "  </thead>\n",
              "  <tbody>\n",
              "    <tr>\n",
              "      <th>0</th>\n",
              "      <td>100001</td>\n",
              "      <td>2021-02-05 08:25:04</td>\n",
              "      <td>102</td>\n",
              "      <td>1035</td>\n",
              "      <td>VIEW_PRODUCT</td>\n",
              "      <td>5</td>\n",
              "      <td>8</td>\n",
              "      <td>Friday</td>\n",
              "      <td>Kutno</td>\n",
              "      <td>M</td>\n",
              "      <td>Telefony i akcesoria;Telefony komórkowe</td>\n",
              "      <td>2199.90</td>\n",
              "      <td>3.342403</td>\n",
              "    </tr>\n",
              "    <tr>\n",
              "      <th>1</th>\n",
              "      <td>100001</td>\n",
              "      <td>2021-02-05 08:29:54</td>\n",
              "      <td>102</td>\n",
              "      <td>1067</td>\n",
              "      <td>VIEW_PRODUCT</td>\n",
              "      <td>5</td>\n",
              "      <td>8</td>\n",
              "      <td>Friday</td>\n",
              "      <td>Kutno</td>\n",
              "      <td>M</td>\n",
              "      <td>Telefony i akcesoria;Telefony komórkowe</td>\n",
              "      <td>207.33</td>\n",
              "      <td>2.316662</td>\n",
              "    </tr>\n",
              "    <tr>\n",
              "      <th>2</th>\n",
              "      <td>100001</td>\n",
              "      <td>2021-02-05 08:33:28</td>\n",
              "      <td>102</td>\n",
              "      <td>1067</td>\n",
              "      <td>BUY_PRODUCT</td>\n",
              "      <td>5</td>\n",
              "      <td>8</td>\n",
              "      <td>Friday</td>\n",
              "      <td>Kutno</td>\n",
              "      <td>M</td>\n",
              "      <td>Telefony i akcesoria;Telefony komórkowe</td>\n",
              "      <td>207.33</td>\n",
              "      <td>2.316662</td>\n",
              "    </tr>\n",
              "    <tr>\n",
              "      <th>3</th>\n",
              "      <td>100002</td>\n",
              "      <td>2021-02-27 05:58:42</td>\n",
              "      <td>102</td>\n",
              "      <td>1201</td>\n",
              "      <td>VIEW_PRODUCT</td>\n",
              "      <td>0</td>\n",
              "      <td>5</td>\n",
              "      <td>Saturday</td>\n",
              "      <td>Kutno</td>\n",
              "      <td>M</td>\n",
              "      <td>Telefony i akcesoria;Akcesoria telefoniczne;Ze...</td>\n",
              "      <td>327.47</td>\n",
              "      <td>2.515172</td>\n",
              "    </tr>\n",
              "    <tr>\n",
              "      <th>4</th>\n",
              "      <td>100002</td>\n",
              "      <td>2021-02-27 06:02:00</td>\n",
              "      <td>102</td>\n",
              "      <td>1074</td>\n",
              "      <td>VIEW_PRODUCT</td>\n",
              "      <td>0</td>\n",
              "      <td>6</td>\n",
              "      <td>Saturday</td>\n",
              "      <td>Kutno</td>\n",
              "      <td>M</td>\n",
              "      <td>Telefony i akcesoria;Akcesoria telefoniczne;Ze...</td>\n",
              "      <td>86.28</td>\n",
              "      <td>1.935910</td>\n",
              "    </tr>\n",
              "    <tr>\n",
              "      <th>...</th>\n",
              "      <td>...</td>\n",
              "      <td>...</td>\n",
              "      <td>...</td>\n",
              "      <td>...</td>\n",
              "      <td>...</td>\n",
              "      <td>...</td>\n",
              "      <td>...</td>\n",
              "      <td>...</td>\n",
              "      <td>...</td>\n",
              "      <td>...</td>\n",
              "      <td>...</td>\n",
              "      <td>...</td>\n",
              "      <td>...</td>\n",
              "    </tr>\n",
              "    <tr>\n",
              "      <th>35454</th>\n",
              "      <td>109838</td>\n",
              "      <td>2021-01-29 01:08:33</td>\n",
              "      <td>301</td>\n",
              "      <td>1044</td>\n",
              "      <td>VIEW_PRODUCT</td>\n",
              "      <td>0</td>\n",
              "      <td>1</td>\n",
              "      <td>Friday</td>\n",
              "      <td>Gdynia</td>\n",
              "      <td>M</td>\n",
              "      <td>Gry i konsole;Gry na konsole;Gry PlayStation3</td>\n",
              "      <td>79.90</td>\n",
              "      <td>1.902547</td>\n",
              "    </tr>\n",
              "    <tr>\n",
              "      <th>35455</th>\n",
              "      <td>109838</td>\n",
              "      <td>2021-01-29 01:09:27</td>\n",
              "      <td>301</td>\n",
              "      <td>1084</td>\n",
              "      <td>VIEW_PRODUCT</td>\n",
              "      <td>0</td>\n",
              "      <td>1</td>\n",
              "      <td>Friday</td>\n",
              "      <td>Gdynia</td>\n",
              "      <td>M</td>\n",
              "      <td>Gry i konsole;Gry na konsole;Gry PlayStation3</td>\n",
              "      <td>99.99</td>\n",
              "      <td>1.999957</td>\n",
              "    </tr>\n",
              "    <tr>\n",
              "      <th>35456</th>\n",
              "      <td>109838</td>\n",
              "      <td>2021-01-29 01:10:23</td>\n",
              "      <td>301</td>\n",
              "      <td>1041</td>\n",
              "      <td>VIEW_PRODUCT</td>\n",
              "      <td>0</td>\n",
              "      <td>1</td>\n",
              "      <td>Friday</td>\n",
              "      <td>Gdynia</td>\n",
              "      <td>M</td>\n",
              "      <td>Gry i konsole;Gry na konsole;Gry PlayStation3</td>\n",
              "      <td>79.90</td>\n",
              "      <td>1.902547</td>\n",
              "    </tr>\n",
              "    <tr>\n",
              "      <th>35457</th>\n",
              "      <td>109838</td>\n",
              "      <td>2021-01-29 01:14:41</td>\n",
              "      <td>301</td>\n",
              "      <td>1046</td>\n",
              "      <td>VIEW_PRODUCT</td>\n",
              "      <td>0</td>\n",
              "      <td>1</td>\n",
              "      <td>Friday</td>\n",
              "      <td>Gdynia</td>\n",
              "      <td>M</td>\n",
              "      <td>Gry i konsole;Gry na konsole;Gry PlayStation3</td>\n",
              "      <td>61.18</td>\n",
              "      <td>1.786609</td>\n",
              "    </tr>\n",
              "    <tr>\n",
              "      <th>35458</th>\n",
              "      <td>109838</td>\n",
              "      <td>2021-01-29 01:14:50</td>\n",
              "      <td>301</td>\n",
              "      <td>1046</td>\n",
              "      <td>BUY_PRODUCT</td>\n",
              "      <td>0</td>\n",
              "      <td>1</td>\n",
              "      <td>Friday</td>\n",
              "      <td>Gdynia</td>\n",
              "      <td>M</td>\n",
              "      <td>Gry i konsole;Gry na konsole;Gry PlayStation3</td>\n",
              "      <td>61.18</td>\n",
              "      <td>1.786609</td>\n",
              "    </tr>\n",
              "  </tbody>\n",
              "</table>\n",
              "<p>35459 rows × 13 columns</p>\n",
              "</div>"
            ],
            "text/plain": [
              "       session_id           timestamp  ...    price  price_log\n",
              "0          100001 2021-02-05 08:25:04  ...  2199.90   3.342403\n",
              "1          100001 2021-02-05 08:29:54  ...   207.33   2.316662\n",
              "2          100001 2021-02-05 08:33:28  ...   207.33   2.316662\n",
              "3          100002 2021-02-27 05:58:42  ...   327.47   2.515172\n",
              "4          100002 2021-02-27 06:02:00  ...    86.28   1.935910\n",
              "...           ...                 ...  ...      ...        ...\n",
              "35454      109838 2021-01-29 01:08:33  ...    79.90   1.902547\n",
              "35455      109838 2021-01-29 01:09:27  ...    99.99   1.999957\n",
              "35456      109838 2021-01-29 01:10:23  ...    79.90   1.902547\n",
              "35457      109838 2021-01-29 01:14:41  ...    61.18   1.786609\n",
              "35458      109838 2021-01-29 01:14:50  ...    61.18   1.786609\n",
              "\n",
              "[35459 rows x 13 columns]"
            ]
          },
          "metadata": {
            "tags": []
          },
          "execution_count": 66
        }
      ]
    }
  ]
}